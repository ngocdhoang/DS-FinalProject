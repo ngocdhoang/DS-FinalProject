{
 "cells": [
  {
   "cell_type": "raw",
   "metadata": {},
   "source": [
    "# Problem Statement: To identify which marketing channel yields the most efficient result based on data collected by Google Adwords, Bing, DCM and Facebook Business Manager, from 2014 to present. Identify opportunities to reduce cost from the predicted result. "
   ]
  },
  {
   "cell_type": "raw",
   "metadata": {},
   "source": [
    "# Hypothesis: client spend the most on Paid Search so Paid Search channel would yield the best result."
   ]
  },
  {
   "cell_type": "raw",
   "metadata": {
    "collapsed": true
   },
   "source": [
    "# Potential Method: To use regression models(linear regressions, random forest regressor ) to predict number of CLICKS that each channel has, evaluate models, then determine the CTR and compare it with actual result."
   ]
  },
  {
   "cell_type": "raw",
   "metadata": {},
   "source": [
    "# Available data: Data from each Media type (channel) collected by engines (source of truth). Spend, Device that users use to click the ad, geo, vendor that host campaigns, campaigns types, month since different month might have hidden factors that influence clicks, region, how campaigns are targeted."
   ]
  },
  {
   "cell_type": "raw",
   "metadata": {},
   "source": [
    "# Risks: even though click might not be a good indicator of efficiency (Conversion is), but with the data that we have, clicks is a good starting point.\n"
   ]
  },
  {
   "cell_type": "raw",
   "metadata": {
    "collapsed": true
   },
   "source": [
    "# Goal: To be able to predict numbers of clicks for the upcoming months and to come up with a budget that maximizes result"
   ]
  },
  {
   "cell_type": "code",
   "execution_count": 28,
   "metadata": {
    "collapsed": true
   },
   "outputs": [],
   "source": [
    "%matplotlib inline\n",
    "import numpy as np\n",
    "import pandas as pd\n",
    "from matplotlib import pyplot as plt\n",
    "import seaborn as sns\n",
    "import sklearn.linear_model\n",
    "import seaborn as sb\n",
    "\n",
    "\n",
    "#Read file\n",
    "search_df = pd.read_csv('Search data.csv')"
   ]
  },
  {
   "cell_type": "code",
   "execution_count": 29,
   "metadata": {
    "collapsed": true
   },
   "outputs": [],
   "source": [
    "search_df['CPC'] = search_df[\"Cost\"]/search_df[\"Clicks\"]"
   ]
  },
  {
   "cell_type": "code",
   "execution_count": 30,
   "metadata": {
    "collapsed": false
   },
   "outputs": [
    {
     "data": {
      "text/html": [
       "<div>\n",
       "<table border=\"1\" class=\"dataframe\">\n",
       "  <thead>\n",
       "    <tr style=\"text-align: right;\">\n",
       "      <th></th>\n",
       "      <th>Date</th>\n",
       "      <th>Media Type</th>\n",
       "      <th>Device</th>\n",
       "      <th>Targeting</th>\n",
       "      <th>Region</th>\n",
       "      <th>Vendor</th>\n",
       "      <th>Campaign Type</th>\n",
       "      <th>Cost</th>\n",
       "      <th>Clicks</th>\n",
       "      <th>CPC</th>\n",
       "    </tr>\n",
       "  </thead>\n",
       "  <tbody>\n",
       "    <tr>\n",
       "      <th>0</th>\n",
       "      <td>2009-06-09</td>\n",
       "      <td>Search</td>\n",
       "      <td>Desktop</td>\n",
       "      <td>NB</td>\n",
       "      <td>AMS</td>\n",
       "      <td>Google</td>\n",
       "      <td>Legacy</td>\n",
       "      <td>0.0</td>\n",
       "      <td>0</td>\n",
       "      <td>NaN</td>\n",
       "    </tr>\n",
       "    <tr>\n",
       "      <th>1</th>\n",
       "      <td>2009-06-18</td>\n",
       "      <td>Display</td>\n",
       "      <td>Desktop</td>\n",
       "      <td>Reach</td>\n",
       "      <td>AMS</td>\n",
       "      <td>Google</td>\n",
       "      <td>Reach</td>\n",
       "      <td>0.0</td>\n",
       "      <td>0</td>\n",
       "      <td>NaN</td>\n",
       "    </tr>\n",
       "    <tr>\n",
       "      <th>2</th>\n",
       "      <td>2009-06-20</td>\n",
       "      <td>Search</td>\n",
       "      <td>Desktop</td>\n",
       "      <td>NB</td>\n",
       "      <td>EMEA</td>\n",
       "      <td>Google</td>\n",
       "      <td>Legacy</td>\n",
       "      <td>0.0</td>\n",
       "      <td>0</td>\n",
       "      <td>NaN</td>\n",
       "    </tr>\n",
       "    <tr>\n",
       "      <th>3</th>\n",
       "      <td>2009-06-27</td>\n",
       "      <td>Search</td>\n",
       "      <td>Desktop</td>\n",
       "      <td>NB</td>\n",
       "      <td>AMS</td>\n",
       "      <td>Google</td>\n",
       "      <td>Legacy</td>\n",
       "      <td>0.0</td>\n",
       "      <td>0</td>\n",
       "      <td>NaN</td>\n",
       "    </tr>\n",
       "    <tr>\n",
       "      <th>4</th>\n",
       "      <td>2009-06-28</td>\n",
       "      <td>Search</td>\n",
       "      <td>Desktop</td>\n",
       "      <td>NB</td>\n",
       "      <td>AMS</td>\n",
       "      <td>Google</td>\n",
       "      <td>Legacy</td>\n",
       "      <td>0.0</td>\n",
       "      <td>0</td>\n",
       "      <td>NaN</td>\n",
       "    </tr>\n",
       "  </tbody>\n",
       "</table>\n",
       "</div>"
      ],
      "text/plain": [
       "         Date Media Type   Device Targeting Region  Vendor Campaign Type  \\\n",
       "0  2009-06-09     Search  Desktop        NB    AMS  Google        Legacy   \n",
       "1  2009-06-18    Display  Desktop     Reach    AMS  Google         Reach   \n",
       "2  2009-06-20     Search  Desktop        NB   EMEA  Google        Legacy   \n",
       "3  2009-06-27     Search  Desktop        NB    AMS  Google        Legacy   \n",
       "4  2009-06-28     Search  Desktop        NB    AMS  Google        Legacy   \n",
       "\n",
       "   Cost  Clicks  CPC  \n",
       "0   0.0       0  NaN  \n",
       "1   0.0       0  NaN  \n",
       "2   0.0       0  NaN  \n",
       "3   0.0       0  NaN  \n",
       "4   0.0       0  NaN  "
      ]
     },
     "execution_count": 30,
     "metadata": {},
     "output_type": "execute_result"
    }
   ],
   "source": [
    "search_df.head()"
   ]
  },
  {
   "cell_type": "code",
   "execution_count": 33,
   "metadata": {
    "collapsed": true
   },
   "outputs": [],
   "source": [
    "search_df['Date'] = pd.to_datetime(search_df['Date'])\n",
    "search_df.set_index('Date', inplace=True)"
   ]
  },
  {
   "cell_type": "code",
   "execution_count": 34,
   "metadata": {
    "collapsed": false
   },
   "outputs": [],
   "source": [
    "search_df['Year'] = search_df.index.year\n",
    "search_df['Month'] = search_df.index.month\n",
    "# search_df['Year'] = data.index.year"
   ]
  },
  {
   "cell_type": "code",
   "execution_count": 35,
   "metadata": {
    "collapsed": false
   },
   "outputs": [
    {
     "data": {
      "text/plain": [
       "<seaborn.axisgrid.FacetGrid at 0x1058a128>"
      ]
     },
     "execution_count": 35,
     "metadata": {},
     "output_type": "execute_result"
    },
    {
     "data": {
      "image/png": "[encoded data removed]",
      "text/plain": [
       "<matplotlib.figure.Figure at 0xf6d5898>"
      ]
     },
     "metadata": {},
     "output_type": "display_data"
    }
   ],
   "source": [
    "sb.factorplot(\n",
    "    x='Month',\n",
    "    y='Clicks',\n",
    "    data=search_df, \n",
    "    kind='bar'\n",
    ")"
   ]
  },
  {
   "cell_type": "code",
   "execution_count": 36,
   "metadata": {
    "collapsed": false
   },
   "outputs": [
    {
     "data": {
      "text/plain": [
       "<seaborn.axisgrid.FacetGrid at 0x1058ac88>"
      ]
     },
     "execution_count": 36,
     "metadata": {},
     "output_type": "execute_result"
    },
    {
     "data": {
      "image/png": "[encoded data removed]",
      "text/plain": [
       "<matplotlib.figure.Figure at 0x2cb70400>"
      ]
     },
     "metadata": {},
     "output_type": "display_data"
    }
   ],
   "source": [
    "sb.factorplot(\n",
    "    x='Month',\n",
    "    y='Cost',\n",
    "    data=search_df, \n",
    "    kind='bar'\n",
    ")"
   ]
  },
  {
   "cell_type": "code",
   "execution_count": 37,
   "metadata": {
    "collapsed": false
   },
   "outputs": [
    {
     "data": {
      "text/plain": [
       "<seaborn.axisgrid.FacetGrid at 0x2e823f98>"
      ]
     },
     "execution_count": 37,
     "metadata": {},
     "output_type": "execute_result"
    },
    {
     "data": {
      "image/png": "[encoded data removed]",
      "text/plain": [
       "<matplotlib.figure.Figure at 0x2cfb6518>"
      ]
     },
     "metadata": {},
     "output_type": "display_data"
    }
   ],
   "source": [
    "sb.factorplot(\n",
    "    x='Month',\n",
    "    y='CPC',\n",
    "    data=search_df, \n",
    "    kind='bar'\n",
    ")"
   ]
  },
  {
   "cell_type": "code",
   "execution_count": 38,
   "metadata": {
    "collapsed": false
   },
   "outputs": [
    {
     "data": {
      "text/html": [
       "<div>\n",
       "<table border=\"1\" class=\"dataframe\">\n",
       "  <thead>\n",
       "    <tr style=\"text-align: right;\">\n",
       "      <th></th>\n",
       "      <th>Clicks</th>\n",
       "    </tr>\n",
       "    <tr>\n",
       "      <th>Date</th>\n",
       "      <th></th>\n",
       "    </tr>\n",
       "  </thead>\n",
       "  <tbody>\n",
       "    <tr>\n",
       "      <th>2009-06-30</th>\n",
       "      <td>0.0</td>\n",
       "    </tr>\n",
       "    <tr>\n",
       "      <th>2011-06-30</th>\n",
       "      <td>0.0</td>\n",
       "    </tr>\n",
       "    <tr>\n",
       "      <th>2011-07-31</th>\n",
       "      <td>0.0</td>\n",
       "    </tr>\n",
       "    <tr>\n",
       "      <th>2011-08-31</th>\n",
       "      <td>0.0</td>\n",
       "    </tr>\n",
       "    <tr>\n",
       "      <th>2011-09-30</th>\n",
       "      <td>0.0</td>\n",
       "    </tr>\n",
       "  </tbody>\n",
       "</table>\n",
       "</div>"
      ],
      "text/plain": [
       "            Clicks\n",
       "Date              \n",
       "2009-06-30     0.0\n",
       "2011-06-30     0.0\n",
       "2011-07-31     0.0\n",
       "2011-08-31     0.0\n",
       "2011-09-30     0.0"
      ]
     },
     "execution_count": 38,
     "metadata": {},
     "output_type": "execute_result"
    }
   ],
   "source": [
    "search_df[['Clicks']].resample('M').mean().sort_values(by='Clicks').head()"
   ]
  },
  {
   "cell_type": "raw",
   "metadata": {},
   "source": [
    "Month: Categorical variable. Month is a very important feature because different Month has different volatility level. There are months that customers shop more than other"
   ]
  },
  {
   "cell_type": "raw",
   "metadata": {},
   "source": [
    "Media Type: Channel. My plan is to predict the CPC of each channel, so each channel will be in different dataset"
   ]
  },
  {
   "cell_type": "raw",
   "metadata": {},
   "source": [
    "Device: Categorical variable. The device that the ad is showing on"
   ]
  },
  {
   "cell_type": "raw",
   "metadata": {},
   "source": [
    "Targeting: Categorical variable. This feature describe how ad is tagged, either brand or nonbrand. Brand ad has the brand name in the ad."
   ]
  },
  {
   "cell_type": "raw",
   "metadata": {},
   "source": [
    "Region: Categorical variable. The location where the ad is running"
   ]
  },
  {
   "cell_type": "raw",
   "metadata": {},
   "source": [
    "Channel: Categorical variable. The vendor"
   ]
  },
  {
   "cell_type": "raw",
   "metadata": {},
   "source": [
    "Campaign Type: Categorical variable. Type of campaign"
   ]
  },
  {
   "cell_type": "raw",
   "metadata": {},
   "source": [
    "Cost: Continuous variable. "
   ]
  },
  {
   "cell_type": "raw",
   "metadata": {},
   "source": [
    "Clicks: Continuous variable. independent variable"
   ]
  },
  {
   "cell_type": "raw",
   "metadata": {},
   "source": []
  }
 ],
 "metadata": {
  "anaconda-cloud": {},
  "kernelspec": {
   "display_name": "Python [Root]",
   "language": "python",
   "name": "Python [Root]"
  },
  "language_info": {
   "codemirror_mode": {
    "name": "ipython",
    "version": 2
   },
   "file_extension": ".py",
   "mimetype": "text/x-python",
   "name": "python",
   "nbconvert_exporter": "python",
   "pygments_lexer": "ipython2",
   "version": "2.7.12"
  }
 },
 "nbformat": 4,
 "nbformat_minor": 0
}
