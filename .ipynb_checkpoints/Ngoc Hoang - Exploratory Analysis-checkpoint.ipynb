{
 "cells": [
  {
   "cell_type": "raw",
   "metadata": {},
   "source": [
    "# Problem Statement: To identify which marketing channel yields the most efficient result based on data collected by Google Adwords, Bing, DCM and Facebook Business Manager, from 2014 to present. Identify opportunities to reduce cost from the predicted result. "
   ]
  },
  {
   "cell_type": "raw",
   "metadata": {},
   "source": [
    "# Hypothesis: client spend the most on Paid Search so Paid Search channel would yield the best result."
   ]
  },
  {
   "cell_type": "raw",
   "metadata": {
    "collapsed": true
   },
   "source": [
    "# Potential Method: To use regression models(linear regressions, random forest regressor ) to predict number of CLICKS that each channel has, evaluate models, then determine the CTR and compare it with actual result."
   ]
  },
  {
   "cell_type": "raw",
   "metadata": {},
   "source": [
    "# Available data: Data from each Media type (channel) collected by engines (source of truth). Spend, Device that users use to click the ad, geo, vendor that host campaigns, campaigns types, month since different month might have hidden factors that influence clicks, region, how campaigns are targeted."
   ]
  },
  {
   "cell_type": "raw",
   "metadata": {},
   "source": [
    "# Risks: even though click might not be a good indicator of efficiency (Conversion is), but with the data that we have, clicks is a good starting point.\n"
   ]
  },
  {
   "cell_type": "raw",
   "metadata": {
    "collapsed": true
   },
   "source": [
    "# Goal: To be able to predict numbers of clicks for the upcoming months and to come up with a budget that maximizes result"
   ]
  },
  {
   "cell_type": "code",
   "execution_count": null,
   "metadata": {
    "collapsed": true
   },
   "outputs": [],
   "source": [
    "%matplotlib inline\n",
    "import numpy as np\n",
    "import pandas as pd\n",
    "from matplotlib import pyplot as plt\n",
    "import seaborn as sns\n",
    "import sklearn.linear_model\n",
    "import seaborn as sb"
   ]
  },
  {
   "cell_type": "code",
   "execution_count": 126,
   "metadata": {
    "collapsed": true
   },
   "outputs": [],
   "source": [
    "#Read file\n",
    "search = pd.read_csv('Search data.csv')\n",
    "display = pd.read_csv('display data.csv')\n",
    "video = pd.read_csv('video data.csv')"
   ]
  },
  {
   "cell_type": "code",
   "execution_count": 127,
   "metadata": {
    "collapsed": false
   },
   "outputs": [],
   "source": [
    "# def createTimeSeriesComponent(data):\n",
    "#     data['Date'] = pd.to_datetime(data['Date'])\n",
    "#     data.set_index('Date', inplace=True)\n",
    "#     data['Year'] = data.index.year\n",
    "#     data['Month'] = data.index.month"
   ]
  },
  {
   "cell_type": "code",
   "execution_count": 128,
   "metadata": {
    "collapsed": false
   },
   "outputs": [],
   "source": [
    "# createTimeSeriesComponent(search)\n",
    "# createTimeSeriesComponent(display)\n",
    "# createTimeSeriesComponent(video)"
   ]
  },
  {
   "cell_type": "code",
   "execution_count": 129,
   "metadata": {
    "collapsed": false
   },
   "outputs": [],
   "source": [
    "def ExploratoryAnalysis(data):\n",
    "    print \"first 5 rows: \\n\" + str(data.head(5)) + \"\\n\\n\"\n",
    "    print \"statistical summary of data: \\n\\n\" + str(data.describe()) + \"\\n\\n\"\n",
    "    print \"correlation: \\n\\n\" + str(data.corr()) +\"\\n\\n\"\n",
    "    columns = data.columns\n",
    "    for i in range(0,len(columns)):\n",
    "        print \"columns \" + str(columns[i]) + \" has distinct values: \\n\" + str((data[columns[i]].value_counts())) + \"\\n\\n\"\n",
    "    \n",
    "    print \"Pivot table: \\n\" +    str(pd.pivot_table(data, index = 'Month', aggfunc = np.sum)) + '\\n\\n'\n",
    "    print \"Graph: number of clicks distributed by Month \\n\" +  str(sb.factorplot( x='Month', y='Clicks', data=data, kind='bar', estimator = sum)) + \"\\n\\n\"\n",
    "    print \"Graph: spend distributed by Month \\n\" +  str(sb.factorplot( x='Month', y='Cost', data=data, kind='bar', estimator = sum)) + \"\\n\\n\""
   ]
  },
  {
   "cell_type": "code",
   "execution_count": 130,
   "metadata": {
    "collapsed": false
   },
   "outputs": [
    {
     "name": "stdout",
     "output_type": "stream",
     "text": [
      "first 5 rows: \n",
      "       Date  Month   Device Channel Campaign Type Media Type  Region  \\\n",
      "0  1/1/2013      1  Desktop  Google   Remarketing    Display  Global   \n",
      "1  1/1/2013      1   Mobile  Google         Reach    Display  Global   \n",
      "2  1/1/2013      1   Tablet  Google         Reach    Display  Global   \n",
      "3  1/2/2013      1   Mobile  Google         Reach    Display  EMEA     \n",
      "4  1/2/2013      1   Tablet  Google   Remarketing    Display  Global   \n",
      "\n",
      "     Targeting     Cost  Clicks  \n",
      "0  Remarketing  1074.74    3752  \n",
      "1        Reach   845.78    1050  \n",
      "2        Reach   420.80     350  \n",
      "3        Reach    88.40     136  \n",
      "4  Remarketing    17.06      82  \n",
      "\n",
      "\n",
      "statistical summary of data: \n",
      "\n",
      "              Month          Cost         Clicks\n",
      "count  40804.000000  40804.000000   40804.000000\n",
      "mean       6.455249    446.403717     967.888589\n",
      "std        3.304922   1041.130610    7847.806165\n",
      "min        1.000000      0.020000       2.000000\n",
      "25%        4.000000     26.000000      26.000000\n",
      "50%        7.000000    108.160000     108.000000\n",
      "75%        9.000000    406.737000     418.000000\n",
      "max       12.000000  22224.000000  393602.000000\n",
      "\n",
      "\n",
      "correlation: \n",
      "\n",
      "           Month      Cost    Clicks\n",
      "Month   1.000000  0.040523 -0.015302\n",
      "Cost    0.040523  1.000000  0.303879\n",
      "Clicks -0.015302  0.303879  1.000000\n",
      "\n",
      "\n",
      "columns Date has distinct values: \n",
      "12/16/2015    73\n",
      "12/15/2015    68\n",
      "12/17/2015    63\n",
      "1/22/2016     62\n",
      "12/13/2015    62\n",
      "12/14/2015    60\n",
      "1/19/2016     60\n",
      "1/21/2016     57\n",
      "1/20/2016     57\n",
      "3/9/2016      55\n",
      "3/14/2016     54\n",
      "1/16/2016     54\n",
      "3/13/2016     54\n",
      "1/14/2016     54\n",
      "1/13/2016     54\n",
      "3/11/2016     54\n",
      "1/18/2016     53\n",
      "3/10/2016     53\n",
      "1/17/2016     53\n",
      "1/15/2016     53\n",
      "3/8/2016      53\n",
      "3/12/2016     52\n",
      "2/13/2016     49\n",
      "10/31/2016    49\n",
      "10/2/2016     48\n",
      "10/1/2016     48\n",
      "2/9/2016      48\n",
      "9/24/2016     48\n",
      "9/21/2016     48\n",
      "4/10/2016     48\n",
      "              ..\n",
      "10/10/2013    13\n",
      "6/13/2013     13\n",
      "10/5/2013     13\n",
      "9/26/2013     13\n",
      "7/10/2013     13\n",
      "3/5/2015      12\n",
      "5/8/2016      12\n",
      "1/8/2014      12\n",
      "3/7/2015      12\n",
      "10/1/2013     12\n",
      "1/29/2014     12\n",
      "1/30/2014     11\n",
      "5/6/2016      11\n",
      "5/7/2016       9\n",
      "1/3/2014       9\n",
      "1/4/2014       9\n",
      "1/5/2014       9\n",
      "5/5/2016       9\n",
      "9/29/2013      8\n",
      "9/30/2013      8\n",
      "1/6/2014       8\n",
      "1/7/2014       8\n",
      "9/28/2013      7\n",
      "12/24/2015     6\n",
      "12/22/2015     6\n",
      "12/23/2015     6\n",
      "12/25/2013     5\n",
      "1/31/2014      4\n",
      "5/4/2016       4\n",
      "1/28/2016      1\n",
      "Name: Date, dtype: int64\n",
      "\n",
      "\n",
      "columns Month has distinct values: \n",
      "10    3915\n",
      "8     3865\n",
      "9     3857\n",
      "3     3577\n",
      "7     3516\n",
      "6     3510\n",
      "4     3496\n",
      "5     3370\n",
      "2     3247\n",
      "11    3141\n",
      "1     3035\n",
      "12    2275\n",
      "Name: Month, dtype: int64\n",
      "\n",
      "\n",
      "columns Device has distinct values: \n",
      "Desktop    20093\n",
      "Tablet     18431\n",
      "Mobile      2135\n",
      "Unknown      145\n",
      "Name: Device, dtype: int64\n",
      "\n",
      "\n",
      "columns Channel has distinct values: \n",
      "Google    40693\n",
      "Bing        111\n",
      "Name: Channel, dtype: int64\n",
      "\n",
      "\n",
      "columns Campaign Type has distinct values: \n",
      "Reach                  8032\n",
      "Remarketing            7700\n",
      "Remarketing - Image    6709\n",
      "Legacy                 4219\n",
      "Managed                3093\n",
      "Reach - Image          3001\n",
      "Reach - Text           2808\n",
      "In-Market              1978\n",
      "Image                  1938\n",
      "Remarketing - Text     1276\n",
      "Retargeting              50\n",
      "Name: Campaign Type, dtype: int64\n",
      "\n",
      "\n",
      "columns Media Type has distinct values: \n",
      "Display    40804\n",
      "Name: Media Type, dtype: int64\n",
      "\n",
      "\n",
      "columns Region has distinct values: \n",
      "EMEA      11889\n",
      "AMS        9320\n",
      "LATAM      7702\n",
      "APAC       6958\n",
      "Global     4376\n",
      "APAC        384\n",
      "EMEA        175\n",
      "Name: Region, dtype: int64\n",
      "\n",
      "\n",
      "columns Targeting has distinct values: \n",
      "Reach          21655\n",
      "Remarketing    18917\n",
      "Display          232\n",
      "Name: Targeting, dtype: int64\n",
      "\n",
      "\n",
      "columns Cost has distinct values: \n",
      "1.080       24\n",
      "0.340       23\n",
      "0.840       22\n",
      "0.120       22\n",
      "1.620       22\n",
      "0.140       21\n",
      "2.140       21\n",
      "1.120       21\n",
      "0.040       20\n",
      "0.380       20\n",
      "1.000       20\n",
      "0.700       19\n",
      "1.500       19\n",
      "5.020       19\n",
      "1.040       19\n",
      "1.880       19\n",
      "0.880       19\n",
      "0.900       19\n",
      "2.220       18\n",
      "3.720       18\n",
      "0.300       18\n",
      "4.120       18\n",
      "0.500       18\n",
      "0.680       18\n",
      "1.140       18\n",
      "1.560       18\n",
      "2.020       17\n",
      "4.000       17\n",
      "0.600       17\n",
      "10.700      17\n",
      "            ..\n",
      "971.460      1\n",
      "150.360      1\n",
      "486.300      1\n",
      "570.820      1\n",
      "585.880      1\n",
      "787.488      1\n",
      "115.360      1\n",
      "1697.240     1\n",
      "222.258      1\n",
      "331.484      1\n",
      "1196.520     1\n",
      "208.220      1\n",
      "405.260      1\n",
      "1730.160     1\n",
      "53.078       1\n",
      "300.480      1\n",
      "4281.574     1\n",
      "193.180      1\n",
      "56.020       1\n",
      "5199.148     1\n",
      "142.020      1\n",
      "424.900      1\n",
      "1748.480     1\n",
      "103.080      1\n",
      "956.200      1\n",
      "77.766       1\n",
      "313.140      1\n",
      "371.480      1\n",
      "149.880      1\n",
      "4092.500     1\n",
      "Name: Cost, dtype: int64\n",
      "\n",
      "\n",
      "columns Clicks has distinct values: \n",
      "2         1439\n",
      "4         1020\n",
      "6          963\n",
      "12         818\n",
      "8          795\n",
      "14         791\n",
      "10         788\n",
      "16         710\n",
      "18         689\n",
      "20         655\n",
      "22         581\n",
      "24         541\n",
      "28         502\n",
      "26         497\n",
      "32         469\n",
      "30         457\n",
      "34         389\n",
      "36         376\n",
      "40         359\n",
      "38         353\n",
      "42         336\n",
      "48         332\n",
      "44         308\n",
      "46         303\n",
      "56         287\n",
      "52         279\n",
      "58         278\n",
      "50         273\n",
      "54         251\n",
      "62         238\n",
      "          ... \n",
      "2960         1\n",
      "26620        1\n",
      "2480         1\n",
      "6162         1\n",
      "2160         1\n",
      "10356        1\n",
      "2192         1\n",
      "18584        1\n",
      "2224         1\n",
      "6322         1\n",
      "6354         1\n",
      "6450         1\n",
      "14646        1\n",
      "2384         1\n",
      "178566       1\n",
      "6578         1\n",
      "7026         1\n",
      "6674         1\n",
      "2608         1\n",
      "23130        1\n",
      "2672         1\n",
      "2704         1\n",
      "6802         1\n",
      "2736         1\n",
      "84664        1\n",
      "2768         1\n",
      "2800         1\n",
      "15126        1\n",
      "2896         1\n",
      "28450        1\n",
      "Name: Clicks, dtype: int64\n",
      "\n",
      "\n",
      "Pivot table: \n",
      "         Clicks         Cost\n",
      "Month                       \n",
      "1      12382252  1705217.376\n",
      "2       2284010  1191286.616\n",
      "3       1623904  1458870.626\n",
      "4       1374012  1175961.062\n",
      "5       1147642  1003889.892\n",
      "6       1783180  1593544.480\n",
      "7       1303806  1217688.632\n",
      "8       2753486  1790936.224\n",
      "9       3042634  2363029.974\n",
      "10      1762256  1686578.838\n",
      "11      1606226  1797940.448\n",
      "12      8430318  1230113.100\n",
      "\n",
      "\n",
      "Graph: number of clicks distributed by Month \n",
      "<seaborn.axisgrid.FacetGrid object at 0x000000000F5EB9E8>\n",
      "\n",
      "\n",
      "Graph: spend distributed by Month \n",
      "<seaborn.axisgrid.FacetGrid object at 0x00000000116904E0>\n",
      "\n",
      "\n"
     ]
    },
    {
     "data": {
      "image/png": "[encoded data removed]",
      "text/plain": [
       "<matplotlib.figure.Figure at 0xc7056a0>"
      ]
     },
     "metadata": {},
     "output_type": "display_data"
    },
    {
     "data": {
      "image/png": "[encoded data removed]",
      "text/plain": [
       "<matplotlib.figure.Figure at 0x1dd1a080>"
      ]
     },
     "metadata": {},
     "output_type": "display_data"
    }
   ],
   "source": [
    "\n",
    "ExploratoryAnalysis(display)"
   ]
  },
  {
   "cell_type": "code",
   "execution_count": 106,
   "metadata": {
    "collapsed": true
   },
   "outputs": [],
   "source": [
    "# def createDummiesVariables(data):    \n",
    "#     data = data.join(pd.get_dummies(data['Device'],prefix=\"Device\"))\n",
    "#     data = data.join(pd.get_dummies(data['Targeting'],prefix=\"Targeting\"))\n",
    "#     data = data.join(pd.get_dummies(data['Region'],prefix=\"Region\"))\n",
    "#     data = data.join(pd.get_dummies(data['Channel'],prefix=\"Channel\"))\n",
    "#     data = data.join(pd.get_dummies(data['Campaign Type'],prefix=\"Campaign Type\"))\n",
    "#     data = data.join(pd.get_dummies(data['Month'],prefix=\"Month\"))  \n",
    "#     return data"
   ]
  },
  {
   "cell_type": "code",
   "execution_count": 119,
   "metadata": {
    "collapsed": false
   },
   "outputs": [
    {
     "name": "stdout",
     "output_type": "stream",
     "text": [
      "       Date  Month   Device Channel Campaign Type Media Type  Region  \\\n",
      "0  1/1/2013      1  Desktop  Google   Remarketing    Display  Global   \n",
      "1  1/1/2013      1   Mobile  Google         Reach    Display  Global   \n",
      "2  1/1/2013      1   Tablet  Google         Reach    Display  Global   \n",
      "3  1/2/2013      1   Mobile  Google         Reach    Display  EMEA     \n",
      "4  1/2/2013      1   Tablet  Google   Remarketing    Display  Global   \n",
      "\n",
      "     Targeting     Cost  Clicks  \n",
      "0  Remarketing  1074.74    3752  \n",
      "1        Reach   845.78    1050  \n",
      "2        Reach   420.80     350  \n",
      "3        Reach    88.40     136  \n",
      "4  Remarketing    17.06      82  \n"
     ]
    }
   ],
   "source": [
    "# createDummiesVariables(display)\n",
    "print display.head()"
   ]
  },
  {
   "cell_type": "code",
   "execution_count": 120,
   "metadata": {
    "collapsed": false
   },
   "outputs": [],
   "source": [
    "    display = display.join(pd.get_dummies(display['Device'],prefix=\"Device\"))\n",
    "    display = display.join(pd.get_dummies(display['Targeting'],prefix=\"Targeting\"))\n",
    "    display = display.join(pd.get_dummies(display['Region'],prefix=\"Region\"))\n",
    "    display = display.join(pd.get_dummies(display['Channel'],prefix=\"Channel\"))\n",
    "    display = display.join(pd.get_dummies(display['Campaign Type'],prefix=\"Campaign Type\"))\n",
    "    display = display.join(pd.get_dummies(display['Month'],prefix=\"Month\"))"
   ]
  },
  {
   "cell_type": "code",
   "execution_count": 121,
   "metadata": {
    "collapsed": false
   },
   "outputs": [
    {
     "data": {
      "text/plain": [
       "Date                                 40804\n",
       "Month                                40804\n",
       "Device                               40804\n",
       "Channel                              40804\n",
       "Campaign Type                        40804\n",
       "Media Type                           40804\n",
       "Region                               40804\n",
       "Targeting                            40804\n",
       "Cost                                 40804\n",
       "Clicks                               40804\n",
       "Device_Desktop                       40804\n",
       "Device_Mobile                        40804\n",
       "Device_Tablet                        40804\n",
       "Device_Unknown                       40804\n",
       "Targeting_Display                    40804\n",
       "Targeting_Reach                      40804\n",
       "Targeting_Remarketing                40804\n",
       "Region_AMS                           40804\n",
       "Region_APAC                          40804\n",
       "Region_APAC                          40804\n",
       "Region_EMEA                          40804\n",
       "Region_EMEA                          40804\n",
       "Region_Global                        40804\n",
       "Region_LATAM                         40804\n",
       "Channel_Bing                         40804\n",
       "Channel_Google                       40804\n",
       "Campaign Type_Image                  40804\n",
       "Campaign Type_In-Market              40804\n",
       "Campaign Type_Legacy                 40804\n",
       "Campaign Type_Managed                40804\n",
       "Campaign Type_Reach                  40804\n",
       "Campaign Type_Reach - Image          40804\n",
       "Campaign Type_Reach - Text           40804\n",
       "Campaign Type_Remarketing            40804\n",
       "Campaign Type_Remarketing - Image    40804\n",
       "Campaign Type_Remarketing - Text     40804\n",
       "Campaign Type_Retargeting            40804\n",
       "Month_1                              40804\n",
       "Month_2                              40804\n",
       "Month_3                              40804\n",
       "Month_4                              40804\n",
       "Month_5                              40804\n",
       "Month_6                              40804\n",
       "Month_7                              40804\n",
       "Month_8                              40804\n",
       "Month_9                              40804\n",
       "Month_10                             40804\n",
       "Month_11                             40804\n",
       "Month_12                             40804\n",
       "dtype: int64"
      ]
     },
     "execution_count": 121,
     "metadata": {},
     "output_type": "execute_result"
    }
   ],
   "source": [
    "display.count()"
   ]
  },
  {
   "cell_type": "code",
   "execution_count": 96,
   "metadata": {
    "collapsed": false
   },
   "outputs": [],
   "source": [
    "video = video.join(pd.get_dummies(video['Campaign Type'],prefix=\"Campaign Type\"))\n",
    "\n",
    "video = video.join(pd.get_dummies(video['Device'],prefix=\"Device\"))\n",
    "\n",
    "video = video.join(pd.get_dummies(video['Targeting'],prefix=\"Targeting\"))\n",
    "\n",
    "video = video.join(pd.get_dummies(video['Region'],prefix=\"Region\"))\n",
    "\n",
    "video = video.join(pd.get_dummies(video['Channel'],prefix=\"Vendor\"))\n",
    "\n",
    "# video = video.join(pd.get_dummies(video['Month'],prefix=\"Month\"))   "
   ]
  },
  {
   "cell_type": "raw",
   "metadata": {},
   "source": []
  }
 ],
 "metadata": {
  "anaconda-cloud": {},
  "kernelspec": {
   "display_name": "Python [Root]",
   "language": "python",
   "name": "Python [Root]"
  },
  "language_info": {
   "codemirror_mode": {
    "name": "ipython",
    "version": 2
   },
   "file_extension": ".py",
   "mimetype": "text/x-python",
   "name": "python",
   "nbconvert_exporter": "python",
   "pygments_lexer": "ipython2",
   "version": "2.7.12"
  }
 },
 "nbformat": 4,
 "nbformat_minor": 0
}
