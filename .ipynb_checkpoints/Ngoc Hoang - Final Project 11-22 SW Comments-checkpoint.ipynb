{
 "cells": [
  {
   "cell_type": "raw",
   "metadata": {},
   "source": [
    "# Problem Statement: To identify which marketing channel yields the most efficient result based on data collected by Google Adwords, Bing, DCM and Facebook Business Manager, from 2014 to present. Identify opportunities to reduce cost from the predicted result. "
   ]
  },
  {
   "cell_type": "raw",
   "metadata": {},
   "source": [
    "# Hypothesis: client spend the most on Paid Search so Paid Search channel would yield the best result."
   ]
  },
  {
   "cell_type": "raw",
   "metadata": {
    "collapsed": true
   },
   "source": [
    "# Potential Method: To use regression models(linear regressions, random forest regressor ) to predict number of CLICKS that each channel has, evaluate models, then determine the CTR and compare it with actual result."
   ]
  },
  {
   "cell_type": "raw",
   "metadata": {},
   "source": [
    "# Available data: Data from each Media type (channel) collected by engines (source of truth). Spend, Device that users use to click the ad, geo, vendor that host campaigns, campaigns types, month since different month might have hidden factors that influence clicks, region, how campaigns are targeted."
   ]
  },
  {
   "cell_type": "raw",
   "metadata": {},
   "source": [
    "# Risks: even though click might not be a good indicator of efficiency (Conversion is), but with the data that we have, clicks is a good starting point.\n"
   ]
  },
  {
   "cell_type": "raw",
   "metadata": {
    "collapsed": true
   },
   "source": [
    "# Goal: To be able to predict numbers of clicks for the upcoming months and to come up with a budget that maximizes result"
   ]
  },
  {
   "cell_type": "code",
   "execution_count": 2,
   "metadata": {
    "collapsed": false
   },
   "outputs": [
    {
     "name": "stderr",
     "output_type": "stream",
     "text": [
      "//anaconda/lib/python2.7/site-packages/sklearn/cross_validation.py:44: DeprecationWarning: This module was deprecated in version 0.18 in favor of the model_selection module into which all the refactored classes and functions are moved. Also note that the interface of the new CV iterators are different from that of this module. This module will be removed in 0.20.\n",
      "  \"This module will be removed in 0.20.\", DeprecationWarning)\n"
     ]
    }
   ],
   "source": [
    "%matplotlib inline\n",
    "import numpy as np\n",
    "import pandas as pd\n",
    "from matplotlib import pyplot as plt\n",
    "import seaborn as sns\n",
    "import sklearn.linear_model\n",
    "import seaborn as sb\n",
    "import statsmodels.api as sm\n",
    "from sklearn.cross_validation import cross_val_score\n",
    "from sklearn.linear_model import LinearRegression\n",
    "from sklearn import linear_model\n"
   ]
  },
  {
   "cell_type": "code",
   "execution_count": 3,
   "metadata": {
    "collapsed": true
   },
   "outputs": [],
   "source": [
    "#Read file\n",
    "search = pd.read_csv('Search data.csv')\n",
    "display = pd.read_csv('display data.csv')\n",
    "video = pd.read_csv('video data.csv')"
   ]
  },
  {
   "cell_type": "code",
   "execution_count": 4,
   "metadata": {
    "collapsed": false
   },
   "outputs": [],
   "source": [
    "# def createTimeSeriesComponent(data):\n",
    "#     data['Date'] = pd.to_datetime(data['Date'])\n",
    "#     data.set_index('Date', inplace=True)\n",
    "#     data['Year'] = data.index.year\n",
    "#     data['Month'] = data.index.month"
   ]
  },
  {
   "cell_type": "code",
   "execution_count": 4,
   "metadata": {
    "collapsed": false
   },
   "outputs": [],
   "source": [
    "# createTimeSeriesComponent(search)\n",
    "# createTimeSeriesComponent(display)\n",
    "# createTimeSeriesComponent(video)"
   ]
  },
  {
   "cell_type": "code",
   "execution_count": 5,
   "metadata": {
    "collapsed": false
   },
   "outputs": [],
   "source": [
    "def ExploratoryAnalysis(data):\n",
    "    print \"first 5 rows: \\n\" + str(data.head(5)) + \"\\n\\n\"\n",
    "    print \"statistical summary of data: \\n\\n\" + str(data.describe()) + \"\\n\\n\"\n",
    "    print \"correlation: \\n\\n\" + str(data.corr()) +\"\\n\\n\"\n",
    "    columns = data.columns\n",
    "    for i in range(0,len(columns)):\n",
    "        print \"columns \" + str(columns[i]) + \" has distinct values: \\n\" + str((data[columns[i]].value_counts())) + \"\\n\\n\"\n",
    "    \n",
    "    print \"Pivot table: \\n\" +    str(pd.pivot_table(data, index = 'Month', aggfunc = np.sum)) + '\\n\\n'\n",
    "    print \"Graph: number of clicks distributed by Month \\n\" +  str(sb.factorplot( x='Month', y='Clicks', data=data, kind='bar', estimator = sum)) + \"\\n\\n\"\n",
    "    print \"Graph: spend distributed by Month \\n\" +  str(sb.factorplot( x='Month', y='Cost', data=data, kind='bar', estimator = sum)) + \"\\n\\n\""
   ]
  },
  {
   "cell_type": "code",
   "execution_count": 6,
   "metadata": {
    "collapsed": false
   },
   "outputs": [
    {
     "name": "stdout",
     "output_type": "stream",
     "text": [
      "first 5 rows: \n",
      "         Date  Month   Device  Channel Campaign Type Media Type  Region  \\\n",
      "0  2013-06-16      6   Tablet  Youtube         Reach      Video  Global   \n",
      "1  2013-06-27      6  Desktop  Youtube         Reach      Video  Global   \n",
      "2  2013-06-27      6   Mobile  Youtube         Reach      Video  Global   \n",
      "3  2013-06-28      6  Desktop  Youtube         Reach      Video  Global   \n",
      "4  2013-06-28      6   Mobile  Youtube         Reach      Video  Global   \n",
      "\n",
      "  Targeting     Cost  Clicks  \n",
      "0     Reach     0.20       2  \n",
      "1     Reach    16.84      14  \n",
      "2     Reach  1407.02     660  \n",
      "3     Reach   973.28    1046  \n",
      "4     Reach  2600.04     568  \n",
      "\n",
      "\n",
      "statistical summary of data: \n",
      "\n",
      "             Month         Cost       Clicks\n",
      "count  1644.000000  1644.000000  1644.000000\n",
      "mean      7.214112   179.711861    55.930657\n",
      "std       2.943021   554.098341   164.277759\n",
      "min       1.000000     0.000000     2.000000\n",
      "25%       5.000000    11.355000     4.000000\n",
      "50%       7.000000    30.330000    12.000000\n",
      "75%      10.000000   161.530000    38.000000\n",
      "max      12.000000  9474.580000  2316.000000\n",
      "\n",
      "\n",
      "correlation: \n",
      "\n",
      "           Month      Cost    Clicks\n",
      "Month   1.000000 -0.027681 -0.071490\n",
      "Cost   -0.027681  1.000000  0.862706\n",
      "Clicks -0.071490  0.862706  1.000000\n",
      "\n",
      "\n",
      "columns Date has distinct values: \n",
      "2015-12-22    11\n",
      "2015-12-23    11\n",
      "2015-12-19    11\n",
      "2015-12-25    10\n",
      "2015-12-21    10\n",
      "2015-12-27     9\n",
      "2016-05-14     8\n",
      "2016-04-04     8\n",
      "2015-12-26     8\n",
      "2015-12-28     8\n",
      "2016-05-17     8\n",
      "2016-05-16     8\n",
      "2016-05-18     8\n",
      "2016-03-26     8\n",
      "2015-12-18     8\n",
      "2016-03-27     8\n",
      "2016-03-28     8\n",
      "2016-03-29     8\n",
      "2016-05-20     8\n",
      "2016-05-21     8\n",
      "2016-05-08     8\n",
      "2015-12-24     8\n",
      "2016-05-15     8\n",
      "2016-05-13     8\n",
      "2016-04-07     8\n",
      "2016-05-12     8\n",
      "2016-05-11     8\n",
      "2016-05-10     8\n",
      "2016-04-03     8\n",
      "2016-04-02     8\n",
      "              ..\n",
      "2015-04-08     1\n",
      "2013-09-17     1\n",
      "2013-08-13     1\n",
      "2015-04-03     1\n",
      "2013-09-10     1\n",
      "2016-02-11     1\n",
      "2014-06-06     1\n",
      "2014-04-25     1\n",
      "2013-09-30     1\n",
      "2014-04-29     1\n",
      "2013-11-08     1\n",
      "2013-10-09     1\n",
      "2013-10-01     1\n",
      "2015-04-13     1\n",
      "2015-04-11     1\n",
      "2014-04-15     1\n",
      "2013-09-27     1\n",
      "2013-09-26     1\n",
      "2013-09-25     1\n",
      "2013-06-16     1\n",
      "2015-04-05     1\n",
      "2013-07-03     1\n",
      "2013-09-24     1\n",
      "2014-04-16     1\n",
      "2015-04-10     1\n",
      "2013-10-10     1\n",
      "2015-03-25     1\n",
      "2015-03-26     1\n",
      "2015-04-07     1\n",
      "2015-04-12     1\n",
      "Name: Date, dtype: int64\n",
      "\n",
      "\n",
      "columns Month has distinct values: \n",
      "9     201\n",
      "5     189\n",
      "10    186\n",
      "12    173\n",
      "8     165\n",
      "6     161\n",
      "3     160\n",
      "7     153\n",
      "4     152\n",
      "11     62\n",
      "1      41\n",
      "2       1\n",
      "Name: Month, dtype: int64\n",
      "\n",
      "\n",
      "columns Device has distinct values: \n",
      "Desktop    822\n",
      "Tablet     623\n",
      "Mobile     199\n",
      "Name: Device, dtype: int64\n",
      "\n",
      "\n",
      "columns Channel has distinct values: \n",
      "Youtube    1644\n",
      "Name: Channel, dtype: int64\n",
      "\n",
      "\n",
      "columns Campaign Type has distinct values: \n",
      "Video          1150\n",
      "Reach           466\n",
      "Remarketing      28\n",
      "Name: Campaign Type, dtype: int64\n",
      "\n",
      "\n",
      "columns Media Type has distinct values: \n",
      "Video    1644\n",
      "Name: Media Type, dtype: int64\n",
      "\n",
      "\n",
      "columns Region has distinct values: \n",
      "Global    881\n",
      "APAC      352\n",
      "AMS       216\n",
      "EMEA      195\n",
      "Name: Region, dtype: int64\n",
      "\n",
      "\n",
      "columns Targeting has distinct values: \n",
      "Remarketing    1178\n",
      "Reach           458\n",
      "Brand             8\n",
      "Name: Targeting, dtype: int64\n",
      "\n",
      "\n",
      "columns Cost has distinct values: \n",
      "0.00      11\n",
      "5.92       4\n",
      "0.54       4\n",
      "0.82       4\n",
      "10.04      4\n",
      "7.16       4\n",
      "8.06       4\n",
      "30.62      3\n",
      "9.08       3\n",
      "0.68       3\n",
      "10.10      3\n",
      "5.36       3\n",
      "5.74       3\n",
      "19.48      3\n",
      "5.86       3\n",
      "21.14      3\n",
      "0.64       3\n",
      "21.62      3\n",
      "20.76      3\n",
      "5.78       3\n",
      "5.10       3\n",
      "5.90       3\n",
      "9.42       3\n",
      "1.26       3\n",
      "2.78       3\n",
      "7.38       3\n",
      "18.50      3\n",
      "5.02       3\n",
      "4.82       3\n",
      "6.10       3\n",
      "          ..\n",
      "672.38     1\n",
      "6.54       1\n",
      "0.38       1\n",
      "142.42     1\n",
      "0.56       1\n",
      "298.70     1\n",
      "8.04       1\n",
      "15.98      1\n",
      "46.36      1\n",
      "866.78     1\n",
      "841.86     1\n",
      "278.60     1\n",
      "4.74       1\n",
      "74.74      1\n",
      "0.32       1\n",
      "48.12      1\n",
      "27.18      1\n",
      "12.78      1\n",
      "0.58       1\n",
      "18.06      1\n",
      "185.18     1\n",
      "450.62     1\n",
      "14.36      1\n",
      "197.72     1\n",
      "39.00      1\n",
      "10.86      1\n",
      "1.86       1\n",
      "0.74       1\n",
      "27.86      1\n",
      "159.10     1\n",
      "Name: Cost, dtype: int64\n",
      "\n",
      "\n",
      "columns Clicks has distinct values: \n",
      "2       390\n",
      "4       155\n",
      "6       106\n",
      "8        75\n",
      "10       66\n",
      "14       63\n",
      "12       52\n",
      "20       45\n",
      "16       43\n",
      "18       39\n",
      "24       37\n",
      "26       34\n",
      "22       33\n",
      "28       22\n",
      "46       19\n",
      "34       18\n",
      "54       18\n",
      "50       17\n",
      "30       17\n",
      "36       17\n",
      "40       17\n",
      "32       16\n",
      "58       16\n",
      "44       16\n",
      "56       13\n",
      "64       13\n",
      "42       13\n",
      "48       12\n",
      "52       12\n",
      "38       10\n",
      "       ... \n",
      "266       1\n",
      "2316      1\n",
      "274       1\n",
      "320       1\n",
      "316       1\n",
      "296       1\n",
      "186       1\n",
      "184       1\n",
      "174       1\n",
      "346       1\n",
      "384       1\n",
      "380       1\n",
      "116       1\n",
      "370       1\n",
      "368       1\n",
      "122       1\n",
      "124       1\n",
      "130       1\n",
      "364       1\n",
      "136       1\n",
      "138       1\n",
      "360       1\n",
      "358       1\n",
      "354       1\n",
      "148       1\n",
      "158       1\n",
      "348       1\n",
      "164       1\n",
      "166       1\n",
      "1858      1\n",
      "Name: Clicks, dtype: int64\n",
      "\n",
      "\n",
      "Pivot table: \n",
      "       Clicks      Cost\n",
      "Month                  \n",
      "1        1098   2724.58\n",
      "2           2      0.00\n",
      "3       18978  58967.44\n",
      "4       11478  27013.00\n",
      "5       15908  48409.58\n",
      "6        9098  24272.30\n",
      "7        2826  11517.28\n",
      "8        2496  11819.28\n",
      "9        7668  30765.32\n",
      "10       4216  13801.98\n",
      "11        632   2091.64\n",
      "12      17550  64063.90\n",
      "\n",
      "\n"
     ]
    },
    {
     "name": "stderr",
     "output_type": "stream",
     "text": [
      "/usr/local/lib/python2.7/site-packages/matplotlib/__init__.py:892: UserWarning: axes.color_cycle is deprecated and replaced with axes.prop_cycle; please use the latter.\n",
      "  warnings.warn(self.msg_depr % (key, alt_key))\n"
     ]
    },
    {
     "name": "stdout",
     "output_type": "stream",
     "text": [
      "Graph: number of clicks distributed by Month \n",
      "<seaborn.axisgrid.FacetGrid object at 0x10bba0610>\n",
      "\n",
      "\n",
      "Graph: spend distributed by Month \n",
      "<seaborn.axisgrid.FacetGrid object at 0x10bba0e10>\n",
      "\n",
      "\n"
     ]
    },
    {
     "data": {
      "image/png": "[encoded data removed]",
      "text/plain": [
       "<matplotlib.figure.Figure at 0x10b362910>"
      ]
     },
     "metadata": {},
     "output_type": "display_data"
    },
    {
     "data": {
      "image/png": "[encoded data removed]",
      "text/plain": [
       "<matplotlib.figure.Figure at 0x10bf5a690>"
      ]
     },
     "metadata": {},
     "output_type": "display_data"
    }
   ],
   "source": [
    "\n",
    "ExploratoryAnalysis(video)"
   ]
  },
  {
   "cell_type": "code",
   "execution_count": 7,
   "metadata": {
    "collapsed": true
   },
   "outputs": [],
   "source": [
    "# def createDummiesVariables(data):    \n",
    "#     data = data.join(pd.get_dummies(data['Device'],prefix=\"Device\"))\n",
    "#     data = data.join(pd.get_dummies(data['Targeting'],prefix=\"Targeting\"))\n",
    "#     data = data.join(pd.get_dummies(data['Region'],prefix=\"Region\"))\n",
    "#     data = data.join(pd.get_dummies(data['Channel'],prefix=\"Channel\"))\n",
    "#     data = data.join(pd.get_dummies(data['Campaign Type'],prefix=\"Campaign Type\"))\n",
    "#     data = data.join(pd.get_dummies(data['Month'],prefix=\"Month\"))  \n",
    "#     return data"
   ]
  },
  {
   "cell_type": "code",
   "execution_count": 5,
   "metadata": {
    "collapsed": false
   },
   "outputs": [],
   "source": [
    "    display = display.join(pd.get_dummies(display['Device'],prefix=\"Device\"))\n",
    "    display = display.join(pd.get_dummies(display['Targeting'],prefix=\"Targeting\"))\n",
    "    display = display.join(pd.get_dummies(display['Region'],prefix=\"Region\"))\n",
    "    display = display.join(pd.get_dummies(display['Channel'],prefix=\"Channel\"))\n",
    "    display = display.join(pd.get_dummies(display['Campaign Type'],prefix=\"Campaign Type\"))\n",
    "    display = display.join(pd.get_dummies(display['Month'],prefix=\"Month\"))"
   ]
  },
  {
   "cell_type": "code",
   "execution_count": 6,
   "metadata": {
    "collapsed": true
   },
   "outputs": [],
   "source": [
    "    video = video.join(pd.get_dummies(video['Device'],prefix=\"Device\"))\n",
    "    video = video.join(pd.get_dummies(video['Targeting'],prefix=\"Targeting\"))\n",
    "    video = video.join(pd.get_dummies(video['Region'],prefix=\"Region\"))\n",
    "    video = video.join(pd.get_dummies(video['Channel'],prefix=\"Channel\"))\n",
    "    video = video.join(pd.get_dummies(video['Campaign Type'],prefix=\"Campaign Type\"))\n",
    "    video = video.join(pd.get_dummies(video['Month'],prefix=\"Month\"))"
   ]
  },
  {
   "cell_type": "code",
   "execution_count": 7,
   "metadata": {
    "collapsed": true
   },
   "outputs": [],
   "source": [
    "    search = search.join(pd.get_dummies(search['Device'],prefix=\"Device\"))\n",
    "    search = search.join(pd.get_dummies(search['Targeting'],prefix=\"Targeting\"))\n",
    "    search = search.join(pd.get_dummies(search['Region'],prefix=\"Region\"))\n",
    "    search = search.join(pd.get_dummies(search['Channel'],prefix=\"Channel\"))\n",
    "    search = search.join(pd.get_dummies(search['Campaign Type'],prefix=\"Campaign Type\"))\n",
    "    search = search.join(pd.get_dummies(search['Month'],prefix=\"Month\"))"
   ]
  },
  {
   "cell_type": "code",
   "execution_count": 13,
   "metadata": {
    "collapsed": false
   },
   "outputs": [],
   "source": [
    "\n",
    "\n",
    "def LinearRegressionResult(data):\n",
    "    X = data.drop(['Month','Clicks','Device','Date','Campaign Type','Media Type','Region','Targeting','Channel'],axis =1 )\n",
    "    y = data[\"Clicks\"]\n",
    "    \n",
    "    model = sm.OLS(y, X)\n",
    "    results = model.fit()\n",
    "    print(results.summary())"
   ]
  },
  {
   "cell_type": "code",
   "execution_count": 14,
   "metadata": {
    "collapsed": true
   },
   "outputs": [],
   "source": [
    "def LinearRegression(data):\n",
    "    X = data.drop(['Month','Clicks','Device','Date','Campaign Type','Media Type','Region','Targeting','Channel'],axis =1 )\n",
    "    y = data[\"Clicks\"]\n",
    "    lm = linear_model.LinearRegression()\n",
    "    lm.fit(X, y)\n",
    "    predicted = lm.predict(X)\n",
    "    print \"r^2:\", lm.score(X, y) "
   ]
  },
  {
   "cell_type": "code",
   "execution_count": 15,
   "metadata": {
    "collapsed": false
   },
   "outputs": [
    {
     "name": "stdout",
     "output_type": "stream",
     "text": [
      "                            OLS Regression Results                            \n",
      "==============================================================================\n",
      "Dep. Variable:                 Clicks   R-squared:                       0.175\n",
      "Model:                            OLS   Adj. R-squared:                  0.175\n",
      "Method:                 Least Squares   F-statistic:                     254.8\n",
      "Date:                Tue, 22 Nov 2016   Prob (F-statistic):               0.00\n",
      "Time:                        17:03:19   Log-Likelihood:            -4.1990e+05\n",
      "No. Observations:               40804   AIC:                         8.399e+05\n",
      "Df Residuals:                   40769   BIC:                         8.402e+05\n",
      "Df Model:                          34                                         \n",
      "Covariance Type:            nonrobust                                         \n",
      "=====================================================================================================\n",
      "                                        coef    std err          t      P>|t|      [95.0% Conf. Int.]\n",
      "-----------------------------------------------------------------------------------------------------\n",
      "Cost                                  2.5535      0.038     67.565      0.000         2.479     2.628\n",
      "Device_Desktop                    -2380.6717    154.286    -15.430      0.000     -2683.076 -2078.267\n",
      "Device_Mobile                      5235.2269    185.507     28.221      0.000      4871.630  5598.824\n",
      "Device_Tablet                     -1624.7878    153.665    -10.574      0.000     -1925.974 -1323.601\n",
      "Device_Unknown                    -1188.0171    482.608     -2.462      0.014     -2133.940  -242.094\n",
      "Targeting_Display                   580.3206    382.769      1.516      0.129      -169.916  1330.557\n",
      "Targeting_Reach                    -628.2629    218.088     -2.881      0.004     -1055.720  -200.806\n",
      "Targeting_Remarketing                89.6927    180.376      0.497      0.619      -263.849   443.234\n",
      "Region_AMS                         -781.5149    124.300     -6.287      0.000     -1025.146  -537.884\n",
      "Region_APAC                         616.2052    126.418      4.874      0.000       368.423   863.987\n",
      "Region_APAC                        -719.8049    337.457     -2.133      0.033     -1381.229   -58.381\n",
      "Region_EMEA                         457.3324    116.624      3.921      0.000       228.746   685.918\n",
      "Region_EMEA                       -1823.4560    485.252     -3.758      0.000     -2774.560  -872.352\n",
      "Region_Global                      1450.1807    137.910     10.515      0.000      1179.874  1720.487\n",
      "Region_LATAM                        842.8079    127.420      6.614      0.000       593.062  1092.554\n",
      "Channel_Bing                      -1272.9579    480.714     -2.648      0.008     -2215.168  -330.748\n",
      "Channel_Google                     1314.7083    243.065      5.409      0.000       838.295  1791.121\n",
      "Campaign Type_Image                 159.4186    213.792      0.746      0.456      -259.618   578.455\n",
      "Campaign Type_In-Market             564.4243    220.480      2.560      0.010       132.279   996.569\n",
      "Campaign Type_Legacy                230.3356    146.967      1.567      0.117       -57.722   518.394\n",
      "Campaign Type_Managed              -302.9541    200.550     -1.511      0.131      -696.036    90.128\n",
      "Campaign Type_Reach                -261.6675    168.806     -1.550      0.121      -592.531    69.195\n",
      "Campaign Type_Reach - Image        3837.3580    195.912     19.587      0.000      3453.365  4221.351\n",
      "Campaign Type_Reach - Text         1410.6233    200.687      7.029      0.000      1017.273  1803.973\n",
      "Campaign Type_Remarketing          -425.4607    171.496     -2.481      0.013      -761.597   -89.324\n",
      "Campaign Type_Remarketing - Image  -431.0143    177.556     -2.427      0.015      -779.028   -83.001\n",
      "Campaign Type_Remarketing - Text  -1333.3707    243.851     -5.468      0.000     -1811.323  -855.418\n",
      "Campaign Type_Retargeting         -3405.9420    943.547     -3.610      0.000     -5255.315 -1556.569\n",
      "Month_1                            1852.8121    129.421     14.316      0.000      1599.144  2106.480\n",
      "Month_2                            -209.3561    124.018     -1.688      0.091      -452.433    33.721\n",
      "Month_3                            -441.5541    118.155     -3.737      0.000      -673.141  -209.967\n",
      "Month_4                            -146.1617    119.211     -1.226      0.220      -379.818    87.495\n",
      "Month_5                            -272.4648    121.413     -2.244      0.025      -510.437   -34.492\n",
      "Month_6                            -319.8285    119.010     -2.687      0.007      -553.090   -86.567\n",
      "Month_7                            -331.3937    120.108     -2.759      0.006      -566.809   -95.979\n",
      "Month_8                            -281.1209    115.490     -2.434      0.015      -507.483   -54.759\n",
      "Month_9                            -562.6071    114.786     -4.901      0.000      -787.591  -337.624\n",
      "Month_10                           -468.8099    113.880     -4.117      0.000      -692.017  -245.603\n",
      "Month_11                           -740.4512    125.217     -5.913      0.000      -985.878  -495.024\n",
      "Month_12                           1962.6864    145.704     13.470      0.000      1677.103  2248.270\n",
      "==============================================================================\n",
      "Omnibus:                    99150.979   Durbin-Watson:                   1.843\n",
      "Prob(Omnibus):                  0.000   Jarque-Bera (JB):       1362850596.266\n",
      "Skew:                          25.631   Prob(JB):                         0.00\n",
      "Kurtosis:                     896.851   Cond. No.                     9.01e+15\n",
      "==============================================================================\n",
      "\n",
      "Warnings:\n",
      "[1] Standard Errors assume that the covariance matrix of the errors is correctly specified.\n",
      "[2] The smallest eigenvalue is 6.45e-22. This might indicate that there are\n",
      "strong multicollinearity problems or that the design matrix is singular.\n"
     ]
    }
   ],
   "source": [
    "LinearRegressionResult(display)"
   ]
  },
  {
   "cell_type": "code",
   "execution_count": 16,
   "metadata": {
    "collapsed": false
   },
   "outputs": [
    {
     "name": "stdout",
     "output_type": "stream",
     "text": [
      "r^2: 0.175282408486\n"
     ]
    }
   ],
   "source": [
    "LinearRegression(display)"
   ]
  },
  {
   "cell_type": "code",
   "execution_count": 17,
   "metadata": {
    "collapsed": false
   },
   "outputs": [],
   "source": [
    "from sklearn.tree import DecisionTreeRegressor\n",
    "\n",
    "def DecisionTree(data):\n",
    "#     data['Cost'] = np.log(data[\"Cost\"])\n",
    "    X = data.drop(['Month','Clicks','Device','Date','Campaign Type','Media Type','Region','Targeting','Channel'],axis =1 )\n",
    "    y = data[\"Clicks\"]\n",
    "    dt = DecisionTreeRegressor()\n",
    "    dt.fit(X, y)\n",
    "    \n",
    "    feature_importances_array = dt.feature_importances_\n",
    "\n",
    "    # Put the features themselves in a list\n",
    "    features_array = X.columns.values \n",
    "\n",
    "    # Turn these into a Data Frame\n",
    "    feature_importances_df = pd.DataFrame({'importances' : feature_importances_array, 'features' : features_array})\n",
    "    \n",
    "    print dt.score(X,y)\n",
    "    print feature_importances_df.sort(columns='importances', ascending=False)\n",
    "    "
   ]
  },
  {
   "cell_type": "code",
   "execution_count": 21,
   "metadata": {
    "collapsed": false
   },
   "outputs": [
    {
     "data": {
      "text/plain": [
       "<matplotlib.collections.PathCollection at 0x10c68ef50>"
      ]
     },
     "execution_count": 21,
     "metadata": {},
     "output_type": "execute_result"
    },
    {
     "data": {
      "image/png": "[encoded data removed]",
      "text/plain": [
       "<matplotlib.figure.Figure at 0x10c213e50>"
      ]
     },
     "metadata": {},
     "output_type": "display_data"
    }
   ],
   "source": [
    "plt.scatter(display.Device_Mobile, display.Clicks, alpha=0.01)"
   ]
  },
  {
   "cell_type": "markdown",
   "metadata": {},
   "source": [
    "SW: Looks like the feature 'Device_Mobile\" is indeed pretty important in predicting number of clicks!"
   ]
  },
  {
   "cell_type": "code",
   "execution_count": 18,
   "metadata": {
    "collapsed": false
   },
   "outputs": [
    {
     "name": "stdout",
     "output_type": "stream",
     "text": [
      "0.999999883608\n",
      "                             features   importances\n",
      "2                       Device_Mobile  6.325626e-01\n",
      "0                                Cost  2.471630e-01\n",
      "21                Campaign Type_Reach  2.883578e-02\n",
      "35                            Month_8  2.266729e-02\n",
      "22        Campaign Type_Reach - Image  1.974917e-02\n",
      "13                      Region_Global  1.044851e-02\n",
      "39                           Month_12  9.460204e-03\n",
      "23         Campaign Type_Reach - Text  8.695420e-03\n",
      "6                     Targeting_Reach  7.144036e-03\n",
      "28                            Month_1  2.911893e-03\n",
      "19               Campaign Type_Legacy  2.483787e-03\n",
      "14                       Region_LATAM  1.564220e-03\n",
      "8                          Region_AMS  9.421787e-04\n",
      "3                       Device_Tablet  8.710230e-04\n",
      "29                            Month_2  7.340299e-04\n",
      "9                         Region_APAC  6.435038e-04\n",
      "30                            Month_3  5.893947e-04\n",
      "18            Campaign Type_In-Market  4.972106e-04\n",
      "1                      Device_Desktop  4.349450e-04\n",
      "36                            Month_9  3.466695e-04\n",
      "11                        Region_EMEA  2.991341e-04\n",
      "26   Campaign Type_Remarketing - Text  1.925845e-04\n",
      "31                            Month_4  1.608725e-04\n",
      "34                            Month_7  1.141675e-04\n",
      "37                           Month_10  9.179437e-05\n",
      "7               Targeting_Remarketing  8.148445e-05\n",
      "25  Campaign Type_Remarketing - Image  7.579817e-05\n",
      "38                           Month_11  7.424418e-05\n",
      "33                            Month_6  6.917423e-05\n",
      "20              Campaign Type_Managed  4.018370e-05\n",
      "32                            Month_5  3.293584e-05\n",
      "24          Campaign Type_Remarketing  2.079562e-05\n",
      "17                Campaign Type_Image  7.044355e-07\n",
      "15                       Channel_Bing  5.844822e-07\n",
      "16                     Channel_Google  3.960315e-07\n",
      "10                      Region_APAC    2.064269e-07\n",
      "27          Campaign Type_Retargeting  6.081194e-08\n",
      "5                   Targeting_Display  4.978789e-08\n",
      "12                      Region_EMEA    3.688630e-08\n",
      "4                      Device_Unknown  5.238835e-11\n"
     ]
    },
    {
     "name": "stderr",
     "output_type": "stream",
     "text": [
      "/Library/Frameworks/Python.framework/Versions/2.7/lib/python2.7/site-packages/ipykernel/__main__.py:19: FutureWarning: sort(columns=....) is deprecated, use sort_values(by=.....)\n"
     ]
    }
   ],
   "source": [
    "DecisionTree(display)"
   ]
  },
  {
   "cell_type": "code",
   "execution_count": 27,
   "metadata": {
    "collapsed": false
   },
   "outputs": [],
   "source": [
    "from sklearn.ensemble import RandomForestRegressor\n",
    "from sklearn.model_selection import train_test_split\n",
    "\n",
    "def RandomForrest(data):\n",
    "#     data['Cost'] = np.log(data[\"Cost\"])\n",
    "    X = data.drop(['Month','Clicks','Device','Date','Campaign Type','Media Type','Region','Targeting','Channel'],axis =1 )\n",
    "    y = data[\"Clicks\"]\n",
    "    X_train, X_test, y_train, y_test = train_test_split(X, y, test_size=0.20, random_state=42)\n",
    "    \n",
    "    rf = RandomForestRegressor()\n",
    "    rf.fit(X_train, y_train)\n",
    "#     data['predict_clicks'] = rf.predict(X_test)\n",
    "    \n",
    "    feature_importances_array = rf.feature_importances_\n",
    "\n",
    "    # Put the features themselves in a list\n",
    "    features_array = X.columns.values \n",
    "\n",
    "    # Turn these into a Data Frame\n",
    "    feature_importances_df = pd.DataFrame({'importances' : feature_importances_array, 'features' : features_array})\n",
    "    \n",
    "    print rf.score(X_test,y_test)\n",
    "    print feature_importances_df.sort(columns='importances', ascending=False)\n",
    "    "
   ]
  },
  {
   "cell_type": "code",
   "execution_count": 8,
   "metadata": {
    "collapsed": false
   },
   "outputs": [
    {
     "data": {
      "text/plain": [
       "(0, 10000)"
      ]
     },
     "execution_count": 8,
     "metadata": {},
     "output_type": "execute_result"
    },
    {
     "data": {
      "image/png": "[encoded data removed]",
      "text/plain": [
       "<matplotlib.figure.Figure at 0x10c72b090>"
      ]
     },
     "metadata": {},
     "output_type": "display_data"
    }
   ],
   "source": [
    "ax = np.log(display.Clicks).hist(bins=5000)\n",
    "ax.set_xlim([0,10000])"
   ]
  },
  {
   "cell_type": "code",
   "execution_count": 9,
   "metadata": {
    "collapsed": false
   },
   "outputs": [
    {
     "data": {
      "text/plain": [
       "(40804, 49)"
      ]
     },
     "execution_count": 9,
     "metadata": {},
     "output_type": "execute_result"
    }
   ],
   "source": [
    "display.shape"
   ]
  },
  {
   "cell_type": "markdown",
   "metadata": {},
   "source": [
    "SW: Hey Ng, I would log-transform Clicks to see if you get a more realistic model. In about 45% of your cases, clicks is 0, and you have a few extremely large values here."
   ]
  },
  {
   "cell_type": "markdown",
   "metadata": {},
   "source": [
    "SW: Overall, it is possible that your random forest model is this good. I would look at the predictions on some individual cases to see the predictions your model is returning \"make sense\"."
   ]
  },
  {
   "cell_type": "code",
   "execution_count": 28,
   "metadata": {
    "collapsed": false
   },
   "outputs": [
    {
     "name": "stdout",
     "output_type": "stream",
     "text": [
      "0.988790804625\n",
      "                             features   importances\n",
      "2                       Device_Mobile  5.605204e-01\n",
      "0                                Cost  2.916817e-01\n",
      "22        Campaign Type_Reach - Image  3.268760e-02\n",
      "21                Campaign Type_Reach  2.556251e-02\n",
      "9                         Region_APAC  1.935499e-02\n",
      "39                           Month_12  1.526531e-02\n",
      "13                      Region_Global  1.213161e-02\n",
      "23         Campaign Type_Reach - Text  1.160100e-02\n",
      "35                            Month_8  8.614913e-03\n",
      "19               Campaign Type_Legacy  3.761646e-03\n",
      "14                       Region_LATAM  3.255365e-03\n",
      "28                            Month_1  3.123562e-03\n",
      "6                     Targeting_Reach  2.879510e-03\n",
      "25  Campaign Type_Remarketing - Image  1.376959e-03\n",
      "36                            Month_9  1.332182e-03\n",
      "7               Targeting_Remarketing  1.322853e-03\n",
      "1                      Device_Desktop  7.979289e-04\n",
      "29                            Month_2  7.573481e-04\n",
      "8                          Region_AMS  6.804413e-04\n",
      "24          Campaign Type_Remarketing  5.826582e-04\n",
      "3                       Device_Tablet  5.694264e-04\n",
      "11                        Region_EMEA  4.164488e-04\n",
      "31                            Month_4  3.426573e-04\n",
      "18            Campaign Type_In-Market  3.159143e-04\n",
      "30                            Month_3  2.367800e-04\n",
      "20              Campaign Type_Managed  2.299707e-04\n",
      "33                            Month_6  1.614920e-04\n",
      "26   Campaign Type_Remarketing - Text  1.164719e-04\n",
      "34                            Month_7  1.130398e-04\n",
      "37                           Month_10  8.197477e-05\n",
      "38                           Month_11  6.861852e-05\n",
      "32                            Month_5  5.261050e-05\n",
      "15                       Channel_Bing  1.528368e-06\n",
      "17                Campaign Type_Image  9.702979e-07\n",
      "16                     Channel_Google  9.409351e-07\n",
      "12                      Region_EMEA    2.121058e-07\n",
      "10                      Region_APAC    1.881093e-07\n",
      "27          Campaign Type_Retargeting  1.668877e-07\n",
      "5                   Targeting_Display  8.899371e-08\n",
      "4                      Device_Unknown  2.061989e-10\n"
     ]
    },
    {
     "name": "stderr",
     "output_type": "stream",
     "text": [
      "/anaconda/lib/python2.7/site-packages/ipykernel/__main__.py:23: FutureWarning: sort(columns=....) is deprecated, use sort_values(by=.....)\n"
     ]
    }
   ],
   "source": [
    "RandomForrest(display)"
   ]
  },
  {
   "cell_type": "code",
   "execution_count": 47,
   "metadata": {
    "collapsed": false
   },
   "outputs": [
    {
     "data": {
      "text/html": [
       "<div>\n",
       "<table border=\"1\" class=\"dataframe\">\n",
       "  <thead>\n",
       "    <tr style=\"text-align: right;\">\n",
       "      <th></th>\n",
       "      <th>Date</th>\n",
       "      <th>Month</th>\n",
       "      <th>Device</th>\n",
       "      <th>Channel</th>\n",
       "      <th>Campaign Type</th>\n",
       "      <th>Media Type</th>\n",
       "      <th>Region</th>\n",
       "      <th>Targeting</th>\n",
       "      <th>Cost</th>\n",
       "      <th>Clicks</th>\n",
       "      <th>...</th>\n",
       "      <th>Month_4</th>\n",
       "      <th>Month_5</th>\n",
       "      <th>Month_6</th>\n",
       "      <th>Month_7</th>\n",
       "      <th>Month_8</th>\n",
       "      <th>Month_9</th>\n",
       "      <th>Month_10</th>\n",
       "      <th>Month_11</th>\n",
       "      <th>Month_12</th>\n",
       "      <th>predict_clicks</th>\n",
       "    </tr>\n",
       "  </thead>\n",
       "  <tbody>\n",
       "    <tr>\n",
       "      <th>0</th>\n",
       "      <td>1/1/2013</td>\n",
       "      <td>1</td>\n",
       "      <td>Desktop</td>\n",
       "      <td>Google</td>\n",
       "      <td>Remarketing</td>\n",
       "      <td>Display</td>\n",
       "      <td>Global</td>\n",
       "      <td>Remarketing</td>\n",
       "      <td>1074.74</td>\n",
       "      <td>3752</td>\n",
       "      <td>...</td>\n",
       "      <td>0.0</td>\n",
       "      <td>0.0</td>\n",
       "      <td>0.0</td>\n",
       "      <td>0.0</td>\n",
       "      <td>0.0</td>\n",
       "      <td>0.0</td>\n",
       "      <td>0.0</td>\n",
       "      <td>0.0</td>\n",
       "      <td>0.0</td>\n",
       "      <td>3356.8</td>\n",
       "    </tr>\n",
       "    <tr>\n",
       "      <th>1</th>\n",
       "      <td>1/1/2013</td>\n",
       "      <td>1</td>\n",
       "      <td>Mobile</td>\n",
       "      <td>Google</td>\n",
       "      <td>Reach</td>\n",
       "      <td>Display</td>\n",
       "      <td>Global</td>\n",
       "      <td>Reach</td>\n",
       "      <td>845.78</td>\n",
       "      <td>1050</td>\n",
       "      <td>...</td>\n",
       "      <td>0.0</td>\n",
       "      <td>0.0</td>\n",
       "      <td>0.0</td>\n",
       "      <td>0.0</td>\n",
       "      <td>0.0</td>\n",
       "      <td>0.0</td>\n",
       "      <td>0.0</td>\n",
       "      <td>0.0</td>\n",
       "      <td>0.0</td>\n",
       "      <td>1016.4</td>\n",
       "    </tr>\n",
       "    <tr>\n",
       "      <th>2</th>\n",
       "      <td>1/1/2013</td>\n",
       "      <td>1</td>\n",
       "      <td>Tablet</td>\n",
       "      <td>Google</td>\n",
       "      <td>Reach</td>\n",
       "      <td>Display</td>\n",
       "      <td>Global</td>\n",
       "      <td>Reach</td>\n",
       "      <td>420.80</td>\n",
       "      <td>350</td>\n",
       "      <td>...</td>\n",
       "      <td>0.0</td>\n",
       "      <td>0.0</td>\n",
       "      <td>0.0</td>\n",
       "      <td>0.0</td>\n",
       "      <td>0.0</td>\n",
       "      <td>0.0</td>\n",
       "      <td>0.0</td>\n",
       "      <td>0.0</td>\n",
       "      <td>0.0</td>\n",
       "      <td>374.8</td>\n",
       "    </tr>\n",
       "    <tr>\n",
       "      <th>3</th>\n",
       "      <td>1/2/2013</td>\n",
       "      <td>1</td>\n",
       "      <td>Mobile</td>\n",
       "      <td>Google</td>\n",
       "      <td>Reach</td>\n",
       "      <td>Display</td>\n",
       "      <td>EMEA</td>\n",
       "      <td>Reach</td>\n",
       "      <td>88.40</td>\n",
       "      <td>136</td>\n",
       "      <td>...</td>\n",
       "      <td>0.0</td>\n",
       "      <td>0.0</td>\n",
       "      <td>0.0</td>\n",
       "      <td>0.0</td>\n",
       "      <td>0.0</td>\n",
       "      <td>0.0</td>\n",
       "      <td>0.0</td>\n",
       "      <td>0.0</td>\n",
       "      <td>0.0</td>\n",
       "      <td>130.0</td>\n",
       "    </tr>\n",
       "    <tr>\n",
       "      <th>4</th>\n",
       "      <td>1/2/2013</td>\n",
       "      <td>1</td>\n",
       "      <td>Tablet</td>\n",
       "      <td>Google</td>\n",
       "      <td>Remarketing</td>\n",
       "      <td>Display</td>\n",
       "      <td>Global</td>\n",
       "      <td>Remarketing</td>\n",
       "      <td>17.06</td>\n",
       "      <td>82</td>\n",
       "      <td>...</td>\n",
       "      <td>0.0</td>\n",
       "      <td>0.0</td>\n",
       "      <td>0.0</td>\n",
       "      <td>0.0</td>\n",
       "      <td>0.0</td>\n",
       "      <td>0.0</td>\n",
       "      <td>0.0</td>\n",
       "      <td>0.0</td>\n",
       "      <td>0.0</td>\n",
       "      <td>81.4</td>\n",
       "    </tr>\n",
       "  </tbody>\n",
       "</table>\n",
       "<p>5 rows × 50 columns</p>\n",
       "</div>"
      ],
      "text/plain": [
       "       Date  Month   Device Channel Campaign Type Media Type  Region  \\\n",
       "0  1/1/2013      1  Desktop  Google   Remarketing    Display  Global   \n",
       "1  1/1/2013      1   Mobile  Google         Reach    Display  Global   \n",
       "2  1/1/2013      1   Tablet  Google         Reach    Display  Global   \n",
       "3  1/2/2013      1   Mobile  Google         Reach    Display  EMEA     \n",
       "4  1/2/2013      1   Tablet  Google   Remarketing    Display  Global   \n",
       "\n",
       "     Targeting     Cost  Clicks       ...        Month_4  Month_5  Month_6  \\\n",
       "0  Remarketing  1074.74    3752       ...            0.0      0.0      0.0   \n",
       "1        Reach   845.78    1050       ...            0.0      0.0      0.0   \n",
       "2        Reach   420.80     350       ...            0.0      0.0      0.0   \n",
       "3        Reach    88.40     136       ...            0.0      0.0      0.0   \n",
       "4  Remarketing    17.06      82       ...            0.0      0.0      0.0   \n",
       "\n",
       "   Month_7  Month_8  Month_9  Month_10  Month_11  Month_12  predict_clicks  \n",
       "0      0.0      0.0      0.0       0.0       0.0       0.0          3356.8  \n",
       "1      0.0      0.0      0.0       0.0       0.0       0.0          1016.4  \n",
       "2      0.0      0.0      0.0       0.0       0.0       0.0           374.8  \n",
       "3      0.0      0.0      0.0       0.0       0.0       0.0           130.0  \n",
       "4      0.0      0.0      0.0       0.0       0.0       0.0            81.4  \n",
       "\n",
       "[5 rows x 50 columns]"
      ]
     },
     "execution_count": 47,
     "metadata": {},
     "output_type": "execute_result"
    }
   ],
   "source": [
    "display.head()"
   ]
  },
  {
   "cell_type": "code",
   "execution_count": 62,
   "metadata": {
    "collapsed": false
   },
   "outputs": [
    {
     "ename": "ValueError",
     "evalue": "Can't handle mix of multiclass and continuous",
     "output_type": "error",
     "traceback": [
      "\u001b[0;31m---------------------------------------------------------------------------\u001b[0m",
      "\u001b[0;31mValueError\u001b[0m                                Traceback (most recent call last)",
      "\u001b[0;32m<ipython-input-62-47047891b5eb>\u001b[0m in \u001b[0;36m<module>\u001b[0;34m()\u001b[0m\n\u001b[1;32m      1\u001b[0m \u001b[0;32mfrom\u001b[0m \u001b[0msklearn\u001b[0m\u001b[0;34m.\u001b[0m\u001b[0mmetrics\u001b[0m \u001b[0;32mimport\u001b[0m \u001b[0maccuracy_score\u001b[0m\u001b[0;34m\u001b[0m\u001b[0m\n\u001b[1;32m      2\u001b[0m \u001b[0;34m\u001b[0m\u001b[0m\n\u001b[0;32m----> 3\u001b[0;31m \u001b[0maccuracy_score\u001b[0m\u001b[0;34m(\u001b[0m\u001b[0mdisplay\u001b[0m\u001b[0;34m.\u001b[0m\u001b[0mClicks\u001b[0m\u001b[0;34m,\u001b[0m \u001b[0mdisplay\u001b[0m\u001b[0;34m.\u001b[0m\u001b[0mpredict_clicks\u001b[0m\u001b[0;34m)\u001b[0m\u001b[0;34m\u001b[0m\u001b[0m\n\u001b[0m",
      "\u001b[0;32m//anaconda/lib/python2.7/site-packages/sklearn/metrics/classification.pyc\u001b[0m in \u001b[0;36maccuracy_score\u001b[0;34m(y_true, y_pred, normalize, sample_weight)\u001b[0m\n\u001b[1;32m    170\u001b[0m \u001b[0;34m\u001b[0m\u001b[0m\n\u001b[1;32m    171\u001b[0m     \u001b[0;31m# Compute accuracy for each possible representation\u001b[0m\u001b[0;34m\u001b[0m\u001b[0;34m\u001b[0m\u001b[0m\n\u001b[0;32m--> 172\u001b[0;31m     \u001b[0my_type\u001b[0m\u001b[0;34m,\u001b[0m \u001b[0my_true\u001b[0m\u001b[0;34m,\u001b[0m \u001b[0my_pred\u001b[0m \u001b[0;34m=\u001b[0m \u001b[0m_check_targets\u001b[0m\u001b[0;34m(\u001b[0m\u001b[0my_true\u001b[0m\u001b[0;34m,\u001b[0m \u001b[0my_pred\u001b[0m\u001b[0;34m)\u001b[0m\u001b[0;34m\u001b[0m\u001b[0m\n\u001b[0m\u001b[1;32m    173\u001b[0m     \u001b[0;32mif\u001b[0m \u001b[0my_type\u001b[0m\u001b[0;34m.\u001b[0m\u001b[0mstartswith\u001b[0m\u001b[0;34m(\u001b[0m\u001b[0;34m'multilabel'\u001b[0m\u001b[0;34m)\u001b[0m\u001b[0;34m:\u001b[0m\u001b[0;34m\u001b[0m\u001b[0m\n\u001b[1;32m    174\u001b[0m         \u001b[0mdiffering_labels\u001b[0m \u001b[0;34m=\u001b[0m \u001b[0mcount_nonzero\u001b[0m\u001b[0;34m(\u001b[0m\u001b[0my_true\u001b[0m \u001b[0;34m-\u001b[0m \u001b[0my_pred\u001b[0m\u001b[0;34m,\u001b[0m \u001b[0maxis\u001b[0m\u001b[0;34m=\u001b[0m\u001b[0;36m1\u001b[0m\u001b[0;34m)\u001b[0m\u001b[0;34m\u001b[0m\u001b[0m\n",
      "\u001b[0;32m//anaconda/lib/python2.7/site-packages/sklearn/metrics/classification.pyc\u001b[0m in \u001b[0;36m_check_targets\u001b[0;34m(y_true, y_pred)\u001b[0m\n\u001b[1;32m     80\u001b[0m     \u001b[0;32mif\u001b[0m \u001b[0mlen\u001b[0m\u001b[0;34m(\u001b[0m\u001b[0my_type\u001b[0m\u001b[0;34m)\u001b[0m \u001b[0;34m>\u001b[0m \u001b[0;36m1\u001b[0m\u001b[0;34m:\u001b[0m\u001b[0;34m\u001b[0m\u001b[0m\n\u001b[1;32m     81\u001b[0m         raise ValueError(\"Can't handle mix of {0} and {1}\"\n\u001b[0;32m---> 82\u001b[0;31m                          \"\".format(type_true, type_pred))\n\u001b[0m\u001b[1;32m     83\u001b[0m \u001b[0;34m\u001b[0m\u001b[0m\n\u001b[1;32m     84\u001b[0m     \u001b[0;31m# We can't have more than one value on y_type => The set is no more needed\u001b[0m\u001b[0;34m\u001b[0m\u001b[0;34m\u001b[0m\u001b[0m\n",
      "\u001b[0;31mValueError\u001b[0m: Can't handle mix of multiclass and continuous"
     ]
    }
   ],
   "source": [
    "from sklearn.metrics import accuracy_score\n",
    "\n",
    "accuracy_score(display.Clicks, display.predict_clicks)"
   ]
  },
  {
   "cell_type": "markdown",
   "metadata": {},
   "source": [
    "SW: \"Accuracy score\" only works if the two arguments are categorical rather than continuous. I think you want something like \"mean_squared_error\" or \"R squared\" here - we went over how to do these in class 6, I believe."
   ]
  },
  {
   "cell_type": "markdown",
   "metadata": {
    "collapsed": true
   },
   "source": [
    "SW: Keep up the great work, Ng!"
   ]
  },
  {
   "cell_type": "code",
   "execution_count": null,
   "metadata": {
    "collapsed": true
   },
   "outputs": [],
   "source": []
  }
 ],
 "metadata": {
  "anaconda-cloud": {},
  "kernelspec": {
   "display_name": "Python [default]",
   "language": "python",
   "name": "python2"
  },
  "language_info": {
   "codemirror_mode": {
    "name": "ipython",
    "version": 2
   },
   "file_extension": ".py",
   "mimetype": "text/x-python",
   "name": "python",
   "nbconvert_exporter": "python",
   "pygments_lexer": "ipython2",
   "version": "2.7.12"
  },
  "toc": {
   "nav_menu": {
    "height": "12px",
    "width": "252px"
   },
   "navigate_menu": true,
   "number_sections": true,
   "sideBar": true,
   "threshold": 4,
   "toc_cell": false,
   "toc_section_display": "block",
   "toc_window_display": true
  }
 },
 "nbformat": 4,
 "nbformat_minor": 0
}
