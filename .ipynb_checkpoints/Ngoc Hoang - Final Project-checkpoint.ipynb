{
 "cells": [
  {
   "cell_type": "raw",
   "metadata": {},
   "source": [
    "# Problem Statement: To identify which marketing channel yields the most efficient result based on data collected by Google Adwords, Bing, DCM and Facebook Business Manager, from 2014 to present. Identify opportunities to reduce cost from the predicted result. "
   ]
  },
  {
   "cell_type": "raw",
   "metadata": {},
   "source": [
    "# Hypothesis: client spend the most on Paid Search so Paid Search channel would yield the best result."
   ]
  },
  {
   "cell_type": "raw",
   "metadata": {
    "collapsed": true
   },
   "source": [
    "# Potential Method: To use regression models(linear regressions, random forest regressor ) to predict number of CLICKS that each channel has, evaluate models, then determine the CTR and compare it with actual result."
   ]
  },
  {
   "cell_type": "raw",
   "metadata": {},
   "source": [
    "# Available data: Data from each Media type (channel) collected by engines (source of truth). Spend, Device that users use to click the ad, geo, vendor that host campaigns, campaigns types, month since different month might have hidden factors that influence clicks, region, how campaigns are targeted."
   ]
  },
  {
   "cell_type": "raw",
   "metadata": {},
   "source": [
    "# Risks: even though click might not be a good indicator of efficiency (Conversion is), but with the data that we have, clicks is a good starting point.\n"
   ]
  },
  {
   "cell_type": "raw",
   "metadata": {
    "collapsed": true
   },
   "source": [
    "# Goal: To be able to predict numbers of clicks for the upcoming months and to come up with a budget that maximizes result"
   ]
  },
  {
   "cell_type": "code",
   "execution_count": 180,
   "metadata": {
    "collapsed": false
   },
   "outputs": [],
   "source": [
    "%matplotlib inline\n",
    "import numpy as np\n",
    "import pandas as pd\n",
    "from matplotlib import pyplot as plt\n",
    "import seaborn as sns\n",
    "import sklearn.linear_model\n",
    "import seaborn as sb\n",
    "import statsmodels.api as sm\n",
    "from sklearn.cross_validation import cross_val_score\n",
    "from sklearn.linear_model import LinearRegression\n",
    "from sklearn import linear_model\n"
   ]
  },
  {
   "cell_type": "code",
   "execution_count": 215,
   "metadata": {
    "collapsed": true
   },
   "outputs": [],
   "source": [
    "#Read file\n",
    "search = pd.read_csv('Search data.csv')\n",
    "display = pd.read_csv('display data.csv')\n",
    "video = pd.read_csv('video data.csv')"
   ]
  },
  {
   "cell_type": "code",
   "execution_count": 222,
   "metadata": {
    "collapsed": false
   },
   "outputs": [],
   "source": [
    "def ExploratoryAnalysis(data):\n",
    "    print \"first 5 rows: \\n\" + str(data.head(5)) + \"\\n\\n\"\n",
    "    print \"statistical summary of data: \\n\\n\" + str(data.describe()) + \"\\n\\n\"\n",
    "    print \"correlation: \\n\\n\" + str(data.corr()) +\"\\n\\n\"\n",
    "    columns = data.columns\n",
    "    for i in range(0,len(columns)):\n",
    "        print \"columns \" + str(columns[i]) + \" has distinct values: \\n\" + str((data[columns[i]].value_counts())) + \"\\n\\n\"\n",
    "    \n",
    "    print \"Pivot table: \\n\" +    str(pd.pivot_table(data, index = 'Month', aggfunc = np.sum)) + '\\n\\n'\n",
    "    print \"Graph: number of clicks distributed by Month \\n\" +  str(sb.factorplot( x='Month', y='Clicks', data=data, kind='bar', estimator = sum)) + \"\\n\\n\"\n",
    "    print \"Graph: spend distributed by Month \\n\" +  str(sb.factorplot( x='Month', y='Cost', data=data, kind='bar', estimator = sum)) + \"\\n\\n\""
   ]
  },
  {
   "cell_type": "code",
   "execution_count": 223,
   "metadata": {
    "collapsed": false
   },
   "outputs": [
    {
     "name": "stdout",
     "output_type": "stream",
     "text": [
      "first 5 rows: \n",
      "       Date  Month   Device Channel Campaign Type Media Type  Region  \\\n",
      "0  1/1/2013      1  Desktop  Google        Legacy     Search  Global   \n",
      "1  1/1/2013      1   Mobile  Google        Legacy     Search   LATAM   \n",
      "2  1/1/2013      1   Tablet  Google        Legacy     Search     AMS   \n",
      "3  1/1/2013      1   Tablet  Google        Legacy     Search  Global   \n",
      "4  1/2/2013      1   Mobile  Google        Legacy     Search    EMEA   \n",
      "\n",
      "  Targeting   Cost  Clicks  \n",
      "0     Brand  90.64      62  \n",
      "1        NB   7.20       4  \n",
      "2        NB  86.32      28  \n",
      "3     Brand   9.26       6  \n",
      "4        NB   1.90       6  \n",
      "\n",
      "\n",
      "statistical summary of data: \n",
      "\n",
      "              Month          Cost        Clicks\n",
      "count  49835.000000  49835.000000  49835.000000\n",
      "mean       6.786134    744.762220    119.749253\n",
      "std        3.442085   1888.371941    387.852678\n",
      "min        1.000000      0.000000      2.000000\n",
      "25%        4.000000     15.660000      6.000000\n",
      "50%        7.000000     77.940000     20.000000\n",
      "75%       10.000000    493.130000    106.000000\n",
      "max       12.000000  33824.620000  28190.000000\n",
      "\n",
      "\n",
      "[<matplotlib.lines.Line2D object at 0x11ac64a10>]\n",
      "{'boxes': [<matplotlib.lines.Line2D object at 0x11ac4f290>], 'fliers': [<matplotlib.lines.Line2D object at 0x11ac88350>], 'medians': [<matplotlib.lines.Line2D object at 0x11ac74cd0>], 'means': [], 'whiskers': [<matplotlib.lines.Line2D object at 0x11ac4f390>, <matplotlib.lines.Line2D object at 0x11ac4f9d0>], 'caps': [<matplotlib.lines.Line2D object at 0x11ac74050>, <matplotlib.lines.Line2D object at 0x11ac74690>]}\n",
      "correlation: \n",
      "\n",
      "           Month      Cost    Clicks\n",
      "Month   1.000000 -0.003122  0.028653\n",
      "Cost   -0.003122  1.000000  0.437286\n",
      "Clicks  0.028653  0.437286  1.000000\n",
      "\n",
      "\n",
      "columns Date has distinct values: \n",
      "12/5/2015     118\n",
      "12/6/2015     116\n",
      "12/7/2015     114\n",
      "12/13/2015    114\n",
      "12/15/2015    112\n",
      "12/17/2015    111\n",
      "12/9/2015     111\n",
      "12/23/2015    108\n",
      "12/11/2015    108\n",
      "12/18/2015    107\n",
      "12/20/2015    107\n",
      "12/22/2015    107\n",
      "12/14/2015    107\n",
      "12/12/2015    107\n",
      "12/21/2015    106\n",
      "12/16/2015    106\n",
      "12/10/2015    104\n",
      "12/19/2015    104\n",
      "12/8/2015     103\n",
      "12/25/2015    102\n",
      "12/24/2015     97\n",
      "12/26/2015     95\n",
      "12/4/2015      90\n",
      "12/2/2015      89\n",
      "12/3/2015      88\n",
      "12/1/2015      88\n",
      "12/31/2015     83\n",
      "12/27/2015     81\n",
      "12/28/2015     81\n",
      "9/19/2016      77\n",
      "             ... \n",
      "2/1/2013       15\n",
      "5/4/2013       15\n",
      "1/16/2013      15\n",
      "5/10/2013      15\n",
      "4/6/2013       15\n",
      "5/18/2013      14\n",
      "4/20/2013      14\n",
      "2/5/2013       14\n",
      "1/10/2013      14\n",
      "5/6/2013       14\n",
      "3/30/2013      14\n",
      "6/2/2013       14\n",
      "5/11/2013      14\n",
      "5/25/2013      14\n",
      "1/6/2013       14\n",
      "5/12/2013      14\n",
      "3/14/2013      14\n",
      "1/1/2013       14\n",
      "2/9/2013       14\n",
      "5/26/2013      14\n",
      "3/31/2013      14\n",
      "5/5/2013       14\n",
      "6/1/2013       14\n",
      "4/13/2013      14\n",
      "5/13/2013      13\n",
      "2/8/2013       13\n",
      "3/9/2013       13\n",
      "1/13/2013      13\n",
      "10/24/2015     12\n",
      "4/7/2013       12\n",
      "Name: Date, dtype: int64\n",
      "\n",
      "\n",
      "columns Month has distinct values: \n",
      "12    4979\n",
      "9     4800\n",
      "10    4648\n",
      "8     4511\n",
      "7     4136\n",
      "3     3975\n",
      "6     3944\n",
      "4     3936\n",
      "1     3920\n",
      "11    3878\n",
      "5     3864\n",
      "2     3244\n",
      "Name: Month, dtype: int64\n",
      "\n",
      "\n",
      "columns Device has distinct values: \n",
      "Desktop    22823\n",
      "Tablet     15231\n",
      "Mobile     11599\n",
      "Unknown      182\n",
      "Name: Device, dtype: int64\n",
      "\n",
      "\n",
      "columns Channel has distinct values: \n",
      "Google          41357\n",
      "Bing             8296\n",
      "Yahoo Gemini      182\n",
      "Name: Channel, dtype: int64\n",
      "\n",
      "\n",
      "columns Campaign Type has distinct values: \n",
      "Legacy         30207\n",
      "Alpha           8513\n",
      "Beta            8405\n",
      "Gamma           2240\n",
      "Brand            200\n",
      "Reach            144\n",
      "Non-Brand         98\n",
      "DKI               27\n",
      "Remarketing        1\n",
      "Name: Campaign Type, dtype: int64\n",
      "\n",
      "\n",
      "columns Media Type has distinct values: \n",
      "Search    49835\n",
      "Name: Media Type, dtype: int64\n",
      "\n",
      "\n",
      "columns Region has distinct values: \n",
      "AMS       11749\n",
      "EMEA      10699\n",
      "Global    10128\n",
      "APAC       9654\n",
      "LATAM      7605\n",
      "Name: Region, dtype: int64\n",
      "\n",
      "\n",
      "columns Targeting has distinct values: \n",
      "NB             25312\n",
      "Brand          22710\n",
      "Search          1668\n",
      "Reach            144\n",
      "Remarketing        1\n",
      "Name: Targeting, dtype: int64\n",
      "\n",
      "\n",
      "columns Cost has distinct values: \n",
      "0.100000       110\n",
      "0.200000        93\n",
      "0.020000        91\n",
      "0.120000        66\n",
      "0.300000        59\n",
      "0.080000        56\n",
      "0.220000        54\n",
      "0.380000        53\n",
      "0.320000        52\n",
      "0.460000        51\n",
      "0.160000        50\n",
      "0.500000        50\n",
      "0.240000        49\n",
      "0.360000        46\n",
      "0.440000        45\n",
      "0.040000        45\n",
      "0.060000        43\n",
      "0.400000        41\n",
      "0.420000        39\n",
      "0.700000        39\n",
      "0.140000        39\n",
      "0.520000        39\n",
      "0.180000        36\n",
      "1.480000        36\n",
      "0.780000        36\n",
      "0.840000        36\n",
      "1.000000        36\n",
      "0.940000        35\n",
      "0.340000        35\n",
      "0.720000        35\n",
      "              ... \n",
      "665.220000       1\n",
      "1649.680000      1\n",
      "1200.420000      1\n",
      "866.660000       1\n",
      "4152.920000      1\n",
      "130.560000       1\n",
      "266.320000       1\n",
      "97.639999        1\n",
      "137.360000       1\n",
      "3990.640000      1\n",
      "2011.960000      1\n",
      "117.080000       1\n",
      "1943.120000      1\n",
      "8930.180000      1\n",
      "6878.660000      1\n",
      "4199.560000      1\n",
      "491.360000       1\n",
      "1288.760000      1\n",
      "2582.380000      1\n",
      "645.280000       1\n",
      "2211.440000      1\n",
      "1711.620000      1\n",
      "240.100000       1\n",
      "468.240000       1\n",
      "2386.540000      1\n",
      "1133.220000      1\n",
      "1967.920000      1\n",
      "1620.900000      1\n",
      "3065.560000      1\n",
      "760.500000       1\n",
      "Name: Cost, dtype: int64\n",
      "\n",
      "\n",
      "columns Clicks has distinct values: \n",
      "2        6083\n",
      "4        4505\n",
      "6        3295\n",
      "8        2588\n",
      "10       2046\n",
      "12       1725\n",
      "14       1545\n",
      "16       1322\n",
      "18       1161\n",
      "20       1109\n",
      "22        967\n",
      "24        824\n",
      "26        730\n",
      "28        641\n",
      "30        580\n",
      "32        550\n",
      "34        521\n",
      "36        448\n",
      "38        429\n",
      "40        401\n",
      "44        350\n",
      "42        340\n",
      "46        307\n",
      "48        266\n",
      "50        253\n",
      "54        226\n",
      "56        220\n",
      "52        217\n",
      "60        194\n",
      "58        192\n",
      "         ... \n",
      "3088        1\n",
      "7506        1\n",
      "4496        1\n",
      "4752        1\n",
      "1138        1\n",
      "1362        1\n",
      "1394        1\n",
      "2062        1\n",
      "3134        1\n",
      "3786        1\n",
      "1932        1\n",
      "1260        1\n",
      "5454        1\n",
      "1388        1\n",
      "1452        1\n",
      "1548        1\n",
      "1708        1\n",
      "1868        1\n",
      "1900        1\n",
      "1964        1\n",
      "1678        1\n",
      "4108        1\n",
      "16806       1\n",
      "942         1\n",
      "1102        1\n",
      "1262        1\n",
      "1326        1\n",
      "1454        1\n",
      "1646        1\n",
      "1870        1\n",
      "Name: Clicks, dtype: int64\n",
      "\n",
      "\n",
      "Pivot table: \n",
      "       Clicks          Cost\n",
      "Month                      \n",
      "1      443404  2.613730e+06\n",
      "2      396080  2.534383e+06\n",
      "3      476928  3.185090e+06\n",
      "4      432068  2.728461e+06\n",
      "5      430028  3.073473e+06\n",
      "6      416874  3.499180e+06\n",
      "7      360060  2.587458e+06\n",
      "8      420798  2.731523e+06\n",
      "9      649072  4.177978e+06\n",
      "10     601174  3.912466e+06\n",
      "11     476912  3.205043e+06\n",
      "12     864306  2.866440e+06\n",
      "\n",
      "\n",
      "Graph: number of clicks distributed by Month \n",
      "<seaborn.axisgrid.FacetGrid object at 0x119f20c90>\n",
      "\n",
      "\n",
      "Graph: spend distributed by Month \n",
      "<seaborn.axisgrid.FacetGrid object at 0x11ac4f210>\n",
      "\n",
      "\n"
     ]
    },
    {
     "data": {
      "image/png": "[encoded data removed]",
      "text/plain": [
       "<matplotlib.figure.Figure at 0x119f20cd0>"
      ]
     },
     "metadata": {},
     "output_type": "display_data"
    },
    {
     "data": {
      "image/png": "[encoded data removed]",
      "text/plain": [
       "<matplotlib.figure.Figure at 0x11ac88dd0>"
      ]
     },
     "metadata": {},
     "output_type": "display_data"
    },
    {
     "data": {
      "image/png": "[encoded data removed]",
      "text/plain": [
       "<matplotlib.figure.Figure at 0x11ace49d0>"
      ]
     },
     "metadata": {},
     "output_type": "display_data"
    }
   ],
   "source": [
    "\n",
    "ExploratoryAnalysis(search)"
   ]
  },
  {
   "cell_type": "code",
   "execution_count": 186,
   "metadata": {
    "collapsed": true
   },
   "outputs": [],
   "source": [
    "# def createDummiesVariables(data):    \n",
    "#     data = data.join(pd.get_dummies(data['Device'],prefix=\"Device\"))\n",
    "#     data = data.join(pd.get_dummies(data['Targeting'],prefix=\"Targeting\"))\n",
    "#     data = data.join(pd.get_dummies(data['Region'],prefix=\"Region\"))\n",
    "#     data = data.join(pd.get_dummies(data['Channel'],prefix=\"Channel\"))\n",
    "#     data = data.join(pd.get_dummies(data['Campaign Type'],prefix=\"Campaign Type\"))\n",
    "#     data = data.join(pd.get_dummies(data['Month'],prefix=\"Month\"))  \n",
    "#     return data"
   ]
  },
  {
   "cell_type": "code",
   "execution_count": 187,
   "metadata": {
    "collapsed": false
   },
   "outputs": [],
   "source": [
    "    display = display.join(pd.get_dummies(display['Device'],prefix=\"Device\"))\n",
    "    display = display.join(pd.get_dummies(display['Targeting'],prefix=\"Targeting\"))\n",
    "    display = display.join(pd.get_dummies(display['Region'],prefix=\"Region\"))\n",
    "    display = display.join(pd.get_dummies(display['Channel'],prefix=\"Channel\"))\n",
    "    display = display.join(pd.get_dummies(display['Campaign Type'],prefix=\"Campaign Type\"))\n",
    "    display = display.join(pd.get_dummies(display['Month'],prefix=\"Month\"))"
   ]
  },
  {
   "cell_type": "code",
   "execution_count": 188,
   "metadata": {
    "collapsed": true
   },
   "outputs": [],
   "source": [
    "    video = video.join(pd.get_dummies(video['Device'],prefix=\"Device\"))\n",
    "    video = video.join(pd.get_dummies(video['Targeting'],prefix=\"Targeting\"))\n",
    "    video = video.join(pd.get_dummies(video['Region'],prefix=\"Region\"))\n",
    "    video = video.join(pd.get_dummies(video['Channel'],prefix=\"Channel\"))\n",
    "    video = video.join(pd.get_dummies(video['Campaign Type'],prefix=\"Campaign Type\"))\n",
    "    video = video.join(pd.get_dummies(video['Month'],prefix=\"Month\"))"
   ]
  },
  {
   "cell_type": "code",
   "execution_count": 189,
   "metadata": {
    "collapsed": true
   },
   "outputs": [],
   "source": [
    "    search = search.join(pd.get_dummies(search['Device'],prefix=\"Device\"))\n",
    "    search = search.join(pd.get_dummies(search['Targeting'],prefix=\"Targeting\"))\n",
    "    search = search.join(pd.get_dummies(search['Region'],prefix=\"Region\"))\n",
    "    search = search.join(pd.get_dummies(search['Channel'],prefix=\"Channel\"))\n",
    "    search = search.join(pd.get_dummies(search['Campaign Type'],prefix=\"Campaign Type\"))\n",
    "    search = search.join(pd.get_dummies(search['Month'],prefix=\"Month\"))"
   ]
  },
  {
   "cell_type": "code",
   "execution_count": 201,
   "metadata": {
    "collapsed": false
   },
   "outputs": [],
   "source": [
    "from sklearn.ensemble import RandomForestRegressor\n",
    "from sklearn.model_selection import train_test_split\n",
    "from sklearn import metrics\n",
    "\n",
    "def RandomForrest(data):\n",
    "#     data['Cost'] = np.log(data[\"Cost\"])\n",
    "    X = data.drop(['Month','Clicks','Device','Date','Campaign Type','Media Type','Region','Targeting','Channel'],axis =1 )\n",
    "    y = data[\"Clicks\"]\n",
    "    X_train, X_test, y_train, y_test = train_test_split(X, y, test_size=0.20, random_state=42)\n",
    "    \n",
    "    rf = RandomForestRegressor()\n",
    "    rf.fit(X_train, y_train)\n",
    "#     data['predict_clicks'] = rf.predict(X_test)\n",
    "    print 'MSE: ' + str(metrics.mean_squared_error(y_test,rf.predict(X_test)))\n",
    "    print 'accuracy = ' + str(rf.score(X_test,y_test))    \n",
    "    feature_importances_array = rf.feature_importances_\n",
    "\n",
    "    # Put the features themselves in a list\n",
    "    features_array = X.columns.values \n",
    "\n",
    "    # Turn these into a Data Frame\n",
    "    feature_importances_df = pd.DataFrame({'importances' : feature_importances_array, 'features' : features_array})\n",
    "    \n",
    "#     print feature_importances_df.sort(columns='importances', ascending=False)\n",
    "    return rf"
   ]
  },
  {
   "cell_type": "code",
   "execution_count": 210,
   "metadata": {
    "collapsed": false
   },
   "outputs": [],
   "source": [
    "def RF_predict(data):\n",
    "    rf = RandomForrest(data)\n",
    "    X = data.drop(['Month','Clicks','Device','Date','Campaign Type','Media Type','Region','Targeting','Channel'],axis =1 )\n",
    "    test_data = X[X['Month_12'] == 1]\n",
    "    test_data['predicted_clicks'] = rf.predict(test_data)\n",
    "    print 'actual CPC: ' + str(data[data['Month'] == 12]['Cost'].sum()/data[data['Month'] == 12]['Clicks'].sum())\n",
    "    print 'predict CPC: ' + str(test_data['Cost'].sum()/test_data['predicted_clicks'].sum())"
   ]
  },
  {
   "cell_type": "code",
   "execution_count": 213,
   "metadata": {
    "collapsed": false
   },
   "outputs": [
    {
     "name": "stdout",
     "output_type": "stream",
     "text": [
      "MSE: 870088.442973\n",
      "accuracy = 0.989511737232\n",
      "actual CPC: 0.145915385398\n",
      "predict CPC: 0.146086207221\n"
     ]
    },
    {
     "name": "stderr",
     "output_type": "stream",
     "text": [
      "/anaconda/lib/python2.7/site-packages/ipykernel/__main__.py:5: SettingWithCopyWarning: \n",
      "A value is trying to be set on a copy of a slice from a DataFrame.\n",
      "Try using .loc[row_indexer,col_indexer] = value instead\n",
      "\n",
      "See the caveats in the documentation: http://pandas.pydata.org/pandas-docs/stable/indexing.html#indexing-view-versus-copy\n"
     ]
    }
   ],
   "source": [
    "RF_predict(display)"
   ]
  },
  {
   "cell_type": "code",
   "execution_count": 205,
   "metadata": {
    "collapsed": false
   },
   "outputs": [
    {
     "name": "stdout",
     "output_type": "stream",
     "text": [
      "MSE: 1923.45998734\n",
      "accuracy = 0.943244058053\n",
      "actual CPC: 3.65036467236\n",
      "predict CPC: 3.35898471089\n"
     ]
    },
    {
     "name": "stderr",
     "output_type": "stream",
     "text": [
      "/anaconda/lib/python2.7/site-packages/ipykernel/__main__.py:5: SettingWithCopyWarning: \n",
      "A value is trying to be set on a copy of a slice from a DataFrame.\n",
      "Try using .loc[row_indexer,col_indexer] = value instead\n",
      "\n",
      "See the caveats in the documentation: http://pandas.pydata.org/pandas-docs/stable/indexing.html#indexing-view-versus-copy\n"
     ]
    }
   ],
   "source": [
    "RF_predict(video)"
   ]
  },
  {
   "cell_type": "code",
   "execution_count": 206,
   "metadata": {
    "collapsed": false,
    "scrolled": true
   },
   "outputs": [
    {
     "name": "stdout",
     "output_type": "stream",
     "text": [
      "MSE: 36628.834042\n",
      "accuracy = 0.783625259987\n",
      "actual CPC: 3.31646463174\n",
      "predict CPC: 3.45250744706\n"
     ]
    },
    {
     "name": "stderr",
     "output_type": "stream",
     "text": [
      "/anaconda/lib/python2.7/site-packages/ipykernel/__main__.py:5: SettingWithCopyWarning: \n",
      "A value is trying to be set on a copy of a slice from a DataFrame.\n",
      "Try using .loc[row_indexer,col_indexer] = value instead\n",
      "\n",
      "See the caveats in the documentation: http://pandas.pydata.org/pandas-docs/stable/indexing.html#indexing-view-versus-copy\n"
     ]
    }
   ],
   "source": [
    "RF_predict(search)"
   ]
  },
  {
   "cell_type": "code",
   "execution_count": null,
   "metadata": {
    "collapsed": true
   },
   "outputs": [],
   "source": []
  },
  {
   "cell_type": "code",
   "execution_count": null,
   "metadata": {
    "collapsed": true
   },
   "outputs": [],
   "source": []
  }
 ],
 "metadata": {
  "anaconda-cloud": {},
  "kernelspec": {
   "display_name": "Python [conda root]",
   "language": "python",
   "name": "conda-root-py"
  },
  "language_info": {
   "codemirror_mode": {
    "name": "ipython",
    "version": 2
   },
   "file_extension": ".py",
   "mimetype": "text/x-python",
   "name": "python",
   "nbconvert_exporter": "python",
   "pygments_lexer": "ipython2",
   "version": "2.7.12"
  }
 },
 "nbformat": 4,
 "nbformat_minor": 0
}
