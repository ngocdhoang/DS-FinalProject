{
 "cells": [
  {
   "cell_type": "raw",
   "metadata": {},
   "source": [
    "# Problem Statement: To identify which marketing channel yields the most efficient result based on data collected by Google Adwords, Bing, DCM and Facebook Business Manager, from 2014 to present. Identify opportunities to reduce cost from the predicted result. "
   ]
  },
  {
   "cell_type": "raw",
   "metadata": {},
   "source": [
    "# Hypothesis: client spend the most on Paid Search so Paid Search channel would yield the best result."
   ]
  },
  {
   "cell_type": "raw",
   "metadata": {
    "collapsed": true
   },
   "source": [
    "# Potential Method: To use regression models(linear regressions, random forest regressor ) to predict number of CLICKS that each channel has, evaluate models, then determine the CTR and compare it with actual result."
   ]
  },
  {
   "cell_type": "markdown",
   "metadata": {},
   "source": [
    "SW: Nice - I LOVE that you were very specific about what your dependent variable should be here!"
   ]
  },
  {
   "cell_type": "raw",
   "metadata": {},
   "source": [
    "# Available data: Data from each Media type (channel) collected by engines (source of truth). Spend, Device that users use to click the ad, geo, vendor that host campaigns, campaigns types, month since different month might have hidden factors that influence clicks, region, how campaigns are targeted."
   ]
  },
  {
   "cell_type": "markdown",
   "metadata": {},
   "source": [
    "SW: Very nice! Question: is all this data at the overall campaign level? Since you're trying to predict \"clicks\" (which I think is at the overall campaign level), you'll need data about the campaign overall to predict that."
   ]
  },
  {
   "cell_type": "raw",
   "metadata": {},
   "source": [
    "# Risks: even though click might not be a good indicator of efficiency (Conversion is), but with the data that we have, clicks is a good starting point.\n"
   ]
  },
  {
   "cell_type": "markdown",
   "metadata": {},
   "source": [
    "SW: This was exactly my concern - but I think this is a fine rationale for starting with \"clicks\"."
   ]
  },
  {
   "cell_type": "raw",
   "metadata": {
    "collapsed": true
   },
   "source": [
    "# Goal: To be able to predict numbers of clicks for the upcoming months and to come up with a budget that maximizes result"
   ]
  },
  {
   "cell_type": "code",
   "execution_count": 1,
   "metadata": {
    "collapsed": true
   },
   "outputs": [],
   "source": [
    "%matplotlib inline\n",
    "import numpy as np\n",
    "import pandas as pd\n",
    "from matplotlib import pyplot as plt\n",
    "import seaborn as sns\n",
    "import sklearn.linear_model\n",
    "\n",
    "\n",
    "#Read file\n",
    "search_df = pd.read_csv('Search data.csv')"
   ]
  },
  {
   "cell_type": "code",
   "execution_count": 3,
   "metadata": {
    "collapsed": false
   },
   "outputs": [
    {
     "data": {
      "text/html": [
       "<div>\n",
       "<table border=\"1\" class=\"dataframe\">\n",
       "  <thead>\n",
       "    <tr style=\"text-align: right;\">\n",
       "      <th></th>\n",
       "      <th>Month</th>\n",
       "      <th>Media Type</th>\n",
       "      <th>Device</th>\n",
       "      <th>Targeting</th>\n",
       "      <th>Region</th>\n",
       "      <th>Channel</th>\n",
       "      <th>Campaign Type</th>\n",
       "      <th>Cost</th>\n",
       "      <th>Clicks</th>\n",
       "    </tr>\n",
       "  </thead>\n",
       "  <tbody>\n",
       "    <tr>\n",
       "      <th>0</th>\n",
       "      <td>1</td>\n",
       "      <td>Search</td>\n",
       "      <td>Desktop</td>\n",
       "      <td>Brand</td>\n",
       "      <td>EMEA</td>\n",
       "      <td>google</td>\n",
       "      <td>Legacy</td>\n",
       "      <td>76719.35</td>\n",
       "      <td>17121</td>\n",
       "    </tr>\n",
       "    <tr>\n",
       "      <th>1</th>\n",
       "      <td>1</td>\n",
       "      <td>Search</td>\n",
       "      <td>Desktop</td>\n",
       "      <td>Brand</td>\n",
       "      <td>Global</td>\n",
       "      <td>Google</td>\n",
       "      <td>Beta</td>\n",
       "      <td>1636.90</td>\n",
       "      <td>308</td>\n",
       "    </tr>\n",
       "    <tr>\n",
       "      <th>2</th>\n",
       "      <td>1</td>\n",
       "      <td>Search</td>\n",
       "      <td>Desktop</td>\n",
       "      <td>Brand</td>\n",
       "      <td>Global</td>\n",
       "      <td>Google</td>\n",
       "      <td>Legacy</td>\n",
       "      <td>65937.21</td>\n",
       "      <td>17722</td>\n",
       "    </tr>\n",
       "    <tr>\n",
       "      <th>3</th>\n",
       "      <td>1</td>\n",
       "      <td>Search</td>\n",
       "      <td>Desktop</td>\n",
       "      <td>Brand</td>\n",
       "      <td>LATAM</td>\n",
       "      <td>Google</td>\n",
       "      <td>Beta</td>\n",
       "      <td>7808.52</td>\n",
       "      <td>665</td>\n",
       "    </tr>\n",
       "    <tr>\n",
       "      <th>4</th>\n",
       "      <td>1</td>\n",
       "      <td>Search</td>\n",
       "      <td>Desktop</td>\n",
       "      <td>Brand</td>\n",
       "      <td>LATAM</td>\n",
       "      <td>google</td>\n",
       "      <td>Legacy</td>\n",
       "      <td>39171.43</td>\n",
       "      <td>3701</td>\n",
       "    </tr>\n",
       "  </tbody>\n",
       "</table>\n",
       "</div>"
      ],
      "text/plain": [
       "   Month Media Type   Device Targeting  Region Channel Campaign Type  \\\n",
       "0      1     Search  Desktop     Brand    EMEA  google        Legacy   \n",
       "1      1     Search  Desktop     Brand  Global  Google          Beta   \n",
       "2      1     Search  Desktop     Brand  Global  Google        Legacy   \n",
       "3      1     Search  Desktop     Brand   LATAM  Google          Beta   \n",
       "4      1     Search  Desktop     Brand   LATAM  google        Legacy   \n",
       "\n",
       "       Cost  Clicks  \n",
       "0  76719.35   17121  \n",
       "1   1636.90     308  \n",
       "2  65937.21   17722  \n",
       "3   7808.52     665  \n",
       "4  39171.43    3701  "
      ]
     },
     "execution_count": 3,
     "metadata": {},
     "output_type": "execute_result"
    }
   ],
   "source": [
    "search_df.head()"
   ]
  },
  {
   "cell_type": "markdown",
   "metadata": {},
   "source": [
    "Month: Categorical variable. Month is a very important feature because different Month has different volatility level. There are months that customers shop more than other"
   ]
  },
  {
   "cell_type": "markdown",
   "metadata": {},
   "source": [
    "SW: Very nice - create dummies for this!"
   ]
  },
  {
   "cell_type": "raw",
   "metadata": {},
   "source": [
    "Media Type: Channel. My plan is to predict the CPC of each channel, so each channel will be in different dataset"
   ]
  },
  {
   "cell_type": "raw",
   "metadata": {},
   "source": [
    "Device: Categorical variable. The device that the ad is showing on"
   ]
  },
  {
   "cell_type": "raw",
   "metadata": {},
   "source": [
    "Targeting: Categorical variable. This feature describe how ad is tagged, either brand or nonbrand. Brand ad has the brand name in the ad."
   ]
  },
  {
   "cell_type": "raw",
   "metadata": {},
   "source": [
    "Region: Categorical variable. The location where the ad is running"
   ]
  },
  {
   "cell_type": "raw",
   "metadata": {},
   "source": [
    "Channel: Categorical variable. The vendor"
   ]
  },
  {
   "cell_type": "raw",
   "metadata": {},
   "source": [
    "Campaign Type: Categorical variable. Type of campaign"
   ]
  },
  {
   "cell_type": "raw",
   "metadata": {},
   "source": [
    "Cost: Continuous variable. "
   ]
  },
  {
   "cell_type": "raw",
   "metadata": {},
   "source": [
    "Clicks: Continuous variable. independent variable"
   ]
  },
  {
   "cell_type": "raw",
   "metadata": {},
   "source": [
    "SW: Awesome! Convert those categorical variable "
   ]
  }
 ],
 "metadata": {
  "anaconda-cloud": {},
  "kernelspec": {
   "display_name": "Python 2",
   "language": "python",
   "name": "python2"
  },
  "language_info": {
   "codemirror_mode": {
    "name": "ipython",
    "version": 2
   },
   "file_extension": ".py",
   "mimetype": "text/x-python",
   "name": "python",
   "nbconvert_exporter": "python",
   "pygments_lexer": "ipython2",
   "version": "2.7.10"
  },
  "toc": {
   "nav_menu": {
    "height": "12px",
    "width": "252px"
   },
   "navigate_menu": true,
   "number_sections": true,
   "sideBar": true,
   "threshold": 4,
   "toc_cell": false,
   "toc_section_display": "block",
   "toc_window_display": true
  }
 },
 "nbformat": 4,
 "nbformat_minor": 0
}
