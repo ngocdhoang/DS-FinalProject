{
 "cells": [
  {
   "cell_type": "raw",
   "metadata": {},
   "source": [
    "# Problem Statement: To identify which marketing channel yields the most efficient result based on data collected by Google Adwords, Bing, DCM and Facebook Business Manager, from 2014 to present. Identify opportunities to reduce cost from the predicted result. "
   ]
  },
  {
   "cell_type": "raw",
   "metadata": {},
   "source": [
    "# Hypothesis: client spend the most on Paid Search so Paid Search channel would yield the best result."
   ]
  },
  {
   "cell_type": "raw",
   "metadata": {
    "collapsed": true
   },
   "source": [
    "# Potential Method: To use regression models(linear regressions, random forest regressor ) to predict number of CLICKS that each channel has, evaluate models, then determine the CTR and compare it with actual result."
   ]
  },
  {
   "cell_type": "raw",
   "metadata": {},
   "source": [
    "# Available data: Data from each Media type (channel) collected by engines (source of truth). Spend, Device that users use to click the ad, geo, vendor that host campaigns, campaigns types, month since different month might have hidden factors that influence clicks, region, how campaigns are targeted."
   ]
  },
  {
   "cell_type": "raw",
   "metadata": {},
   "source": [
    "# Risks: even though click might not be a good indicator of efficiency (Conversion is), but with the data that we have, clicks is a good starting point.\n"
   ]
  },
  {
   "cell_type": "raw",
   "metadata": {
    "collapsed": true
   },
   "source": [
    "# Goal: To be able to predict numbers of clicks for the upcoming months and to come up with a budget that maximizes result"
   ]
  },
  {
   "cell_type": "code",
   "execution_count": 1,
   "metadata": {
    "collapsed": true
   },
   "outputs": [],
   "source": [
    "%matplotlib inline\n",
    "import numpy as np\n",
    "import pandas as pd\n",
    "from matplotlib import pyplot as plt\n",
    "import seaborn as sns\n",
    "import sklearn.linear_model\n",
    "import seaborn as sb\n",
    "\n",
    "\n",
    "#Read file\n",
    "search_df = pd.read_csv('Search data.csv')"
   ]
  },
  {
   "cell_type": "code",
   "execution_count": 2,
   "metadata": {
    "collapsed": true
   },
   "outputs": [],
   "source": [
    "search_df['CPC'] = search_df[\"Cost\"]/search_df[\"Clicks\"]"
   ]
  },
  {
   "cell_type": "code",
   "execution_count": null,
   "metadata": {
    "collapsed": true
   },
   "outputs": [],
   "source": [
    "search_df['Date'] = pd.to_datetime(search_df['Date'])\n",
    "search_df.set_index('Date', inplace=True)"
   ]
  },
  {
   "cell_type": "code",
   "execution_count": null,
   "metadata": {
    "collapsed": true
   },
   "outputs": [],
   "source": [
    "search_df['Year'] = search_df.index.year\n",
    "search_df['Month'] = search_df.index.month\n",
    "# search_df['Year'] = data.index.year"
   ]
  },
  {
   "cell_type": "code",
   "execution_count": 17,
   "metadata": {
    "collapsed": false
   },
   "outputs": [
    {
     "data": {
      "text/html": [
       "<div>\n",
       "<table border=\"1\" class=\"dataframe\">\n",
       "  <thead>\n",
       "    <tr style=\"text-align: right;\">\n",
       "      <th></th>\n",
       "      <th>Media Type</th>\n",
       "      <th>Device</th>\n",
       "      <th>Targeting</th>\n",
       "      <th>Region</th>\n",
       "      <th>Vendor</th>\n",
       "      <th>Campaign Type</th>\n",
       "      <th>Cost</th>\n",
       "      <th>Clicks</th>\n",
       "      <th>CPC</th>\n",
       "      <th>Year</th>\n",
       "      <th>Month</th>\n",
       "    </tr>\n",
       "    <tr>\n",
       "      <th>Date</th>\n",
       "      <th></th>\n",
       "      <th></th>\n",
       "      <th></th>\n",
       "      <th></th>\n",
       "      <th></th>\n",
       "      <th></th>\n",
       "      <th></th>\n",
       "      <th></th>\n",
       "      <th></th>\n",
       "      <th></th>\n",
       "      <th></th>\n",
       "    </tr>\n",
       "  </thead>\n",
       "  <tbody>\n",
       "    <tr>\n",
       "      <th>2009-06-09</th>\n",
       "      <td>Search</td>\n",
       "      <td>Desktop</td>\n",
       "      <td>NB</td>\n",
       "      <td>AMS</td>\n",
       "      <td>Google</td>\n",
       "      <td>Legacy</td>\n",
       "      <td>0.0</td>\n",
       "      <td>0</td>\n",
       "      <td>NaN</td>\n",
       "      <td>2009</td>\n",
       "      <td>6</td>\n",
       "    </tr>\n",
       "    <tr>\n",
       "      <th>2009-06-18</th>\n",
       "      <td>Display</td>\n",
       "      <td>Desktop</td>\n",
       "      <td>Reach</td>\n",
       "      <td>AMS</td>\n",
       "      <td>Google</td>\n",
       "      <td>Reach</td>\n",
       "      <td>0.0</td>\n",
       "      <td>0</td>\n",
       "      <td>NaN</td>\n",
       "      <td>2009</td>\n",
       "      <td>6</td>\n",
       "    </tr>\n",
       "    <tr>\n",
       "      <th>2009-06-20</th>\n",
       "      <td>Search</td>\n",
       "      <td>Desktop</td>\n",
       "      <td>NB</td>\n",
       "      <td>EMEA</td>\n",
       "      <td>Google</td>\n",
       "      <td>Legacy</td>\n",
       "      <td>0.0</td>\n",
       "      <td>0</td>\n",
       "      <td>NaN</td>\n",
       "      <td>2009</td>\n",
       "      <td>6</td>\n",
       "    </tr>\n",
       "    <tr>\n",
       "      <th>2009-06-27</th>\n",
       "      <td>Search</td>\n",
       "      <td>Desktop</td>\n",
       "      <td>NB</td>\n",
       "      <td>AMS</td>\n",
       "      <td>Google</td>\n",
       "      <td>Legacy</td>\n",
       "      <td>0.0</td>\n",
       "      <td>0</td>\n",
       "      <td>NaN</td>\n",
       "      <td>2009</td>\n",
       "      <td>6</td>\n",
       "    </tr>\n",
       "    <tr>\n",
       "      <th>2009-06-28</th>\n",
       "      <td>Search</td>\n",
       "      <td>Desktop</td>\n",
       "      <td>NB</td>\n",
       "      <td>AMS</td>\n",
       "      <td>Google</td>\n",
       "      <td>Legacy</td>\n",
       "      <td>0.0</td>\n",
       "      <td>0</td>\n",
       "      <td>NaN</td>\n",
       "      <td>2009</td>\n",
       "      <td>6</td>\n",
       "    </tr>\n",
       "  </tbody>\n",
       "</table>\n",
       "</div>"
      ],
      "text/plain": [
       "           Media Type   Device Targeting Region  Vendor Campaign Type  Cost  \\\n",
       "Date                                                                          \n",
       "2009-06-09     Search  Desktop        NB    AMS  Google        Legacy   0.0   \n",
       "2009-06-18    Display  Desktop     Reach    AMS  Google         Reach   0.0   \n",
       "2009-06-20     Search  Desktop        NB   EMEA  Google        Legacy   0.0   \n",
       "2009-06-27     Search  Desktop        NB    AMS  Google        Legacy   0.0   \n",
       "2009-06-28     Search  Desktop        NB    AMS  Google        Legacy   0.0   \n",
       "\n",
       "            Clicks  CPC  Year  Month  \n",
       "Date                                  \n",
       "2009-06-09       0  NaN  2009      6  \n",
       "2009-06-18       0  NaN  2009      6  \n",
       "2009-06-20       0  NaN  2009      6  \n",
       "2009-06-27       0  NaN  2009      6  \n",
       "2009-06-28       0  NaN  2009      6  "
      ]
     },
     "execution_count": 17,
     "metadata": {},
     "output_type": "execute_result"
    }
   ],
   "source": [
    "search_df.head()"
   ]
  },
  {
   "cell_type": "code",
   "execution_count": 14,
   "metadata": {
    "collapsed": false
   },
   "outputs": [
    {
     "data": {
      "text/plain": [
       "22706477L"
      ]
     },
     "execution_count": 14,
     "metadata": {},
     "output_type": "execute_result"
    }
   ],
   "source": [
    "search_df['Clicks'].sum()"
   ]
  },
  {
   "cell_type": "code",
   "execution_count": 20,
   "metadata": {
    "collapsed": false
   },
   "outputs": [
    {
     "data": {
      "text/html": [
       "<div>\n",
       "<table border=\"1\" class=\"dataframe\">\n",
       "  <thead>\n",
       "    <tr style=\"text-align: right;\">\n",
       "      <th></th>\n",
       "      <th>CPC</th>\n",
       "      <th>Clicks</th>\n",
       "      <th>Cost</th>\n",
       "      <th>Year</th>\n",
       "    </tr>\n",
       "    <tr>\n",
       "      <th>Month</th>\n",
       "      <th></th>\n",
       "      <th></th>\n",
       "      <th></th>\n",
       "      <th></th>\n",
       "    </tr>\n",
       "  </thead>\n",
       "  <tbody>\n",
       "    <tr>\n",
       "      <th>1</th>\n",
       "      <td>inf</td>\n",
       "      <td>6413377</td>\n",
       "      <td>2.160887e+06</td>\n",
       "      <td>99700258</td>\n",
       "    </tr>\n",
       "    <tr>\n",
       "      <th>2</th>\n",
       "      <td>inf</td>\n",
       "      <td>1340046</td>\n",
       "      <td>1.862841e+06</td>\n",
       "      <td>91723028</td>\n",
       "    </tr>\n",
       "    <tr>\n",
       "      <th>3</th>\n",
       "      <td>inf</td>\n",
       "      <td>1059905</td>\n",
       "      <td>2.351987e+06</td>\n",
       "      <td>96762306</td>\n",
       "    </tr>\n",
       "    <tr>\n",
       "      <th>4</th>\n",
       "      <td>inf</td>\n",
       "      <td>908779</td>\n",
       "      <td>1.966100e+06</td>\n",
       "      <td>108740489</td>\n",
       "    </tr>\n",
       "    <tr>\n",
       "      <th>5</th>\n",
       "      <td>inf</td>\n",
       "      <td>796789</td>\n",
       "      <td>2.063418e+06</td>\n",
       "      <td>104709851</td>\n",
       "    </tr>\n",
       "    <tr>\n",
       "      <th>6</th>\n",
       "      <td>inf</td>\n",
       "      <td>1104576</td>\n",
       "      <td>2.560227e+06</td>\n",
       "      <td>136631231</td>\n",
       "    </tr>\n",
       "    <tr>\n",
       "      <th>7</th>\n",
       "      <td>inf</td>\n",
       "      <td>833346</td>\n",
       "      <td>1.909893e+06</td>\n",
       "      <td>141356431</td>\n",
       "    </tr>\n",
       "    <tr>\n",
       "      <th>8</th>\n",
       "      <td>inf</td>\n",
       "      <td>1588390</td>\n",
       "      <td>2.268808e+06</td>\n",
       "      <td>288653533</td>\n",
       "    </tr>\n",
       "    <tr>\n",
       "      <th>9</th>\n",
       "      <td>inf</td>\n",
       "      <td>1849687</td>\n",
       "      <td>3.287409e+06</td>\n",
       "      <td>345115531</td>\n",
       "    </tr>\n",
       "    <tr>\n",
       "      <th>10</th>\n",
       "      <td>inf</td>\n",
       "      <td>1183823</td>\n",
       "      <td>2.807059e+06</td>\n",
       "      <td>324031978</td>\n",
       "    </tr>\n",
       "    <tr>\n",
       "      <th>11</th>\n",
       "      <td>inf</td>\n",
       "      <td>971672</td>\n",
       "      <td>2.286721e+06</td>\n",
       "      <td>123564429</td>\n",
       "    </tr>\n",
       "    <tr>\n",
       "      <th>12</th>\n",
       "      <td>inf</td>\n",
       "      <td>4656087</td>\n",
       "      <td>2.081597e+06</td>\n",
       "      <td>108044511</td>\n",
       "    </tr>\n",
       "  </tbody>\n",
       "</table>\n",
       "</div>"
      ],
      "text/plain": [
       "       CPC   Clicks          Cost       Year\n",
       "Month                                       \n",
       "1      inf  6413377  2.160887e+06   99700258\n",
       "2      inf  1340046  1.862841e+06   91723028\n",
       "3      inf  1059905  2.351987e+06   96762306\n",
       "4      inf   908779  1.966100e+06  108740489\n",
       "5      inf   796789  2.063418e+06  104709851\n",
       "6      inf  1104576  2.560227e+06  136631231\n",
       "7      inf   833346  1.909893e+06  141356431\n",
       "8      inf  1588390  2.268808e+06  288653533\n",
       "9      inf  1849687  3.287409e+06  345115531\n",
       "10     inf  1183823  2.807059e+06  324031978\n",
       "11     inf   971672  2.286721e+06  123564429\n",
       "12     inf  4656087  2.081597e+06  108044511"
      ]
     },
     "execution_count": 20,
     "metadata": {},
     "output_type": "execute_result"
    }
   ],
   "source": [
    "pd.pivot_table(search_df, index = 'Month', aggfunc = np.sum)"
   ]
  },
  {
   "cell_type": "code",
   "execution_count": 18,
   "metadata": {
    "collapsed": false
   },
   "outputs": [
    {
     "data": {
      "text/plain": [
       "<seaborn.axisgrid.FacetGrid at 0x123a6c18>"
      ]
     },
     "execution_count": 18,
     "metadata": {},
     "output_type": "execute_result"
    },
    {
     "data": {
      "image/png": "[encoded data removed]",
      "text/plain": [
       "<matplotlib.figure.Figure at 0xcbcef60>"
      ]
     },
     "metadata": {},
     "output_type": "display_data"
    }
   ],
   "source": [
    "sb.factorplot(\n",
    "    x='Month',\n",
    "    y='Clicks',\n",
    "    data=search_df, \n",
    "    kind='bar', estimator = sum\n",
    ")"
   ]
  },
  {
   "cell_type": "code",
   "execution_count": 22,
   "metadata": {
    "collapsed": false
   },
   "outputs": [
    {
     "data": {
      "text/plain": [
       "<seaborn.axisgrid.FacetGrid at 0x28cb0828>"
      ]
     },
     "execution_count": 22,
     "metadata": {},
     "output_type": "execute_result"
    },
    {
     "data": {
      "image/png": "[encoded data removed]",
      "text/plain": [
       "<matplotlib.figure.Figure at 0x29888080>"
      ]
     },
     "metadata": {},
     "output_type": "display_data"
    }
   ],
   "source": [
    "sb.factorplot(\n",
    "    x='Year',\n",
    "    y='Clicks',\n",
    "    data=search_df, \n",
    "    kind='bar', estimator = sum\n",
    ")"
   ]
  },
  {
   "cell_type": "code",
   "execution_count": 21,
   "metadata": {
    "collapsed": false
   },
   "outputs": [
    {
     "data": {
      "text/plain": [
       "<seaborn.axisgrid.FacetGrid at 0x123a6ef0>"
      ]
     },
     "execution_count": 21,
     "metadata": {},
     "output_type": "execute_result"
    },
    {
     "data": {
      "image/png": "[encoded data removed]",
      "text/plain": [
       "<matplotlib.figure.Figure at 0x11dcbcc0>"
      ]
     },
     "metadata": {},
     "output_type": "display_data"
    }
   ],
   "source": [
    "sb.factorplot(\n",
    "    x='Month',\n",
    "    y='Cost',\n",
    "    data=search_df, \n",
    "    kind='bar', estimator = sum\n",
    ")"
   ]
  },
  {
   "cell_type": "code",
   "execution_count": 8,
   "metadata": {
    "collapsed": false
   },
   "outputs": [
    {
     "data": {
      "text/plain": [
       "<seaborn.axisgrid.FacetGrid at 0xada1d68>"
      ]
     },
     "execution_count": 8,
     "metadata": {},
     "output_type": "execute_result"
    },
    {
     "data": {
      "image/png": "[encoded data removed]",
      "text/plain": [
       "<matplotlib.figure.Figure at 0x28c7f048>"
      ]
     },
     "metadata": {},
     "output_type": "display_data"
    }
   ],
   "source": [
    "sb.factorplot(\n",
    "    x='Month',\n",
    "    y='CPC',\n",
    "    data=search_df, \n",
    "    kind='bar'\n",
    ")"
   ]
  },
  {
   "cell_type": "code",
   "execution_count": 9,
   "metadata": {
    "collapsed": false
   },
   "outputs": [
    {
     "data": {
      "text/html": [
       "<div>\n",
       "<table border=\"1\" class=\"dataframe\">\n",
       "  <thead>\n",
       "    <tr style=\"text-align: right;\">\n",
       "      <th></th>\n",
       "      <th>Cost</th>\n",
       "    </tr>\n",
       "    <tr>\n",
       "      <th>Date</th>\n",
       "      <th></th>\n",
       "    </tr>\n",
       "  </thead>\n",
       "  <tbody>\n",
       "    <tr>\n",
       "      <th>2015-04-30</th>\n",
       "      <td>51.606095</td>\n",
       "    </tr>\n",
       "    <tr>\n",
       "      <th>2015-05-31</th>\n",
       "      <td>64.703197</td>\n",
       "    </tr>\n",
       "    <tr>\n",
       "      <th>2013-03-31</th>\n",
       "      <td>144.689914</td>\n",
       "    </tr>\n",
       "    <tr>\n",
       "      <th>2013-02-28</th>\n",
       "      <td>187.593242</td>\n",
       "    </tr>\n",
       "    <tr>\n",
       "      <th>2013-01-31</th>\n",
       "      <td>246.448135</td>\n",
       "    </tr>\n",
       "  </tbody>\n",
       "</table>\n",
       "</div>"
      ],
      "text/plain": [
       "                  Cost\n",
       "Date                  \n",
       "2015-04-30   51.606095\n",
       "2015-05-31   64.703197\n",
       "2013-03-31  144.689914\n",
       "2013-02-28  187.593242\n",
       "2013-01-31  246.448135"
      ]
     },
     "execution_count": 9,
     "metadata": {},
     "output_type": "execute_result"
    }
   ],
   "source": [
    "search_df[['Cost']].resample('M').mean().sort_values(by='Cost').tail()"
   ]
  },
  {
   "cell_type": "raw",
   "metadata": {},
   "source": [
    "Month: Categorical variable. Month is a very important feature because different Month has different volatility level. There are months that customers shop more than other"
   ]
  },
  {
   "cell_type": "raw",
   "metadata": {},
   "source": [
    "Media Type: Channel. My plan is to predict the CPC of each channel, so each channel will be in different dataset"
   ]
  },
  {
   "cell_type": "raw",
   "metadata": {},
   "source": [
    "Device: Categorical variable. The device that the ad is showing on"
   ]
  },
  {
   "cell_type": "raw",
   "metadata": {},
   "source": [
    "Targeting: Categorical variable. This feature describe how ad is tagged, either brand or nonbrand. Brand ad has the brand name in the ad."
   ]
  },
  {
   "cell_type": "raw",
   "metadata": {},
   "source": [
    "Region: Categorical variable. The location where the ad is running"
   ]
  },
  {
   "cell_type": "raw",
   "metadata": {},
   "source": [
    "Channel: Categorical variable. The vendor"
   ]
  },
  {
   "cell_type": "raw",
   "metadata": {},
   "source": [
    "Campaign Type: Categorical variable. Type of campaign"
   ]
  },
  {
   "cell_type": "raw",
   "metadata": {},
   "source": [
    "Cost: Continuous variable. "
   ]
  },
  {
   "cell_type": "raw",
   "metadata": {},
   "source": [
    "Clicks: Continuous variable. independent variable"
   ]
  },
  {
   "cell_type": "raw",
   "metadata": {},
   "source": []
  }
 ],
 "metadata": {
  "anaconda-cloud": {},
  "kernelspec": {
   "display_name": "Python [Root]",
   "language": "python",
   "name": "Python [Root]"
  },
  "language_info": {
   "codemirror_mode": {
    "name": "ipython",
    "version": 2
   },
   "file_extension": ".py",
   "mimetype": "text/x-python",
   "name": "python",
   "nbconvert_exporter": "python",
   "pygments_lexer": "ipython2",
   "version": "2.7.12"
  }
 },
 "nbformat": 4,
 "nbformat_minor": 0
}
