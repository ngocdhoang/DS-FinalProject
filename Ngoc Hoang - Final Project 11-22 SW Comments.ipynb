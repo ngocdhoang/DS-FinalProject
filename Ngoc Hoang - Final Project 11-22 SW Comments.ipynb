{
 "cells": [
  {
   "cell_type": "raw",
   "metadata": {},
   "source": [
    "# Problem Statement: To identify which marketing channel yields the most efficient result based on data collected by Google Adwords, Bing, DCM and Facebook Business Manager, from 2014 to present. Identify opportunities to reduce cost from the predicted result. "
   ]
  },
  {
   "cell_type": "raw",
   "metadata": {},
   "source": [
    "# Hypothesis: client spend the most on Paid Search so Paid Search channel would yield the best result."
   ]
  },
  {
   "cell_type": "raw",
   "metadata": {
    "collapsed": true
   },
   "source": [
    "# Potential Method: To use regression models(linear regressions, random forest regressor ) to predict number of CLICKS that each channel has, evaluate models, then determine the CTR and compare it with actual result."
   ]
  },
  {
   "cell_type": "raw",
   "metadata": {},
   "source": [
    "# Available data: Data from each Media type (channel) collected by engines (source of truth). Spend, Device that users use to click the ad, geo, vendor that host campaigns, campaigns types, month since different month might have hidden factors that influence clicks, region, how campaigns are targeted."
   ]
  },
  {
   "cell_type": "raw",
   "metadata": {},
   "source": [
    "# Risks: even though click might not be a good indicator of efficiency (Conversion is), but with the data that we have, clicks is a good starting point.\n"
   ]
  },
  {
   "cell_type": "raw",
   "metadata": {
    "collapsed": true
   },
   "source": [
    "# Goal: To be able to predict numbers of clicks for the upcoming months and to come up with a budget that maximizes result"
   ]
  },
  {
   "cell_type": "code",
   "execution_count": 47,
   "metadata": {
    "collapsed": false
   },
   "outputs": [],
   "source": [
    "%matplotlib inline\n",
    "import numpy as np\n",
    "import pandas as pd\n",
    "from matplotlib import pyplot as plt\n",
    "import seaborn as sns\n",
    "import sklearn.linear_model\n",
    "import seaborn as sb\n",
    "import statsmodels.api as sm\n",
    "from sklearn.cross_validation import cross_val_score\n",
    "from sklearn.linear_model import LinearRegression\n",
    "from sklearn import linear_model\n"
   ]
  },
  {
   "cell_type": "code",
   "execution_count": 49,
   "metadata": {
    "collapsed": true
   },
   "outputs": [],
   "source": [
    "#Read file\n",
    "search = pd.read_csv('Search data.csv')\n",
    "display = pd.read_csv('display data.csv')\n",
    "video = pd.read_csv('video data.csv')"
   ]
  },
  {
   "cell_type": "code",
   "execution_count": 20,
   "metadata": {
    "collapsed": false
   },
   "outputs": [],
   "source": [
    "# def createTimeSeriesComponent(data):\n",
    "#     data['Date'] = pd.to_datetime(data['Date'])\n",
    "#     data.set_index('Date', inplace=True)\n",
    "#     data['Year'] = data.index.year\n",
    "#     data['Month'] = data.index.month"
   ]
  },
  {
   "cell_type": "code",
   "execution_count": 21,
   "metadata": {
    "collapsed": false
   },
   "outputs": [],
   "source": [
    "# createTimeSeriesComponent(search)\n",
    "# createTimeSeriesComponent(display)\n",
    "# createTimeSeriesComponent(video)"
   ]
  },
  {
   "cell_type": "code",
   "execution_count": 22,
   "metadata": {
    "collapsed": false
   },
   "outputs": [],
   "source": [
    "def ExploratoryAnalysis(data):\n",
    "    print \"first 5 rows: \\n\" + str(data.head(5)) + \"\\n\\n\"\n",
    "    print \"statistical summary of data: \\n\\n\" + str(data.describe()) + \"\\n\\n\"\n",
    "    print \"correlation: \\n\\n\" + str(data.corr()) +\"\\n\\n\"\n",
    "    columns = data.columns\n",
    "    for i in range(0,len(columns)):\n",
    "        print \"columns \" + str(columns[i]) + \" has distinct values: \\n\" + str((data[columns[i]].value_counts())) + \"\\n\\n\"\n",
    "    \n",
    "    print \"Pivot table: \\n\" +    str(pd.pivot_table(data, index = 'Month', aggfunc = np.sum)) + '\\n\\n'\n",
    "    print \"Graph: number of clicks distributed by Month \\n\" +  str(sb.factorplot( x='Month', y='Clicks', data=data, kind='bar', estimator = sum)) + \"\\n\\n\"\n",
    "    print \"Graph: spend distributed by Month \\n\" +  str(sb.factorplot( x='Month', y='Cost', data=data, kind='bar', estimator = sum)) + \"\\n\\n\""
   ]
  },
  {
   "cell_type": "code",
   "execution_count": 23,
   "metadata": {
    "collapsed": false
   },
   "outputs": [
    {
     "name": "stdout",
     "output_type": "stream",
     "text": [
      "first 5 rows: \n",
      "         Date  Month   Device  Channel Campaign Type Media Type  Region  \\\n",
      "0  2013-06-16      6   Tablet  Youtube         Reach      Video  Global   \n",
      "1  2013-06-27      6  Desktop  Youtube         Reach      Video  Global   \n",
      "2  2013-06-27      6   Mobile  Youtube         Reach      Video  Global   \n",
      "3  2013-06-28      6  Desktop  Youtube         Reach      Video  Global   \n",
      "4  2013-06-28      6   Mobile  Youtube         Reach      Video  Global   \n",
      "\n",
      "  Targeting     Cost  Clicks  \n",
      "0     Reach     0.20       2  \n",
      "1     Reach    16.84      14  \n",
      "2     Reach  1407.02     660  \n",
      "3     Reach   973.28    1046  \n",
      "4     Reach  2600.04     568  \n",
      "\n",
      "\n",
      "statistical summary of data: \n",
      "\n",
      "             Month         Cost       Clicks\n",
      "count  1644.000000  1644.000000  1644.000000\n",
      "mean      7.214112   179.711861    55.930657\n",
      "std       2.943021   554.098341   164.277759\n",
      "min       1.000000     0.000000     2.000000\n",
      "25%       5.000000    11.355000     4.000000\n",
      "50%       7.000000    30.330000    12.000000\n",
      "75%      10.000000   161.530000    38.000000\n",
      "max      12.000000  9474.580000  2316.000000\n",
      "\n",
      "\n",
      "correlation: \n",
      "\n",
      "           Month      Cost    Clicks\n",
      "Month   1.000000 -0.027681 -0.071490\n",
      "Cost   -0.027681  1.000000  0.862706\n",
      "Clicks -0.071490  0.862706  1.000000\n",
      "\n",
      "\n",
      "columns Date has distinct values: \n",
      "2015-12-22    11\n",
      "2015-12-23    11\n",
      "2015-12-19    11\n",
      "2015-12-25    10\n",
      "2015-12-21    10\n",
      "2015-12-27     9\n",
      "2016-05-14     8\n",
      "2016-04-04     8\n",
      "2015-12-26     8\n",
      "2015-12-28     8\n",
      "2016-05-17     8\n",
      "2016-05-16     8\n",
      "2016-05-18     8\n",
      "2016-03-26     8\n",
      "2015-12-18     8\n",
      "2016-03-27     8\n",
      "2016-03-28     8\n",
      "2016-03-29     8\n",
      "2016-05-20     8\n",
      "2016-05-21     8\n",
      "2016-05-08     8\n",
      "2015-12-24     8\n",
      "2016-05-15     8\n",
      "2016-05-13     8\n",
      "2016-04-07     8\n",
      "2016-05-12     8\n",
      "2016-05-11     8\n",
      "2016-05-10     8\n",
      "2016-04-03     8\n",
      "2016-04-02     8\n",
      "              ..\n",
      "2015-04-08     1\n",
      "2013-09-17     1\n",
      "2013-08-13     1\n",
      "2015-04-03     1\n",
      "2013-09-10     1\n",
      "2016-02-11     1\n",
      "2014-06-06     1\n",
      "2014-04-25     1\n",
      "2013-09-30     1\n",
      "2014-04-29     1\n",
      "2013-11-08     1\n",
      "2013-10-09     1\n",
      "2013-10-01     1\n",
      "2015-04-13     1\n",
      "2015-04-11     1\n",
      "2014-04-15     1\n",
      "2013-09-27     1\n",
      "2013-09-26     1\n",
      "2013-09-25     1\n",
      "2013-06-16     1\n",
      "2015-04-05     1\n",
      "2013-07-03     1\n",
      "2013-09-24     1\n",
      "2014-04-16     1\n",
      "2015-04-10     1\n",
      "2013-10-10     1\n",
      "2015-03-25     1\n",
      "2015-03-26     1\n",
      "2015-04-07     1\n",
      "2015-04-12     1\n",
      "Name: Date, dtype: int64\n",
      "\n",
      "\n",
      "columns Month has distinct values: \n",
      "9     201\n",
      "5     189\n",
      "10    186\n",
      "12    173\n",
      "8     165\n",
      "6     161\n",
      "3     160\n",
      "7     153\n",
      "4     152\n",
      "11     62\n",
      "1      41\n",
      "2       1\n",
      "Name: Month, dtype: int64\n",
      "\n",
      "\n",
      "columns Device has distinct values: \n",
      "Desktop    822\n",
      "Tablet     623\n",
      "Mobile     199\n",
      "Name: Device, dtype: int64\n",
      "\n",
      "\n",
      "columns Channel has distinct values: \n",
      "Youtube    1644\n",
      "Name: Channel, dtype: int64\n",
      "\n",
      "\n",
      "columns Campaign Type has distinct values: \n",
      "Video          1150\n",
      "Reach           466\n",
      "Remarketing      28\n",
      "Name: Campaign Type, dtype: int64\n",
      "\n",
      "\n",
      "columns Media Type has distinct values: \n",
      "Video    1644\n",
      "Name: Media Type, dtype: int64\n",
      "\n",
      "\n",
      "columns Region has distinct values: \n",
      "Global    881\n",
      "APAC      352\n",
      "AMS       216\n",
      "EMEA      195\n",
      "Name: Region, dtype: int64\n",
      "\n",
      "\n",
      "columns Targeting has distinct values: \n",
      "Remarketing    1178\n",
      "Reach           458\n",
      "Brand             8\n",
      "Name: Targeting, dtype: int64\n",
      "\n",
      "\n",
      "columns Cost has distinct values: \n",
      "0.00      11\n",
      "5.92       4\n",
      "0.54       4\n",
      "0.82       4\n",
      "10.04      4\n",
      "7.16       4\n",
      "8.06       4\n",
      "30.62      3\n",
      "9.08       3\n",
      "0.68       3\n",
      "10.10      3\n",
      "5.36       3\n",
      "5.74       3\n",
      "19.48      3\n",
      "5.86       3\n",
      "21.14      3\n",
      "0.64       3\n",
      "21.62      3\n",
      "20.76      3\n",
      "5.78       3\n",
      "5.10       3\n",
      "5.90       3\n",
      "9.42       3\n",
      "1.26       3\n",
      "2.78       3\n",
      "7.38       3\n",
      "18.50      3\n",
      "5.02       3\n",
      "4.82       3\n",
      "6.10       3\n",
      "          ..\n",
      "672.38     1\n",
      "6.54       1\n",
      "0.38       1\n",
      "142.42     1\n",
      "0.56       1\n",
      "298.70     1\n",
      "8.04       1\n",
      "15.98      1\n",
      "46.36      1\n",
      "866.78     1\n",
      "841.86     1\n",
      "278.60     1\n",
      "4.74       1\n",
      "74.74      1\n",
      "0.32       1\n",
      "48.12      1\n",
      "27.18      1\n",
      "12.78      1\n",
      "0.58       1\n",
      "18.06      1\n",
      "185.18     1\n",
      "450.62     1\n",
      "14.36      1\n",
      "197.72     1\n",
      "39.00      1\n",
      "10.86      1\n",
      "1.86       1\n",
      "0.74       1\n",
      "27.86      1\n",
      "159.10     1\n",
      "Name: Cost, dtype: int64\n",
      "\n",
      "\n",
      "columns Clicks has distinct values: \n",
      "2       390\n",
      "4       155\n",
      "6       106\n",
      "8        75\n",
      "10       66\n",
      "14       63\n",
      "12       52\n",
      "20       45\n",
      "16       43\n",
      "18       39\n",
      "24       37\n",
      "26       34\n",
      "22       33\n",
      "28       22\n",
      "46       19\n",
      "34       18\n",
      "54       18\n",
      "50       17\n",
      "30       17\n",
      "36       17\n",
      "40       17\n",
      "32       16\n",
      "58       16\n",
      "44       16\n",
      "56       13\n",
      "64       13\n",
      "42       13\n",
      "48       12\n",
      "52       12\n",
      "38       10\n",
      "       ... \n",
      "266       1\n",
      "2316      1\n",
      "274       1\n",
      "320       1\n",
      "316       1\n",
      "296       1\n",
      "186       1\n",
      "184       1\n",
      "174       1\n",
      "346       1\n",
      "384       1\n",
      "380       1\n",
      "116       1\n",
      "370       1\n",
      "368       1\n",
      "122       1\n",
      "124       1\n",
      "130       1\n",
      "364       1\n",
      "136       1\n",
      "138       1\n",
      "360       1\n",
      "358       1\n",
      "354       1\n",
      "148       1\n",
      "158       1\n",
      "348       1\n",
      "164       1\n",
      "166       1\n",
      "1858      1\n",
      "Name: Clicks, dtype: int64\n",
      "\n",
      "\n",
      "Pivot table: \n",
      "       Clicks      Cost\n",
      "Month                  \n",
      "1        1098   2724.58\n",
      "2           2      0.00\n",
      "3       18978  58967.44\n",
      "4       11478  27013.00\n",
      "5       15908  48409.58\n",
      "6        9098  24272.30\n",
      "7        2826  11517.28\n",
      "8        2496  11819.28\n",
      "9        7668  30765.32\n",
      "10       4216  13801.98\n",
      "11        632   2091.64\n",
      "12      17550  64063.90\n",
      "\n",
      "\n",
      "Graph: number of clicks distributed by Month \n",
      "<seaborn.axisgrid.FacetGrid object at 0x124006950>\n",
      "\n",
      "\n",
      "Graph: spend distributed by Month \n",
      "<seaborn.axisgrid.FacetGrid object at 0x1190a1710>\n",
      "\n",
      "\n"
     ]
    },
    {
     "data": {
      "image/png": "[encoded data removed]",
      "text/plain": [
       "<matplotlib.figure.Figure at 0x123dd1990>"
      ]
     },
     "metadata": {},
     "output_type": "display_data"
    },
    {
     "data": {
      "image/png": "[encoded data removed]",
      "text/plain": [
       "<matplotlib.figure.Figure at 0x11fa23690>"
      ]
     },
     "metadata": {},
     "output_type": "display_data"
    }
   ],
   "source": [
    "\n",
    "ExploratoryAnalysis(video)"
   ]
  },
  {
   "cell_type": "code",
   "execution_count": 24,
   "metadata": {
    "collapsed": true
   },
   "outputs": [],
   "source": [
    "# def createDummiesVariables(data):    \n",
    "#     data = data.join(pd.get_dummies(data['Device'],prefix=\"Device\"))\n",
    "#     data = data.join(pd.get_dummies(data['Targeting'],prefix=\"Targeting\"))\n",
    "#     data = data.join(pd.get_dummies(data['Region'],prefix=\"Region\"))\n",
    "#     data = data.join(pd.get_dummies(data['Channel'],prefix=\"Channel\"))\n",
    "#     data = data.join(pd.get_dummies(data['Campaign Type'],prefix=\"Campaign Type\"))\n",
    "#     data = data.join(pd.get_dummies(data['Month'],prefix=\"Month\"))  \n",
    "#     return data"
   ]
  },
  {
   "cell_type": "code",
   "execution_count": 50,
   "metadata": {
    "collapsed": false
   },
   "outputs": [],
   "source": [
    "    display = display.join(pd.get_dummies(display['Device'],prefix=\"Device\"))\n",
    "    display = display.join(pd.get_dummies(display['Targeting'],prefix=\"Targeting\"))\n",
    "    display = display.join(pd.get_dummies(display['Region'],prefix=\"Region\"))\n",
    "    display = display.join(pd.get_dummies(display['Channel'],prefix=\"Channel\"))\n",
    "    display = display.join(pd.get_dummies(display['Campaign Type'],prefix=\"Campaign Type\"))\n",
    "    display = display.join(pd.get_dummies(display['Month'],prefix=\"Month\"))"
   ]
  },
  {
   "cell_type": "code",
   "execution_count": 51,
   "metadata": {
    "collapsed": true
   },
   "outputs": [],
   "source": [
    "    video = video.join(pd.get_dummies(video['Device'],prefix=\"Device\"))\n",
    "    video = video.join(pd.get_dummies(video['Targeting'],prefix=\"Targeting\"))\n",
    "    video = video.join(pd.get_dummies(video['Region'],prefix=\"Region\"))\n",
    "    video = video.join(pd.get_dummies(video['Channel'],prefix=\"Channel\"))\n",
    "    video = video.join(pd.get_dummies(video['Campaign Type'],prefix=\"Campaign Type\"))\n",
    "    video = video.join(pd.get_dummies(video['Month'],prefix=\"Month\"))"
   ]
  },
  {
   "cell_type": "code",
   "execution_count": 52,
   "metadata": {
    "collapsed": true
   },
   "outputs": [],
   "source": [
    "    search = search.join(pd.get_dummies(search['Device'],prefix=\"Device\"))\n",
    "    search = search.join(pd.get_dummies(search['Targeting'],prefix=\"Targeting\"))\n",
    "    search = search.join(pd.get_dummies(search['Region'],prefix=\"Region\"))\n",
    "    search = search.join(pd.get_dummies(search['Channel'],prefix=\"Channel\"))\n",
    "    search = search.join(pd.get_dummies(search['Campaign Type'],prefix=\"Campaign Type\"))\n",
    "    search = search.join(pd.get_dummies(search['Month'],prefix=\"Month\"))"
   ]
  },
  {
   "cell_type": "code",
   "execution_count": 32,
   "metadata": {
    "collapsed": false
   },
   "outputs": [],
   "source": [
    "\n",
    "def LinearRegressionResult(data):\n",
    "    X = data.drop(['Month','Clicks','Device','Date','Campaign Type','Media Type','Region','Targeting','Channel'],axis =1 )\n",
    "    y = data[\"Clicks\"]\n",
    "    \n",
    "    model = sm.OLS(y, X)\n",
    "    results = model.fit()\n",
    "    print(results.summary())"
   ]
  },
  {
   "cell_type": "code",
   "execution_count": 33,
   "metadata": {
    "collapsed": true
   },
   "outputs": [],
   "source": [
    "def LinearRegression(data):\n",
    "    X = data.drop(['Month','Clicks','Device','Date','Campaign Type','Media Type','Region','Targeting','Channel'],axis =1 )\n",
    "    y = data[\"Clicks\"]\n",
    "    lm = linear_model.LinearRegression()\n",
    "    lm.fit(X, y)\n",
    "    predicted = lm.predict(X)\n",
    "    print \"r^2:\", lm.score(X, y) "
   ]
  },
  {
   "cell_type": "code",
   "execution_count": 34,
   "metadata": {
    "collapsed": false
   },
   "outputs": [
    {
     "name": "stdout",
     "output_type": "stream",
     "text": [
      "                            OLS Regression Results                            \n",
      "==============================================================================\n",
      "Dep. Variable:                 Clicks   R-squared:                       0.770\n",
      "Model:                            OLS   Adj. R-squared:                  0.767\n",
      "Method:                 Least Squares   F-statistic:                     272.1\n",
      "Date:                Tue, 22 Nov 2016   Prob (F-statistic):               0.00\n",
      "Time:                        20:16:29   Log-Likelihood:                -9510.1\n",
      "No. Observations:                1644   AIC:                         1.906e+04\n",
      "Df Residuals:                    1623   BIC:                         1.918e+04\n",
      "Df Model:                          20                                         \n",
      "Covariance Type:            nonrobust                                         \n",
      "=============================================================================================\n",
      "                                coef    std err          t      P>|t|      [95.0% Conf. Int.]\n",
      "---------------------------------------------------------------------------------------------\n",
      "Cost                          0.2362      0.004     59.527      0.000         0.228     0.244\n",
      "Device_Desktop               15.8740      3.330      4.767      0.000         9.342    22.406\n",
      "Device_Mobile                -2.9984      4.872     -0.615      0.538       -12.555     6.558\n",
      "Device_Tablet                 2.2242      3.541      0.628      0.530        -4.721     9.169\n",
      "Targeting_Brand              -2.7040     17.546     -0.154      0.878       -37.119    31.711\n",
      "Targeting_Reach              -4.3285     11.545     -0.375      0.708       -26.973    18.316\n",
      "Targeting_Remarketing        22.1323      5.144      4.302      0.000        12.042    32.223\n",
      "Region_AMS                  -18.0886      4.881     -3.706      0.000       -27.663    -8.514\n",
      "Region_APAC                   9.2719      4.148      2.235      0.026         1.136    17.408\n",
      "Region_EMEA                   3.8035      5.001      0.761      0.447        -6.006    13.613\n",
      "Region_Global                20.1129      3.684      5.459      0.000        12.886    27.340\n",
      "Channel_Youtube              15.0998      4.599      3.283      0.001         6.079    24.121\n",
      "Campaign Type_Reach          -7.0325      6.795     -1.035      0.301       -20.360     6.295\n",
      "Campaign Type_Remarketing    79.9808     10.296      7.768      0.000        59.786   100.176\n",
      "Campaign Type_Video         -57.8485      6.984     -8.283      0.000       -71.548   -44.149\n",
      "Month_1                     -15.4374     13.506     -1.143      0.253       -41.929    11.054\n",
      "Month_2                     -13.3704     72.992     -0.183      0.855      -156.539   129.798\n",
      "Month_3                      14.2325      8.932      1.593      0.111        -3.287    31.752\n",
      "Month_4                      12.1004      9.034      1.339      0.181        -5.619    29.820\n",
      "Month_5                      23.3129      8.640      2.698      0.007         6.367    40.259\n",
      "Month_6                      20.1992      8.883      2.274      0.023         2.776    37.622\n",
      "Month_7                       4.3694      9.116      0.479      0.632       -13.511    22.250\n",
      "Month_8                       3.6863      8.946      0.412      0.680       -13.860    21.232\n",
      "Month_9                     -10.9084      8.449     -1.291      0.197       -27.480     5.663\n",
      "Month_10                     -9.5750      8.584     -1.115      0.265       -26.413     7.263\n",
      "Month_11                    -27.6908     11.941     -2.319      0.021       -51.113    -4.269\n",
      "Month_12                     14.1811      8.893      1.595      0.111        -3.263    31.625\n",
      "==============================================================================\n",
      "Omnibus:                     1470.973   Durbin-Watson:                   2.327\n",
      "Prob(Omnibus):                  0.000   Jarque-Bera (JB):           144863.671\n",
      "Skew:                           3.726   Prob(JB):                         0.00\n",
      "Kurtosis:                      48.379   Cond. No.                     1.00e+16\n",
      "==============================================================================\n",
      "\n",
      "Warnings:\n",
      "[1] Standard Errors assume that the covariance matrix of the errors is correctly specified.\n",
      "[2] The smallest eigenvalue is 5.57e-24. This might indicate that there are\n",
      "strong multicollinearity problems or that the design matrix is singular.\n"
     ]
    }
   ],
   "source": [
    "LinearRegressionResult(video)"
   ]
  },
  {
   "cell_type": "code",
   "execution_count": 16,
   "metadata": {
    "collapsed": false
   },
   "outputs": [
    {
     "name": "stdout",
     "output_type": "stream",
     "text": [
      "r^2: 0.175282408486\n"
     ]
    }
   ],
   "source": [
    "LinearRegression(display)"
   ]
  },
  {
   "cell_type": "code",
   "execution_count": 59,
   "metadata": {
    "collapsed": false
   },
   "outputs": [],
   "source": [
    "from sklearn.tree import DecisionTreeRegressor\n",
    "from sklearn.model_selection import train_test_split\n",
    "from sklearn import metrics\n",
    "\n",
    "def DecisionTree(data):\n",
    "#     data['Cost'] = np.log(data[\"Cost\"])\n",
    "    X = data.drop(['Month','Clicks','Device','Date','Campaign Type','Media Type','Region','Targeting','Channel'],axis =1 )\n",
    "    y = np.log(data[\"Clicks\"])\n",
    "    X_train, X_test, y_train, y_test = train_test_split(X, y, test_size=0.20, random_state=42)\n",
    "    \n",
    "    dt = DecisionTreeRegressor()\n",
    "    dt.fit(X_train, y_train)\n",
    "    print 'MSE: ' + str(metrics.mean_squared_error(y_test,dt.predict(X_test)))\n",
    "    print 'accuracy = ' + str(dt.score(X_test,y_test))\n",
    "    feature_importances_array = dt.feature_importances_\n",
    "\n",
    "    # Put the features themselves in a list\n",
    "    features_array = X.columns.values \n",
    "\n",
    "    # Turn these into a Data Frame\n",
    "    feature_importances_df = pd.DataFrame({'importances' : feature_importances_array, 'features' : features_array})\n",
    "    \n",
    "    print feature_importances_df.sort(columns='importances', ascending=False)\n",
    "    "
   ]
  },
  {
   "cell_type": "code",
   "execution_count": 60,
   "metadata": {
    "collapsed": false
   },
   "outputs": [
    {
     "name": "stdout",
     "output_type": "stream",
     "text": [
      "MSE: 0.368800050713\n",
      "accuracy = 0.906689844367\n",
      "                             features  importances\n",
      "0                                Cost     0.780766\n",
      "6                     Targeting_Reach     0.066731\n",
      "2                       Device_Mobile     0.017869\n",
      "22        Campaign Type_Reach - Image     0.015792\n",
      "14                       Region_LATAM     0.011175\n",
      "28                            Month_1     0.010656\n",
      "1                      Device_Desktop     0.010354\n",
      "13                      Region_Global     0.007217\n",
      "23         Campaign Type_Reach - Text     0.006883\n",
      "29                            Month_2     0.006665\n",
      "39                           Month_12     0.005896\n",
      "21                Campaign Type_Reach     0.004329\n",
      "8                          Region_AMS     0.004229\n",
      "11                        Region_EMEA     0.003960\n",
      "18            Campaign Type_In-Market     0.003811\n",
      "9                         Region_APAC     0.003629\n",
      "24          Campaign Type_Remarketing     0.003453\n",
      "19               Campaign Type_Legacy     0.003301\n",
      "3                       Device_Tablet     0.003251\n",
      "30                            Month_3     0.003097\n",
      "32                            Month_5     0.002778\n",
      "31                            Month_4     0.002458\n",
      "20              Campaign Type_Managed     0.002269\n",
      "26   Campaign Type_Remarketing - Text     0.002249\n",
      "34                            Month_7     0.002131\n",
      "27          Campaign Type_Retargeting     0.002067\n",
      "35                            Month_8     0.002045\n",
      "38                           Month_11     0.002014\n",
      "36                            Month_9     0.001953\n",
      "37                           Month_10     0.001725\n",
      "33                            Month_6     0.001575\n",
      "25  Campaign Type_Remarketing - Image     0.001389\n",
      "17                Campaign Type_Image     0.000668\n",
      "15                       Channel_Bing     0.000420\n",
      "7               Targeting_Remarketing     0.000355\n",
      "16                     Channel_Google     0.000232\n",
      "10                      Region_APAC       0.000198\n",
      "4                      Device_Unknown     0.000184\n",
      "12                      Region_EMEA       0.000156\n",
      "5                   Targeting_Display     0.000068\n"
     ]
    },
    {
     "name": "stderr",
     "output_type": "stream",
     "text": [
      "/anaconda/lib/python2.7/site-packages/ipykernel/__main__.py:23: FutureWarning: sort(columns=....) is deprecated, use sort_values(by=.....)\n"
     ]
    }
   ],
   "source": [
    "DecisionTree(display)"
   ]
  },
  {
   "cell_type": "code",
   "execution_count": 42,
   "metadata": {
    "collapsed": false
   },
   "outputs": [
    {
     "data": {
      "text/plain": [
       "<matplotlib.collections.PathCollection at 0x11e01ca50>"
      ]
     },
     "execution_count": 42,
     "metadata": {},
     "output_type": "execute_result"
    },
    {
     "data": {
      "image/png": "[encoded data removed]",
      "text/plain": [
       "<matplotlib.figure.Figure at 0x126a85f90>"
      ]
     },
     "metadata": {},
     "output_type": "display_data"
    }
   ],
   "source": [
    "plt.scatter(display.Device_Mobile, display.Clicks, alpha=0.01)"
   ]
  },
  {
   "cell_type": "markdown",
   "metadata": {},
   "source": [
    "SW: Looks like the feature 'Device_Mobile\" is indeed pretty important in predicting number of clicks!"
   ]
  },
  {
   "cell_type": "code",
   "execution_count": 35,
   "metadata": {
    "collapsed": false
   },
   "outputs": [],
   "source": [
    "from sklearn.ensemble import RandomForestRegressor\n",
    "from sklearn.model_selection import train_test_split\n",
    "\n",
    "def RandomForrest(data):\n",
    "#     data['Cost'] = np.log(data[\"Cost\"])\n",
    "    X = data.drop(['Month','Clicks','Device','Date','Campaign Type','Media Type','Region','Targeting','Channel'],axis =1 )\n",
    "    y = np.log(data[\"Clicks\"])\n",
    "    X_train, X_test, y_train, y_test = train_test_split(X, y, test_size=0.20, random_state=42)\n",
    "    \n",
    "    rf = RandomForestRegressor()\n",
    "    rf.fit(X_train, y_train)\n",
    "#     data['predict_clicks'] = rf.predict(X_test)\n",
    "    \n",
    "    feature_importances_array = rf.feature_importances_\n",
    "\n",
    "    # Put the features themselves in a list\n",
    "    features_array = X.columns.values \n",
    "\n",
    "    # Turn these into a Data Frame\n",
    "    feature_importances_df = pd.DataFrame({'importances' : feature_importances_array, 'features' : features_array})\n",
    "    \n",
    "    print rf.score(X_test,y_test)\n",
    "    print feature_importances_df.sort(columns='importances', ascending=False)"
   ]
  },
  {
   "cell_type": "markdown",
   "metadata": {},
   "source": [
    "SW: Hey Ng, I would log-transform Clicks to see if you get a more realistic model. In about 45% of your cases, clicks is 0, and you have a few extremely large values here."
   ]
  },
  {
   "cell_type": "markdown",
   "metadata": {},
   "source": [
    "SW: Overall, it is possible that your random forest model is this good. I would look at the predictions on some individual cases to see the predictions your model is returning \"make sense\"."
   ]
  },
  {
   "cell_type": "code",
   "execution_count": 39,
   "metadata": {
    "collapsed": false
   },
   "outputs": [
    {
     "name": "stdout",
     "output_type": "stream",
     "text": [
      "0.942184019274\n",
      "                             features  importances\n",
      "0                                Cost     0.779682\n",
      "6                     Targeting_Reach     0.066709\n",
      "2                       Device_Mobile     0.018393\n",
      "22        Campaign Type_Reach - Image     0.014811\n",
      "28                            Month_1     0.011437\n",
      "14                       Region_LATAM     0.010192\n",
      "1                      Device_Desktop     0.009455\n",
      "29                            Month_2     0.007260\n",
      "13                      Region_Global     0.006795\n",
      "21                Campaign Type_Reach     0.006437\n",
      "39                           Month_12     0.005967\n",
      "23         Campaign Type_Reach - Text     0.004878\n",
      "8                          Region_AMS     0.004616\n",
      "11                        Region_EMEA     0.004602\n",
      "19               Campaign Type_Legacy     0.004134\n",
      "18            Campaign Type_In-Market     0.003657\n",
      "30                            Month_3     0.003374\n",
      "9                         Region_APAC     0.003351\n",
      "3                       Device_Tablet     0.003157\n",
      "31                            Month_4     0.002499\n",
      "24          Campaign Type_Remarketing     0.002491\n",
      "32                            Month_5     0.002407\n",
      "36                            Month_9     0.002331\n",
      "26   Campaign Type_Remarketing - Text     0.002255\n",
      "20              Campaign Type_Managed     0.002106\n",
      "34                            Month_7     0.002088\n",
      "38                           Month_11     0.002041\n",
      "35                            Month_8     0.002018\n",
      "27          Campaign Type_Retargeting     0.001958\n",
      "37                           Month_10     0.001948\n",
      "33                            Month_6     0.001717\n",
      "25  Campaign Type_Remarketing - Image     0.001680\n",
      "7               Targeting_Remarketing     0.001271\n",
      "17                Campaign Type_Image     0.000757\n",
      "15                       Channel_Bing     0.000406\n",
      "10                      Region_APAC       0.000379\n",
      "16                     Channel_Google     0.000260\n",
      "12                      Region_EMEA       0.000206\n",
      "4                      Device_Unknown     0.000187\n",
      "5                   Targeting_Display     0.000088\n"
     ]
    },
    {
     "name": "stderr",
     "output_type": "stream",
     "text": [
      "/anaconda/lib/python2.7/site-packages/ipykernel/__main__.py:23: FutureWarning: sort(columns=....) is deprecated, use sort_values(by=.....)\n"
     ]
    }
   ],
   "source": [
    "RandomForrest(display)"
   ]
  },
  {
   "cell_type": "code",
   "execution_count": 47,
   "metadata": {
    "collapsed": false
   },
   "outputs": [
    {
     "data": {
      "text/html": [
       "<div>\n",
       "<table border=\"1\" class=\"dataframe\">\n",
       "  <thead>\n",
       "    <tr style=\"text-align: right;\">\n",
       "      <th></th>\n",
       "      <th>Date</th>\n",
       "      <th>Month</th>\n",
       "      <th>Device</th>\n",
       "      <th>Channel</th>\n",
       "      <th>Campaign Type</th>\n",
       "      <th>Media Type</th>\n",
       "      <th>Region</th>\n",
       "      <th>Targeting</th>\n",
       "      <th>Cost</th>\n",
       "      <th>Clicks</th>\n",
       "      <th>...</th>\n",
       "      <th>Month_4</th>\n",
       "      <th>Month_5</th>\n",
       "      <th>Month_6</th>\n",
       "      <th>Month_7</th>\n",
       "      <th>Month_8</th>\n",
       "      <th>Month_9</th>\n",
       "      <th>Month_10</th>\n",
       "      <th>Month_11</th>\n",
       "      <th>Month_12</th>\n",
       "      <th>predict_clicks</th>\n",
       "    </tr>\n",
       "  </thead>\n",
       "  <tbody>\n",
       "    <tr>\n",
       "      <th>0</th>\n",
       "      <td>1/1/2013</td>\n",
       "      <td>1</td>\n",
       "      <td>Desktop</td>\n",
       "      <td>Google</td>\n",
       "      <td>Remarketing</td>\n",
       "      <td>Display</td>\n",
       "      <td>Global</td>\n",
       "      <td>Remarketing</td>\n",
       "      <td>1074.74</td>\n",
       "      <td>3752</td>\n",
       "      <td>...</td>\n",
       "      <td>0.0</td>\n",
       "      <td>0.0</td>\n",
       "      <td>0.0</td>\n",
       "      <td>0.0</td>\n",
       "      <td>0.0</td>\n",
       "      <td>0.0</td>\n",
       "      <td>0.0</td>\n",
       "      <td>0.0</td>\n",
       "      <td>0.0</td>\n",
       "      <td>3356.8</td>\n",
       "    </tr>\n",
       "    <tr>\n",
       "      <th>1</th>\n",
       "      <td>1/1/2013</td>\n",
       "      <td>1</td>\n",
       "      <td>Mobile</td>\n",
       "      <td>Google</td>\n",
       "      <td>Reach</td>\n",
       "      <td>Display</td>\n",
       "      <td>Global</td>\n",
       "      <td>Reach</td>\n",
       "      <td>845.78</td>\n",
       "      <td>1050</td>\n",
       "      <td>...</td>\n",
       "      <td>0.0</td>\n",
       "      <td>0.0</td>\n",
       "      <td>0.0</td>\n",
       "      <td>0.0</td>\n",
       "      <td>0.0</td>\n",
       "      <td>0.0</td>\n",
       "      <td>0.0</td>\n",
       "      <td>0.0</td>\n",
       "      <td>0.0</td>\n",
       "      <td>1016.4</td>\n",
       "    </tr>\n",
       "    <tr>\n",
       "      <th>2</th>\n",
       "      <td>1/1/2013</td>\n",
       "      <td>1</td>\n",
       "      <td>Tablet</td>\n",
       "      <td>Google</td>\n",
       "      <td>Reach</td>\n",
       "      <td>Display</td>\n",
       "      <td>Global</td>\n",
       "      <td>Reach</td>\n",
       "      <td>420.80</td>\n",
       "      <td>350</td>\n",
       "      <td>...</td>\n",
       "      <td>0.0</td>\n",
       "      <td>0.0</td>\n",
       "      <td>0.0</td>\n",
       "      <td>0.0</td>\n",
       "      <td>0.0</td>\n",
       "      <td>0.0</td>\n",
       "      <td>0.0</td>\n",
       "      <td>0.0</td>\n",
       "      <td>0.0</td>\n",
       "      <td>374.8</td>\n",
       "    </tr>\n",
       "    <tr>\n",
       "      <th>3</th>\n",
       "      <td>1/2/2013</td>\n",
       "      <td>1</td>\n",
       "      <td>Mobile</td>\n",
       "      <td>Google</td>\n",
       "      <td>Reach</td>\n",
       "      <td>Display</td>\n",
       "      <td>EMEA</td>\n",
       "      <td>Reach</td>\n",
       "      <td>88.40</td>\n",
       "      <td>136</td>\n",
       "      <td>...</td>\n",
       "      <td>0.0</td>\n",
       "      <td>0.0</td>\n",
       "      <td>0.0</td>\n",
       "      <td>0.0</td>\n",
       "      <td>0.0</td>\n",
       "      <td>0.0</td>\n",
       "      <td>0.0</td>\n",
       "      <td>0.0</td>\n",
       "      <td>0.0</td>\n",
       "      <td>130.0</td>\n",
       "    </tr>\n",
       "    <tr>\n",
       "      <th>4</th>\n",
       "      <td>1/2/2013</td>\n",
       "      <td>1</td>\n",
       "      <td>Tablet</td>\n",
       "      <td>Google</td>\n",
       "      <td>Remarketing</td>\n",
       "      <td>Display</td>\n",
       "      <td>Global</td>\n",
       "      <td>Remarketing</td>\n",
       "      <td>17.06</td>\n",
       "      <td>82</td>\n",
       "      <td>...</td>\n",
       "      <td>0.0</td>\n",
       "      <td>0.0</td>\n",
       "      <td>0.0</td>\n",
       "      <td>0.0</td>\n",
       "      <td>0.0</td>\n",
       "      <td>0.0</td>\n",
       "      <td>0.0</td>\n",
       "      <td>0.0</td>\n",
       "      <td>0.0</td>\n",
       "      <td>81.4</td>\n",
       "    </tr>\n",
       "  </tbody>\n",
       "</table>\n",
       "<p>5 rows × 50 columns</p>\n",
       "</div>"
      ],
      "text/plain": [
       "       Date  Month   Device Channel Campaign Type Media Type  Region  \\\n",
       "0  1/1/2013      1  Desktop  Google   Remarketing    Display  Global   \n",
       "1  1/1/2013      1   Mobile  Google         Reach    Display  Global   \n",
       "2  1/1/2013      1   Tablet  Google         Reach    Display  Global   \n",
       "3  1/2/2013      1   Mobile  Google         Reach    Display  EMEA     \n",
       "4  1/2/2013      1   Tablet  Google   Remarketing    Display  Global   \n",
       "\n",
       "     Targeting     Cost  Clicks       ...        Month_4  Month_5  Month_6  \\\n",
       "0  Remarketing  1074.74    3752       ...            0.0      0.0      0.0   \n",
       "1        Reach   845.78    1050       ...            0.0      0.0      0.0   \n",
       "2        Reach   420.80     350       ...            0.0      0.0      0.0   \n",
       "3        Reach    88.40     136       ...            0.0      0.0      0.0   \n",
       "4  Remarketing    17.06      82       ...            0.0      0.0      0.0   \n",
       "\n",
       "   Month_7  Month_8  Month_9  Month_10  Month_11  Month_12  predict_clicks  \n",
       "0      0.0      0.0      0.0       0.0       0.0       0.0          3356.8  \n",
       "1      0.0      0.0      0.0       0.0       0.0       0.0          1016.4  \n",
       "2      0.0      0.0      0.0       0.0       0.0       0.0           374.8  \n",
       "3      0.0      0.0      0.0       0.0       0.0       0.0           130.0  \n",
       "4      0.0      0.0      0.0       0.0       0.0       0.0            81.4  \n",
       "\n",
       "[5 rows x 50 columns]"
      ]
     },
     "execution_count": 47,
     "metadata": {},
     "output_type": "execute_result"
    }
   ],
   "source": [
    "display.head()"
   ]
  },
  {
   "cell_type": "code",
   "execution_count": 62,
   "metadata": {
    "collapsed": false
   },
   "outputs": [
    {
     "ename": "ValueError",
     "evalue": "Can't handle mix of multiclass and continuous",
     "output_type": "error",
     "traceback": [
      "\u001b[0;31m---------------------------------------------------------------------------\u001b[0m",
      "\u001b[0;31mValueError\u001b[0m                                Traceback (most recent call last)",
      "\u001b[0;32m<ipython-input-62-47047891b5eb>\u001b[0m in \u001b[0;36m<module>\u001b[0;34m()\u001b[0m\n\u001b[1;32m      1\u001b[0m \u001b[0;32mfrom\u001b[0m \u001b[0msklearn\u001b[0m\u001b[0;34m.\u001b[0m\u001b[0mmetrics\u001b[0m \u001b[0;32mimport\u001b[0m \u001b[0maccuracy_score\u001b[0m\u001b[0;34m\u001b[0m\u001b[0m\n\u001b[1;32m      2\u001b[0m \u001b[0;34m\u001b[0m\u001b[0m\n\u001b[0;32m----> 3\u001b[0;31m \u001b[0maccuracy_score\u001b[0m\u001b[0;34m(\u001b[0m\u001b[0mdisplay\u001b[0m\u001b[0;34m.\u001b[0m\u001b[0mClicks\u001b[0m\u001b[0;34m,\u001b[0m \u001b[0mdisplay\u001b[0m\u001b[0;34m.\u001b[0m\u001b[0mpredict_clicks\u001b[0m\u001b[0;34m)\u001b[0m\u001b[0;34m\u001b[0m\u001b[0m\n\u001b[0m",
      "\u001b[0;32m//anaconda/lib/python2.7/site-packages/sklearn/metrics/classification.pyc\u001b[0m in \u001b[0;36maccuracy_score\u001b[0;34m(y_true, y_pred, normalize, sample_weight)\u001b[0m\n\u001b[1;32m    170\u001b[0m \u001b[0;34m\u001b[0m\u001b[0m\n\u001b[1;32m    171\u001b[0m     \u001b[0;31m# Compute accuracy for each possible representation\u001b[0m\u001b[0;34m\u001b[0m\u001b[0;34m\u001b[0m\u001b[0m\n\u001b[0;32m--> 172\u001b[0;31m     \u001b[0my_type\u001b[0m\u001b[0;34m,\u001b[0m \u001b[0my_true\u001b[0m\u001b[0;34m,\u001b[0m \u001b[0my_pred\u001b[0m \u001b[0;34m=\u001b[0m \u001b[0m_check_targets\u001b[0m\u001b[0;34m(\u001b[0m\u001b[0my_true\u001b[0m\u001b[0;34m,\u001b[0m \u001b[0my_pred\u001b[0m\u001b[0;34m)\u001b[0m\u001b[0;34m\u001b[0m\u001b[0m\n\u001b[0m\u001b[1;32m    173\u001b[0m     \u001b[0;32mif\u001b[0m \u001b[0my_type\u001b[0m\u001b[0;34m.\u001b[0m\u001b[0mstartswith\u001b[0m\u001b[0;34m(\u001b[0m\u001b[0;34m'multilabel'\u001b[0m\u001b[0;34m)\u001b[0m\u001b[0;34m:\u001b[0m\u001b[0;34m\u001b[0m\u001b[0m\n\u001b[1;32m    174\u001b[0m         \u001b[0mdiffering_labels\u001b[0m \u001b[0;34m=\u001b[0m \u001b[0mcount_nonzero\u001b[0m\u001b[0;34m(\u001b[0m\u001b[0my_true\u001b[0m \u001b[0;34m-\u001b[0m \u001b[0my_pred\u001b[0m\u001b[0;34m,\u001b[0m \u001b[0maxis\u001b[0m\u001b[0;34m=\u001b[0m\u001b[0;36m1\u001b[0m\u001b[0;34m)\u001b[0m\u001b[0;34m\u001b[0m\u001b[0m\n",
      "\u001b[0;32m//anaconda/lib/python2.7/site-packages/sklearn/metrics/classification.pyc\u001b[0m in \u001b[0;36m_check_targets\u001b[0;34m(y_true, y_pred)\u001b[0m\n\u001b[1;32m     80\u001b[0m     \u001b[0;32mif\u001b[0m \u001b[0mlen\u001b[0m\u001b[0;34m(\u001b[0m\u001b[0my_type\u001b[0m\u001b[0;34m)\u001b[0m \u001b[0;34m>\u001b[0m \u001b[0;36m1\u001b[0m\u001b[0;34m:\u001b[0m\u001b[0;34m\u001b[0m\u001b[0m\n\u001b[1;32m     81\u001b[0m         raise ValueError(\"Can't handle mix of {0} and {1}\"\n\u001b[0;32m---> 82\u001b[0;31m                          \"\".format(type_true, type_pred))\n\u001b[0m\u001b[1;32m     83\u001b[0m \u001b[0;34m\u001b[0m\u001b[0m\n\u001b[1;32m     84\u001b[0m     \u001b[0;31m# We can't have more than one value on y_type => The set is no more needed\u001b[0m\u001b[0;34m\u001b[0m\u001b[0;34m\u001b[0m\u001b[0m\n",
      "\u001b[0;31mValueError\u001b[0m: Can't handle mix of multiclass and continuous"
     ]
    }
   ],
   "source": [
    "from sklearn.metrics import accuracy_score\n",
    "\n",
    "accuracy_score(display.Clicks, display.predict_clicks)"
   ]
  },
  {
   "cell_type": "markdown",
   "metadata": {},
   "source": [
    "SW: \"Accuracy score\" only works if the two arguments are categorical rather than continuous. I think you want something like \"mean_squared_error\" or \"R squared\" here - we went over how to do these in class 6, I believe."
   ]
  },
  {
   "cell_type": "markdown",
   "metadata": {
    "collapsed": true
   },
   "source": [
    "SW: Keep up the great work, Ng!"
   ]
  },
  {
   "cell_type": "code",
   "execution_count": null,
   "metadata": {
    "collapsed": true
   },
   "outputs": [],
   "source": []
  }
 ],
 "metadata": {
  "anaconda-cloud": {},
  "kernelspec": {
   "display_name": "Python [default]",
   "language": "python",
   "name": "python2"
  },
  "language_info": {
   "codemirror_mode": {
    "name": "ipython",
    "version": 2
   },
   "file_extension": ".py",
   "mimetype": "text/x-python",
   "name": "python",
   "nbconvert_exporter": "python",
   "pygments_lexer": "ipython2",
   "version": "2.7.12"
  },
  "toc": {
   "nav_menu": {
    "height": "12px",
    "width": "252px"
   },
   "navigate_menu": true,
   "number_sections": true,
   "sideBar": true,
   "threshold": 4,
   "toc_cell": false,
   "toc_section_display": "block",
   "toc_window_display": true
  }
 },
 "nbformat": 4,
 "nbformat_minor": 0
}
