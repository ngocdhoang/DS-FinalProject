{
 "cells": [
  {
   "cell_type": "code",
   "execution_count": 4,
   "metadata": {
    "collapsed": false
   },
   "outputs": [
    {
     "name": "stderr",
     "output_type": "stream",
     "text": [
      "//anaconda/lib/python2.7/site-packages/sklearn/cross_validation.py:44: DeprecationWarning: This module was deprecated in version 0.18 in favor of the model_selection module into which all the refactored classes and functions are moved. Also note that the interface of the new CV iterators are different from that of this module. This module will be removed in 0.20.\n",
      "  \"This module will be removed in 0.20.\", DeprecationWarning)\n"
     ]
    }
   ],
   "source": [
    "%matplotlib inline\n",
    "import numpy as np\n",
    "import pandas as pd\n",
    "from matplotlib import pyplot as plt\n",
    "import seaborn as sns\n",
    "import sklearn.linear_model\n",
    "import seaborn as sb\n",
    "import statsmodels.api as sm\n",
    "from sklearn.cross_validation import cross_val_score\n",
    "from sklearn.linear_model import LinearRegression\n",
    "from sklearn import linear_model\n"
   ]
  },
  {
   "cell_type": "code",
   "execution_count": 70,
   "metadata": {
    "collapsed": true
   },
   "outputs": [],
   "source": [
    "#Read file\n",
    "search = pd.read_csv('Search data.csv')\n",
    "display = pd.read_csv('display data.csv')\n",
    "video = pd.read_csv('video data.csv')"
   ]
  },
  {
   "cell_type": "code",
   "execution_count": 62,
   "metadata": {
    "collapsed": false
   },
   "outputs": [],
   "source": [
    "def ExploratoryAnalysis(data):\n",
    "    print \"first 5 rows: \\n\" + str(data.head(5)) + \"\\n\\n\"\n",
    "    print \"statistical summary of data: \\n\\n\" + str(data.describe()) + \"\\n\\n\"\n",
    "    print \"correlation: \\n\\n\" + str(data.corr()) +\"\\n\\n\"\n",
    "    columns = data.columns\n",
    "    for i in range(0,len(columns)):\n",
    "        print \"columns \" + str(columns[i]) + \" has distinct values: \\n\" + str((data[columns[i]].value_counts())) + \"\\n\\n\"\n",
    "    \n",
    "    print \"Pivot table: \\n\" +    str(pd.pivot_table(data, index = 'Month', aggfunc = np.sum)) + '\\n\\n'\n",
    "    print \"Graph: number of clicks distributed by Month \\n\" +  str(sb.factorplot( x='Month', y='Clicks', data=data, kind='bar', estimator = sum)) + \"\\n\\n\"\n",
    "    print \"Graph: spend distributed by Month \\n\" +  str(sb.factorplot( x='Month', y='Cost', data=data, kind='bar', estimator = sum)) + \"\\n\\n\""
   ]
  },
  {
   "cell_type": "code",
   "execution_count": 63,
   "metadata": {
    "collapsed": false
   },
   "outputs": [
    {
     "name": "stdout",
     "output_type": "stream",
     "text": [
      "first 5 rows: \n",
      "       Date  Month   Device Channel Campaign Type Media Type  Region  \\\n",
      "0  1/1/2013      1  Desktop  Google        Legacy     Search  Global   \n",
      "1  1/1/2013      1   Mobile  Google        Legacy     Search   LATAM   \n",
      "2  1/1/2013      1   Tablet  Google        Legacy     Search     AMS   \n",
      "3  1/1/2013      1   Tablet  Google        Legacy     Search  Global   \n",
      "4  1/2/2013      1   Mobile  Google        Legacy     Search    EMEA   \n",
      "\n",
      "  Targeting   Cost  Clicks  \n",
      "0     Brand  90.64      62  \n",
      "1        NB   7.20       4  \n",
      "2        NB  86.32      28  \n",
      "3     Brand   9.26       6  \n",
      "4        NB   1.90       6  \n",
      "\n",
      "\n",
      "statistical summary of data: \n",
      "\n",
      "              Month          Cost        Clicks\n",
      "count  49835.000000  49835.000000  49835.000000\n",
      "mean       6.786134    744.762220    119.749253\n",
      "std        3.442085   1888.371941    387.852678\n",
      "min        1.000000      0.000000      2.000000\n",
      "25%        4.000000     15.660000      6.000000\n",
      "50%        7.000000     77.940000     20.000000\n",
      "75%       10.000000    493.130000    106.000000\n",
      "max       12.000000  33824.620000  28190.000000\n",
      "\n",
      "\n",
      "correlation: \n",
      "\n",
      "           Month      Cost    Clicks\n",
      "Month   1.000000 -0.003122  0.028653\n",
      "Cost   -0.003122  1.000000  0.437286\n",
      "Clicks  0.028653  0.437286  1.000000\n",
      "\n",
      "\n",
      "columns Date has distinct values: \n",
      "12/5/2015     118\n",
      "12/6/2015     116\n",
      "12/7/2015     114\n",
      "12/13/2015    114\n",
      "12/15/2015    112\n",
      "12/17/2015    111\n",
      "12/9/2015     111\n",
      "12/23/2015    108\n",
      "12/11/2015    108\n",
      "12/18/2015    107\n",
      "12/20/2015    107\n",
      "12/22/2015    107\n",
      "12/14/2015    107\n",
      "12/12/2015    107\n",
      "12/21/2015    106\n",
      "12/16/2015    106\n",
      "12/10/2015    104\n",
      "12/19/2015    104\n",
      "12/8/2015     103\n",
      "12/25/2015    102\n",
      "12/24/2015     97\n",
      "12/26/2015     95\n",
      "12/4/2015      90\n",
      "12/2/2015      89\n",
      "12/3/2015      88\n",
      "12/1/2015      88\n",
      "12/31/2015     83\n",
      "12/27/2015     81\n",
      "12/28/2015     81\n",
      "9/19/2016      77\n",
      "             ... \n",
      "2/1/2013       15\n",
      "5/4/2013       15\n",
      "1/16/2013      15\n",
      "5/10/2013      15\n",
      "4/6/2013       15\n",
      "5/18/2013      14\n",
      "4/20/2013      14\n",
      "2/5/2013       14\n",
      "1/10/2013      14\n",
      "5/6/2013       14\n",
      "3/30/2013      14\n",
      "6/2/2013       14\n",
      "5/11/2013      14\n",
      "5/25/2013      14\n",
      "1/6/2013       14\n",
      "5/12/2013      14\n",
      "3/14/2013      14\n",
      "1/1/2013       14\n",
      "2/9/2013       14\n",
      "5/26/2013      14\n",
      "3/31/2013      14\n",
      "5/5/2013       14\n",
      "6/1/2013       14\n",
      "4/13/2013      14\n",
      "5/13/2013      13\n",
      "2/8/2013       13\n",
      "3/9/2013       13\n",
      "1/13/2013      13\n",
      "10/24/2015     12\n",
      "4/7/2013       12\n",
      "Name: Date, dtype: int64\n",
      "\n",
      "\n",
      "columns Month has distinct values: \n",
      "12    4979\n",
      "9     4800\n",
      "10    4648\n",
      "8     4511\n",
      "7     4136\n",
      "3     3975\n",
      "6     3944\n",
      "4     3936\n",
      "1     3920\n",
      "11    3878\n",
      "5     3864\n",
      "2     3244\n",
      "Name: Month, dtype: int64\n",
      "\n",
      "\n",
      "columns Device has distinct values: \n",
      "Desktop    22823\n",
      "Tablet     15231\n",
      "Mobile     11599\n",
      "Unknown      182\n",
      "Name: Device, dtype: int64\n",
      "\n",
      "\n",
      "columns Channel has distinct values: \n",
      "Google          41357\n",
      "Bing             8296\n",
      "Yahoo Gemini      182\n",
      "Name: Channel, dtype: int64\n",
      "\n",
      "\n",
      "columns Campaign Type has distinct values: \n",
      "Legacy         30207\n",
      "Alpha           8513\n",
      "Beta            8405\n",
      "Gamma           2240\n",
      "Brand            200\n",
      "Reach            144\n",
      "Non-Brand         98\n",
      "DKI               27\n",
      "Remarketing        1\n",
      "Name: Campaign Type, dtype: int64\n",
      "\n",
      "\n",
      "columns Media Type has distinct values: \n",
      "Search    49835\n",
      "Name: Media Type, dtype: int64\n",
      "\n",
      "\n",
      "columns Region has distinct values: \n",
      "AMS       11749\n",
      "EMEA      10699\n",
      "Global    10128\n",
      "APAC       9654\n",
      "LATAM      7605\n",
      "Name: Region, dtype: int64\n",
      "\n",
      "\n",
      "columns Targeting has distinct values: \n",
      "NB             25312\n",
      "Brand          22710\n",
      "Search          1668\n",
      "Reach            144\n",
      "Remarketing        1\n",
      "Name: Targeting, dtype: int64\n",
      "\n",
      "\n",
      "columns Cost has distinct values: \n",
      "0.100000       110\n",
      "0.200000        93\n",
      "0.020000        91\n",
      "0.120000        66\n",
      "0.300000        59\n",
      "0.080000        56\n",
      "0.220000        54\n",
      "0.380000        53\n",
      "0.320000        52\n",
      "0.460000        51\n",
      "0.160000        50\n",
      "0.500000        50\n",
      "0.240000        49\n",
      "0.360000        46\n",
      "0.440000        45\n",
      "0.040000        45\n",
      "0.060000        43\n",
      "0.400000        41\n",
      "0.420000        39\n",
      "0.700000        39\n",
      "0.140000        39\n",
      "0.520000        39\n",
      "0.180000        36\n",
      "1.480000        36\n",
      "0.780000        36\n",
      "0.840000        36\n",
      "1.000000        36\n",
      "0.940000        35\n",
      "0.340000        35\n",
      "0.720000        35\n",
      "              ... \n",
      "665.220000       1\n",
      "1649.680000      1\n",
      "1200.420000      1\n",
      "866.660000       1\n",
      "4152.920000      1\n",
      "130.560000       1\n",
      "266.320000       1\n",
      "97.639999        1\n",
      "137.360000       1\n",
      "3990.640000      1\n",
      "2011.960000      1\n",
      "117.080000       1\n",
      "1943.120000      1\n",
      "8930.180000      1\n",
      "6878.660000      1\n",
      "4199.560000      1\n",
      "491.360000       1\n",
      "1288.760000      1\n",
      "2582.380000      1\n",
      "645.280000       1\n",
      "2211.440000      1\n",
      "1711.620000      1\n",
      "240.100000       1\n",
      "468.240000       1\n",
      "2386.540000      1\n",
      "1133.220000      1\n",
      "1967.920000      1\n",
      "1620.900000      1\n",
      "3065.560000      1\n",
      "760.500000       1\n",
      "Name: Cost, dtype: int64\n",
      "\n",
      "\n",
      "columns Clicks has distinct values: \n",
      "2        6083\n",
      "4        4505\n",
      "6        3295\n",
      "8        2588\n",
      "10       2046\n",
      "12       1725\n",
      "14       1545\n",
      "16       1322\n",
      "18       1161\n",
      "20       1109\n",
      "22        967\n",
      "24        824\n",
      "26        730\n",
      "28        641\n",
      "30        580\n",
      "32        550\n",
      "34        521\n",
      "36        448\n",
      "38        429\n",
      "40        401\n",
      "44        350\n",
      "42        340\n",
      "46        307\n",
      "48        266\n",
      "50        253\n",
      "54        226\n",
      "56        220\n",
      "52        217\n",
      "60        194\n",
      "58        192\n",
      "         ... \n",
      "3088        1\n",
      "7506        1\n",
      "4496        1\n",
      "4752        1\n",
      "1138        1\n",
      "1362        1\n",
      "1394        1\n",
      "2062        1\n",
      "3134        1\n",
      "3786        1\n",
      "1932        1\n",
      "1260        1\n",
      "5454        1\n",
      "1388        1\n",
      "1452        1\n",
      "1548        1\n",
      "1708        1\n",
      "1868        1\n",
      "1900        1\n",
      "1964        1\n",
      "1678        1\n",
      "4108        1\n",
      "16806       1\n",
      "942         1\n",
      "1102        1\n",
      "1262        1\n",
      "1326        1\n",
      "1454        1\n",
      "1646        1\n",
      "1870        1\n",
      "Name: Clicks, dtype: int64\n",
      "\n",
      "\n",
      "Pivot table: \n",
      "       Clicks          Cost\n",
      "Month                      \n",
      "1      443404  2.613730e+06\n",
      "2      396080  2.534383e+06\n",
      "3      476928  3.185090e+06\n",
      "4      432068  2.728461e+06\n",
      "5      430028  3.073473e+06\n",
      "6      416874  3.499180e+06\n",
      "7      360060  2.587458e+06\n",
      "8      420798  2.731523e+06\n",
      "9      649072  4.177978e+06\n",
      "10     601174  3.912466e+06\n",
      "11     476912  3.205043e+06\n",
      "12     864306  2.866440e+06\n",
      "\n",
      "\n",
      "Graph: number of clicks distributed by Month \n",
      "<seaborn.axisgrid.FacetGrid object at 0x120e04390>\n",
      "\n",
      "\n",
      "Graph: spend distributed by Month \n",
      "<seaborn.axisgrid.FacetGrid object at 0x119275d10>\n",
      "\n",
      "\n"
     ]
    },
    {
     "data": {
      "image/png": "[encoded data removed]",
      "text/plain": [
       "<matplotlib.figure.Figure at 0x120678350>"
      ]
     },
     "metadata": {},
     "output_type": "display_data"
    },
    {
     "data": {
      "image/png": "[encoded data removed]",
      "text/plain": [
       "<matplotlib.figure.Figure at 0x120662f10>"
      ]
     },
     "metadata": {},
     "output_type": "display_data"
    }
   ],
   "source": [
    "\n",
    "ExploratoryAnalysis(search)"
   ]
  },
  {
   "cell_type": "code",
   "execution_count": 66,
   "metadata": {
    "collapsed": false
   },
   "outputs": [
    {
     "data": {
      "text/plain": [
       "(array([  1.54700000e+03,   5.40000000e+01,   2.00000000e+01,\n",
       "          1.30000000e+01,   4.00000000e+00,   1.00000000e+00,\n",
       "          2.00000000e+00,   0.00000000e+00,   1.00000000e+00,\n",
       "          2.00000000e+00]),\n",
       " array([  2.00000000e+00,   2.33400000e+02,   4.64800000e+02,\n",
       "          6.96200000e+02,   9.27600000e+02,   1.15900000e+03,\n",
       "          1.39040000e+03,   1.62180000e+03,   1.85320000e+03,\n",
       "          2.08460000e+03,   2.31600000e+03]),\n",
       " <a list of 10 Patch objects>)"
      ]
     },
     "execution_count": 66,
     "metadata": {},
     "output_type": "execute_result"
    },
    {
     "data": {
      "image/png": "[encoded data removed]",
      "text/plain": [
       "<matplotlib.figure.Figure at 0x11fd062d0>"
      ]
     },
     "metadata": {},
     "output_type": "display_data"
    }
   ],
   "source": [
    "plt.hist(video.Clicks)"
   ]
  },
  {
   "cell_type": "code",
   "execution_count": 67,
   "metadata": {
    "collapsed": false
   },
   "outputs": [
    {
     "data": {
      "text/plain": [
       "(array([ 545.,  181.,  224.,  243.,  245.,   75.,   46.,   49.,   30.,    6.]),\n",
       " array([ 0.69314718,  1.39859215,  2.10403711,  2.80948208,  3.51492704,\n",
       "         4.22037201,  4.92581698,  5.63126194,  6.33670691,  7.04215187,\n",
       "         7.74759684]),\n",
       " <a list of 10 Patch objects>)"
      ]
     },
     "execution_count": 67,
     "metadata": {},
     "output_type": "execute_result"
    },
    {
     "data": {
      "image/png": "[encoded data removed]",
      "text/plain": [
       "<matplotlib.figure.Figure at 0x1186e9890>"
      ]
     },
     "metadata": {},
     "output_type": "display_data"
    }
   ],
   "source": [
    "plt.hist(np.log(video.Clicks))"
   ]
  },
  {
   "cell_type": "code",
   "execution_count": 71,
   "metadata": {
    "collapsed": false
   },
   "outputs": [],
   "source": [
    "    display = display.join(pd.get_dummies(display['Device'],prefix=\"Device\"))\n",
    "    display = display.join(pd.get_dummies(display['Targeting'],prefix=\"Targeting\"))\n",
    "    display = display.join(pd.get_dummies(display['Region'],prefix=\"Region\"))\n",
    "    display = display.join(pd.get_dummies(display['Channel'],prefix=\"Channel\"))\n",
    "    display = display.join(pd.get_dummies(display['Campaign Type'],prefix=\"Campaign Type\"))\n",
    "    display = display.join(pd.get_dummies(display['Month'],prefix=\"Month\"))"
   ]
  },
  {
   "cell_type": "code",
   "execution_count": 72,
   "metadata": {
    "collapsed": true
   },
   "outputs": [],
   "source": [
    "    video = video.join(pd.get_dummies(video['Device'],prefix=\"Device\"))\n",
    "    video = video.join(pd.get_dummies(video['Targeting'],prefix=\"Targeting\"))\n",
    "    video = video.join(pd.get_dummies(video['Region'],prefix=\"Region\"))\n",
    "    video = video.join(pd.get_dummies(video['Channel'],prefix=\"Channel\"))\n",
    "    video = video.join(pd.get_dummies(video['Campaign Type'],prefix=\"Campaign Type\"))\n",
    "    video = video.join(pd.get_dummies(video['Month'],prefix=\"Month\"))"
   ]
  },
  {
   "cell_type": "code",
   "execution_count": 73,
   "metadata": {
    "collapsed": true
   },
   "outputs": [],
   "source": [
    "    search = search.join(pd.get_dummies(search['Device'],prefix=\"Device\"))\n",
    "    search = search.join(pd.get_dummies(search['Targeting'],prefix=\"Targeting\"))\n",
    "    search = search.join(pd.get_dummies(search['Region'],prefix=\"Region\"))\n",
    "    search = search.join(pd.get_dummies(search['Channel'],prefix=\"Channel\"))\n",
    "    search = search.join(pd.get_dummies(search['Campaign Type'],prefix=\"Campaign Type\"))\n",
    "    search = search.join(pd.get_dummies(search['Month'],prefix=\"Month\"))"
   ]
  },
  {
   "cell_type": "code",
   "execution_count": 108,
   "metadata": {
    "collapsed": true
   },
   "outputs": [],
   "source": [
    "from sklearn.model_selection import train_test_split\n",
    "from sklearn import metrics\n",
    "\n",
    "def LinearRegressionResult(data):\n",
    "    X = data.drop(['Month','Clicks','Device','Date','Campaign Type','Media Type','Region','Targeting','Channel'],axis =1 )\n",
    "    y = np.log(data[\"Clicks\"])\n",
    "    X_train, X_test, y_train, y_test = train_test_split(X, y, test_size=0.20, random_state=42)\n",
    "    \n",
    "    model = sm.OLS(y_train, X_train)\n",
    "    results = model.fit()\n",
    "    print 'MSE: ' + str(metrics.mean_squared_error(y_test,results.predict(X_test)))\n",
    "    print(results.summary())\n",
    "    "
   ]
  },
  {
   "cell_type": "code",
   "execution_count": 109,
   "metadata": {
    "collapsed": false
   },
   "outputs": [
    {
     "name": "stdout",
     "output_type": "stream",
     "text": [
      "MSE: 1.95549178368\n",
      "                            OLS Regression Results                            \n",
      "==============================================================================\n",
      "Dep. Variable:                 Clicks   R-squared:                       0.514\n",
      "Model:                            OLS   Adj. R-squared:                  0.514\n",
      "Method:                 Least Squares   F-statistic:                     1016.\n",
      "Date:                Tue, 22 Nov 2016   Prob (F-statistic):               0.00\n",
      "Time:                        22:58:55   Log-Likelihood:                -56867.\n",
      "No. Observations:               32643   AIC:                         1.138e+05\n",
      "Df Residuals:                   32608   BIC:                         1.141e+05\n",
      "Df Model:                          34                                         \n",
      "Covariance Type:            nonrobust                                         \n",
      "=====================================================================================================\n",
      "                                        coef    std err          t      P>|t|      [95.0% Conf. Int.]\n",
      "-----------------------------------------------------------------------------------------------------\n",
      "Cost                                  0.0008   8.37e-06     95.012      0.000         0.001     0.001\n",
      "Device_Desktop                        1.4610      0.034     43.116      0.000         1.395     1.527\n",
      "Device_Mobile                         2.0607      0.041     50.722      0.000         1.981     2.140\n",
      "Device_Tablet                         0.6889      0.034     20.430      0.000         0.623     0.755\n",
      "Device_Unknown                       -2.8539      0.106    -26.933      0.000        -3.062    -2.646\n",
      "Targeting_Display                     0.2268      0.084      2.708      0.007         0.063     0.391\n",
      "Targeting_Reach                       1.5734      0.048     32.997      0.000         1.480     1.667\n",
      "Targeting_Remarketing                -0.4435      0.040    -11.228      0.000        -0.521    -0.366\n",
      "Region_AMS                            0.9493      0.027     35.065      0.000         0.896     1.002\n",
      "Region_APAC                           0.7741      0.028     28.141      0.000         0.720     0.828\n",
      "Region_APAC                          -1.8364      0.073    -25.158      0.000        -1.979    -1.693\n",
      "Region_EMEA                           0.8635      0.025     33.990      0.000         0.814     0.913\n",
      "Region_EMEA                          -1.1564      0.106    -10.920      0.000        -1.364    -0.949\n",
      "Region_Global                         0.8385      0.030     27.950      0.000         0.780     0.897\n",
      "Region_LATAM                          0.9242      0.028     33.328      0.000         0.870     0.979\n",
      "Channel_Bing                         -0.0055      0.106     -0.052      0.959        -0.214     0.203\n",
      "Channel_Google                        1.3622      0.054     25.374      0.000         1.257     1.467\n",
      "Campaign Type_Image                   0.9527      0.047     20.482      0.000         0.862     1.044\n",
      "Campaign Type_In-Market              -0.1963      0.048     -4.081      0.000        -0.291    -0.102\n",
      "Campaign Type_Legacy                 -0.3099      0.032     -9.653      0.000        -0.373    -0.247\n",
      "Campaign Type_Managed                 0.4238      0.044      9.717      0.000         0.338     0.509\n",
      "Campaign Type_Reach                  -0.2171      0.037     -5.902      0.000        -0.289    -0.145\n",
      "Campaign Type_Reach - Image           0.8526      0.043     19.984      0.000         0.769     0.936\n",
      "Campaign Type_Reach - Text           -0.7278      0.044    -16.718      0.000        -0.813    -0.643\n",
      "Campaign Type_Remarketing             0.5214      0.037     13.933      0.000         0.448     0.595\n",
      "Campaign Type_Remarketing - Image     0.8298      0.039     21.450      0.000         0.754     0.906\n",
      "Campaign Type_Remarketing - Text      1.4410      0.053     27.242      0.000         1.337     1.545\n",
      "Campaign Type_Retargeting            -2.2135      0.207    -10.693      0.000        -2.619    -1.808\n",
      "Month_1                               0.6092      0.028     21.580      0.000         0.554     0.665\n",
      "Month_2                               0.2403      0.027      8.961      0.000         0.188     0.293\n",
      "Month_3                               0.0490      0.026      1.909      0.056        -0.001     0.099\n",
      "Month_4                               0.1155      0.026      4.478      0.000         0.065     0.166\n",
      "Month_5                               0.0636      0.026      2.418      0.016         0.012     0.115\n",
      "Month_6                               0.0424      0.026      1.655      0.098        -0.008     0.093\n",
      "Month_7                              -0.0157      0.026     -0.600      0.548        -0.067     0.036\n",
      "Month_8                               0.0640      0.025      2.547      0.011         0.015     0.113\n",
      "Month_9                               0.1111      0.025      4.445      0.000         0.062     0.160\n",
      "Month_10                             -0.0469      0.025     -1.901      0.057        -0.095     0.001\n",
      "Month_11                              0.0077      0.027      0.284      0.776        -0.045     0.061\n",
      "Month_12                              0.1165      0.032      3.694      0.000         0.055     0.178\n",
      "==============================================================================\n",
      "Omnibus:                     3347.429   Durbin-Watson:                   2.009\n",
      "Prob(Omnibus):                  0.000   Jarque-Bera (JB):             7696.736\n",
      "Skew:                          -0.628   Prob(JB):                         0.00\n",
      "Kurtosis:                       5.021   Cond. No.                     1.00e+16\n",
      "==============================================================================\n",
      "\n",
      "Warnings:\n",
      "[1] Standard Errors assume that the covariance matrix of the errors is correctly specified.\n",
      "[2] The smallest eigenvalue is 4.06e-22. This might indicate that there are\n",
      "strong multicollinearity problems or that the design matrix is singular.\n"
     ]
    }
   ],
   "source": [
    "LinearRegressionResult(display)"
   ]
  },
  {
   "cell_type": "code",
   "execution_count": 110,
   "metadata": {
    "collapsed": false
   },
   "outputs": [
    {
     "name": "stdout",
     "output_type": "stream",
     "text": [
      "MSE: 1.20974101206\n",
      "                            OLS Regression Results                            \n",
      "==============================================================================\n",
      "Dep. Variable:                 Clicks   R-squared:                       0.615\n",
      "Model:                            OLS   Adj. R-squared:                  0.615\n",
      "Method:                 Least Squares   F-statistic:                     2124.\n",
      "Date:                Tue, 22 Nov 2016   Prob (F-statistic):               0.00\n",
      "Time:                        22:58:58   Log-Likelihood:                -60548.\n",
      "No. Observations:               39868   AIC:                         1.212e+05\n",
      "Df Residuals:                   39837   BIC:                         1.214e+05\n",
      "Df Model:                          30                                         \n",
      "Covariance Type:            nonrobust                                         \n",
      "=============================================================================================\n",
      "                                coef    std err          t      P>|t|      [95.0% Conf. Int.]\n",
      "---------------------------------------------------------------------------------------------\n",
      "Cost                          0.0003   3.41e-06     80.997      0.000         0.000     0.000\n",
      "Device_Desktop                1.2821      0.040     32.245      0.000         1.204     1.360\n",
      "Device_Mobile                -0.3717      0.041     -9.140      0.000        -0.451    -0.292\n",
      "Device_Tablet                -0.8960      0.040    -22.206      0.000        -0.975    -0.817\n",
      "Device_Unknown                1.9068      0.085     22.531      0.000         1.741     2.073\n",
      "Targeting_Brand               1.3729      0.094     14.670      0.000         1.189     1.556\n",
      "Targeting_NB                  1.3573      0.093     14.518      0.000         1.174     1.540\n",
      "Targeting_Reach              -0.3031      0.082     -3.719      0.000        -0.463    -0.143\n",
      "Targeting_Remarketing        -1.1265      0.488     -2.308      0.021        -2.083    -0.170\n",
      "Targeting_Search              0.6208      0.096      6.459      0.000         0.432     0.809\n",
      "Region_AMS                    0.4333      0.033     13.233      0.000         0.369     0.498\n",
      "Region_APAC                   0.0917      0.033      2.812      0.005         0.028     0.156\n",
      "Region_EMEA                   0.7284      0.033     22.348      0.000         0.665     0.792\n",
      "Region_Global                 0.6088      0.033     18.544      0.000         0.544     0.673\n",
      "Region_LATAM                  0.0589      0.033      1.761      0.078        -0.007     0.125\n",
      "Channel_Bing                 -0.7113      0.060    -11.851      0.000        -0.829    -0.594\n",
      "Channel_Google                0.7257      0.059     12.313      0.000         0.610     0.841\n",
      "Channel_Yahoo Gemini          1.9068      0.085     22.531      0.000         1.741     2.073\n",
      "Campaign Type_Alpha           0.1302      0.065      2.008      0.045         0.003     0.257\n",
      "Campaign Type_Beta            0.0910      0.065      1.402      0.161        -0.036     0.218\n",
      "Campaign Type_Brand          -2.7060      0.104    -26.067      0.000        -2.909    -2.503\n",
      "Campaign Type_DKI             5.2129      0.225     23.148      0.000         4.772     5.654\n",
      "Campaign Type_Gamma           0.9019      0.069     13.155      0.000         0.767     1.036\n",
      "Campaign Type_Legacy          0.5533      0.064      8.602      0.000         0.427     0.679\n",
      "Campaign Type_Non-Brand      -0.8324      0.188     -4.433      0.000        -1.200    -0.464\n",
      "Campaign Type_Reach          -0.3031      0.082     -3.719      0.000        -0.463    -0.143\n",
      "Campaign Type_Remarketing    -1.1265      0.488     -2.308      0.021        -2.083    -0.170\n",
      "Month_1                       0.1933      0.023      8.438      0.000         0.148     0.238\n",
      "Month_2                       0.2205      0.025      8.969      0.000         0.172     0.269\n",
      "Month_3                       0.2356      0.023     10.335      0.000         0.191     0.280\n",
      "Month_4                       0.2554      0.023     11.131      0.000         0.210     0.300\n",
      "Month_5                       0.1670      0.023      7.285      0.000         0.122     0.212\n",
      "Month_6                       0.0160      0.023      0.702      0.483        -0.029     0.061\n",
      "Month_7                      -0.0413      0.022     -1.834      0.067        -0.085     0.003\n",
      "Month_8                       0.0383      0.022      1.758      0.079        -0.004     0.081\n",
      "Month_9                       0.2078      0.021      9.682      0.000         0.166     0.250\n",
      "Month_10                      0.1321      0.022      6.073      0.000         0.089     0.175\n",
      "Month_11                      0.1649      0.023      7.194      0.000         0.120     0.210\n",
      "Month_12                      0.3316      0.022     15.282      0.000         0.289     0.374\n",
      "==============================================================================\n",
      "Omnibus:                     1170.689   Durbin-Watson:                   1.997\n",
      "Prob(Omnibus):                  0.000   Jarque-Bera (JB):             1661.220\n",
      "Skew:                          -0.317   Prob(JB):                         0.00\n",
      "Kurtosis:                       3.773   Cond. No.                     1.00e+16\n",
      "==============================================================================\n",
      "\n",
      "Warnings:\n",
      "[1] Standard Errors assume that the covariance matrix of the errors is correctly specified.\n",
      "[2] The smallest eigenvalue is 1.66e-21. This might indicate that there are\n",
      "strong multicollinearity problems or that the design matrix is singular.\n"
     ]
    }
   ],
   "source": [
    "LinearRegressionResult(search)"
   ]
  },
  {
   "cell_type": "code",
   "execution_count": 111,
   "metadata": {
    "collapsed": false
   },
   "outputs": [
    {
     "name": "stdout",
     "output_type": "stream",
     "text": [
      "MSE: 1.02842711432\n",
      "                            OLS Regression Results                            \n",
      "==============================================================================\n",
      "Dep. Variable:                 Clicks   R-squared:                       0.596\n",
      "Model:                            OLS   Adj. R-squared:                  0.590\n",
      "Method:                 Least Squares   F-statistic:                     95.36\n",
      "Date:                Tue, 22 Nov 2016   Prob (F-statistic):          1.74e-237\n",
      "Time:                        22:58:58   Log-Likelihood:                -1836.3\n",
      "No. Observations:                1315   AIC:                             3715.\n",
      "Df Residuals:                    1294   BIC:                             3823.\n",
      "Df Model:                          20                                         \n",
      "Covariance Type:            nonrobust                                         \n",
      "=============================================================================================\n",
      "                                coef    std err          t      P>|t|      [95.0% Conf. Int.]\n",
      "---------------------------------------------------------------------------------------------\n",
      "Cost                          0.0009   6.08e-05     15.350      0.000         0.001     0.001\n",
      "Device_Desktop                0.7736      0.046     16.790      0.000         0.683     0.864\n",
      "Device_Mobile                 0.0695      0.069      1.008      0.314        -0.066     0.205\n",
      "Device_Tablet                -0.3344      0.049     -6.835      0.000        -0.430    -0.238\n",
      "Targeting_Brand              -0.0952      0.234     -0.407      0.684        -0.554     0.363\n",
      "Targeting_Reach               0.2643      0.154      1.714      0.087        -0.038     0.567\n",
      "Targeting_Remarketing         0.3397      0.073      4.638      0.000         0.196     0.483\n",
      "Region_AMS                   -0.5279      0.068     -7.714      0.000        -0.662    -0.394\n",
      "Region_APAC                   0.3439      0.057      6.049      0.000         0.232     0.455\n",
      "Region_EMEA                  -0.5648      0.068     -8.298      0.000        -0.698    -0.431\n",
      "Region_Global                 1.2577      0.051     24.761      0.000         1.158     1.357\n",
      "Channel_Youtube               0.5088      0.062      8.259      0.000         0.388     0.630\n",
      "Campaign Type_Reach           0.1691      0.091      1.851      0.064        -0.010     0.348\n",
      "Campaign Type_Remarketing    -0.1102      0.156     -0.706      0.480        -0.416     0.196\n",
      "Campaign Type_Video           0.4499      0.105      4.294      0.000         0.244     0.655\n",
      "Month_1                       0.3693      0.192      1.920      0.055        -0.008     0.747\n",
      "Month_2                      -2.6366      0.909     -2.902      0.004        -4.419    -0.854\n",
      "Month_3                       1.0256      0.119      8.653      0.000         0.793     1.258\n",
      "Month_4                       1.0417      0.119      8.785      0.000         0.809     1.274\n",
      "Month_5                       0.8022      0.113      7.091      0.000         0.580     1.024\n",
      "Month_6                       0.0121      0.117      0.104      0.917        -0.217     0.241\n",
      "Month_7                      -0.0106      0.121     -0.087      0.930        -0.248     0.226\n",
      "Month_8                      -0.0029      0.118     -0.025      0.980        -0.234     0.228\n",
      "Month_9                       0.0213      0.111      0.191      0.848        -0.197     0.240\n",
      "Month_10                     -0.0108      0.111     -0.097      0.923        -0.230     0.208\n",
      "Month_11                     -0.6661      0.162     -4.109      0.000        -0.984    -0.348\n",
      "Month_12                      0.5637      0.118      4.780      0.000         0.332     0.795\n",
      "==============================================================================\n",
      "Omnibus:                       43.207   Durbin-Watson:                   2.059\n",
      "Prob(Omnibus):                  0.000   Jarque-Bera (JB):               69.850\n",
      "Skew:                          -0.281   Prob(JB):                     6.79e-16\n",
      "Kurtosis:                       3.979   Cond. No.                     1.00e+16\n",
      "==============================================================================\n",
      "\n",
      "Warnings:\n",
      "[1] Standard Errors assume that the covariance matrix of the errors is correctly specified.\n",
      "[2] The smallest eigenvalue is 3.83e-24. This might indicate that there are\n",
      "strong multicollinearity problems or that the design matrix is singular.\n"
     ]
    }
   ],
   "source": [
    "LinearRegressionResult(video)"
   ]
  },
  {
   "cell_type": "code",
   "execution_count": 35,
   "metadata": {
    "collapsed": true
   },
   "outputs": [],
   "source": [
    "from sklearn.tree import DecisionTreeRegressor\n",
    "from sklearn.model_selection import train_test_split\n",
    "from sklearn import metrics\n",
    "\n",
    "def DecisionTree(data):\n",
    "#     data['Cost'] = np.log(data[\"Cost\"])\n",
    "    X = data.drop(['Month','Clicks','Device','Date','Campaign Type','Media Type','Region','Targeting','Channel'],axis =1 )\n",
    "    y = np.log(data[\"Clicks\"])\n",
    "    X_train, X_test, y_train, y_test = train_test_split(X, y, test_size=0.20, random_state=42)\n",
    "    \n",
    "    dt = DecisionTreeRegressor()\n",
    "    dt.fit(X_train, y_train)\n",
    "    print 'MSE: ' + str(metrics.mean_squared_error(y_test,dt.predict(X_test)))\n",
    "    print 'accuracy = ' + str(dt.score(X_test,y_test))\n",
    "    feature_importances_array = dt.feature_importances_\n",
    "\n",
    "    # Put the features themselves in a list\n",
    "    features_array = X.columns.values \n",
    "\n",
    "    # Turn these into a Data Frame\n",
    "    feature_importances_df = pd.DataFrame({'importances' : feature_importances_array, 'features' : features_array})\n",
    "    \n",
    "#     print feature_importances_df.sort(columns='importances', ascending=False)\n",
    "    return dt"
   ]
  },
  {
   "cell_type": "code",
   "execution_count": 36,
   "metadata": {
    "collapsed": true
   },
   "outputs": [],
   "source": [
    "def DT_predict(data):\n",
    "    dt = DecisionTree(data)\n",
    "    X = data.drop(['Month','Clicks','Device','Date','Campaign Type','Media Type','Region','Targeting','Channel'],axis =1 )\n",
    "    test_data = X[X['Month_12'] == 1]\n",
    "    test_data['predicted_clicks'] = np.exp(dt.predict(test_data))\n",
    "    print 'actual CPC: ' + str(data[data['Month'] == 12]['Cost'].sum()/data[data['Month'] == 12]['Clicks'].sum())\n",
    "    print 'predict CPC: ' + str(test_data['Cost'].sum()/test_data['predicted_clicks'].sum())"
   ]
  },
  {
   "cell_type": "code",
   "execution_count": 37,
   "metadata": {
    "collapsed": false
   },
   "outputs": [
    {
     "name": "stdout",
     "output_type": "stream",
     "text": [
      "MSE: 0.361432138909\n",
      "accuracy = 0.908554000827\n",
      "actual CPC: 0.145915385398\n",
      "predict CPC: 0.145841055423\n"
     ]
    },
    {
     "name": "stderr",
     "output_type": "stream",
     "text": [
      "/anaconda/lib/python2.7/site-packages/ipykernel/__main__.py:5: SettingWithCopyWarning: \n",
      "A value is trying to be set on a copy of a slice from a DataFrame.\n",
      "Try using .loc[row_indexer,col_indexer] = value instead\n",
      "\n",
      "See the caveats in the documentation: http://pandas.pydata.org/pandas-docs/stable/indexing.html#indexing-view-versus-copy\n"
     ]
    }
   ],
   "source": [
    "DT_predict(display)"
   ]
  },
  {
   "cell_type": "code",
   "execution_count": 1,
   "metadata": {
    "collapsed": false
   },
   "outputs": [],
   "source": [
    "from sklearn.ensemble import RandomForestRegressor\n",
    "from sklearn.model_selection import train_test_split\n",
    "from sklearn import metrics\n",
    "\n",
    "def RandomForrest(data):\n",
    "#     data['Cost'] = np.log(data[\"Cost\"])\n",
    "    X = data.drop(['Month','Clicks','Device','Date','Campaign Type','Media Type','Region','Targeting','Channel'],axis =1 )\n",
    "    y = np.log(data[\"Clicks\"])\n",
    "    X_train, X_test, y_train, y_test = train_test_split(X, y, test_size=0.20, random_state=42)\n",
    "    \n",
    "    rf = RandomForestRegressor()\n",
    "    rf.fit(X_train, y_train)\n",
    "#     data['predict_clicks'] = rf.predict(X_test)\n",
    "    print 'MSE: ' + str(metrics.mean_squared_error(y_test,rf.predict(X_test)))\n",
    "    print 'accuracy = ' + str(rf.score(X_test,y_test))    \n",
    "    feature_importances_array = rf.feature_importances_\n",
    "\n",
    "    # Put the features themselves in a list\n",
    "    features_array = X.columns.values \n",
    "\n",
    "    # Turn these into a Data Frame\n",
    "    feature_importances_df = pd.DataFrame({'importances' : feature_importances_array, 'features' : features_array})\n",
    "    \n",
    "#     print feature_importances_df.sort(columns='importances', ascending=False)\n",
    "    return rf"
   ]
  },
  {
   "cell_type": "code",
   "execution_count": 15,
   "metadata": {
    "collapsed": false
   },
   "outputs": [],
   "source": [
    "def RF_predict(data):\n",
    "    rf = RandomForrest(data)\n",
    "    X = data.drop(['Month','Clicks','Device','Date','Campaign Type','Media Type','Region','Targeting','Channel'],axis =1 )\n",
    "    test_data = X[X['Month_12'] == 1]\n",
    "    test_data['predicted_clicks'] = np.exp(rf.predict(test_data))\n",
    "    print 'actual CPC: ' + str(data[data['Month'] == 12]['Cost'].sum()/data[data['Month'] == 12]['Clicks'].sum())\n",
    "    print 'predict CPC: ' + str(test_data['Cost'].sum()/test_data['predicted_clicks'].sum())"
   ]
  },
  {
   "cell_type": "code",
   "execution_count": 16,
   "metadata": {
    "collapsed": false
   },
   "outputs": [
    {
     "name": "stdout",
     "output_type": "stream",
     "text": [
      "MSE: 0.237450535312\n",
      "accuracy = 0.939922604777\n",
      "actual CPC: 0.145915385398\n",
      "predict CPC: 0.15292398824\n"
     ]
    },
    {
     "name": "stderr",
     "output_type": "stream",
     "text": [
      "/anaconda/lib/python2.7/site-packages/ipykernel/__main__.py:5: SettingWithCopyWarning: \n",
      "A value is trying to be set on a copy of a slice from a DataFrame.\n",
      "Try using .loc[row_indexer,col_indexer] = value instead\n",
      "\n",
      "See the caveats in the documentation: http://pandas.pydata.org/pandas-docs/stable/indexing.html#indexing-view-versus-copy\n"
     ]
    }
   ],
   "source": [
    "RF_predict(display)"
   ]
  },
  {
   "cell_type": "code",
   "execution_count": 17,
   "metadata": {
    "collapsed": false
   },
   "outputs": [
    {
     "name": "stdout",
     "output_type": "stream",
     "text": [
      "MSE: 0.272367808788\n",
      "accuracy = 0.900148086576\n",
      "actual CPC: 3.65036467236\n",
      "predict CPC: 3.54211624319\n"
     ]
    },
    {
     "name": "stderr",
     "output_type": "stream",
     "text": [
      "/anaconda/lib/python2.7/site-packages/ipykernel/__main__.py:5: SettingWithCopyWarning: \n",
      "A value is trying to be set on a copy of a slice from a DataFrame.\n",
      "Try using .loc[row_indexer,col_indexer] = value instead\n",
      "\n",
      "See the caveats in the documentation: http://pandas.pydata.org/pandas-docs/stable/indexing.html#indexing-view-versus-copy\n"
     ]
    }
   ],
   "source": [
    "RF_predict(video)"
   ]
  },
  {
   "cell_type": "code",
   "execution_count": 18,
   "metadata": {
    "collapsed": false,
    "scrolled": true
   },
   "outputs": [
    {
     "name": "stdout",
     "output_type": "stream",
     "text": [
      "MSE: 0.238607984449\n",
      "accuracy = 0.924108616528\n",
      "actual CPC: 3.31646463174\n",
      "predict CPC: 3.87391549227\n"
     ]
    },
    {
     "name": "stderr",
     "output_type": "stream",
     "text": [
      "/anaconda/lib/python2.7/site-packages/ipykernel/__main__.py:5: SettingWithCopyWarning: \n",
      "A value is trying to be set on a copy of a slice from a DataFrame.\n",
      "Try using .loc[row_indexer,col_indexer] = value instead\n",
      "\n",
      "See the caveats in the documentation: http://pandas.pydata.org/pandas-docs/stable/indexing.html#indexing-view-versus-copy\n"
     ]
    }
   ],
   "source": [
    "RF_predict(search)"
   ]
  },
  {
   "cell_type": "code",
   "execution_count": null,
   "metadata": {
    "collapsed": true
   },
   "outputs": [],
   "source": []
  },
  {
   "cell_type": "code",
   "execution_count": null,
   "metadata": {
    "collapsed": true
   },
   "outputs": [],
   "source": []
  }
 ],
 "metadata": {
  "anaconda-cloud": {},
  "kernelspec": {
   "display_name": "Python [conda root]",
   "language": "python",
   "name": "conda-root-py"
  },
  "language_info": {
   "codemirror_mode": {
    "name": "ipython",
    "version": 2
   },
   "file_extension": ".py",
   "mimetype": "text/x-python",
   "name": "python",
   "nbconvert_exporter": "python",
   "pygments_lexer": "ipython2",
   "version": "2.7.12"
  }
 },
 "nbformat": 4,
 "nbformat_minor": 0
}
