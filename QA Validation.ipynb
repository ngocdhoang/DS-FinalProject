{
 "cells": [
  {
   "cell_type": "code",
   "execution_count": 1,
   "metadata": {
    "collapsed": true
   },
   "outputs": [],
   "source": [
    "%matplotlib inline\n",
    "import numpy as np\n",
    "import pandas as pd\n",
    "from matplotlib import pyplot as plt\n",
    "import seaborn as sns\n",
    "import sklearn.linear_model\n",
    "import seaborn as sb\n",
    "\n",
    "\n",
    "#Read file\n",
    "data = pd.read_csv('Search data.csv')"
   ]
  },
  {
   "cell_type": "code",
   "execution_count": 17,
   "metadata": {
    "collapsed": false
   },
   "outputs": [],
   "source": [
    "def createDataSet(data):\n",
    "\n",
    "    \n",
    "    #read date column\n",
    "    data['Date'] = pd.to_datetime(data['Date'])\n",
    "    data.set_index('Date', inplace=True)\n",
    "    \n",
    "    #read Year and Month column\n",
    "    data['Year'] = data.index.year\n",
    "    data['Month'] = data.index.month\n"
   ]
  },
  {
   "cell_type": "code",
   "execution_count": 18,
   "metadata": {
    "collapsed": true
   },
   "outputs": [],
   "source": [
    "createDataSet(data)"
   ]
  },
  {
   "cell_type": "code",
   "execution_count": 19,
   "metadata": {
    "collapsed": false
   },
   "outputs": [
    {
     "data": {
      "text/html": [
       "<div>\n",
       "<table border=\"1\" class=\"dataframe\">\n",
       "  <thead>\n",
       "    <tr style=\"text-align: right;\">\n",
       "      <th></th>\n",
       "      <th>Media Type</th>\n",
       "      <th>Device</th>\n",
       "      <th>Targeting</th>\n",
       "      <th>Region</th>\n",
       "      <th>Vendor</th>\n",
       "      <th>Campaign Type</th>\n",
       "      <th>Cost</th>\n",
       "      <th>Clicks</th>\n",
       "      <th>Year</th>\n",
       "      <th>Month</th>\n",
       "    </tr>\n",
       "    <tr>\n",
       "      <th>Date</th>\n",
       "      <th></th>\n",
       "      <th></th>\n",
       "      <th></th>\n",
       "      <th></th>\n",
       "      <th></th>\n",
       "      <th></th>\n",
       "      <th></th>\n",
       "      <th></th>\n",
       "      <th></th>\n",
       "      <th></th>\n",
       "    </tr>\n",
       "  </thead>\n",
       "  <tbody>\n",
       "    <tr>\n",
       "      <th>2009-06-09</th>\n",
       "      <td>Search</td>\n",
       "      <td>Desktop</td>\n",
       "      <td>NB</td>\n",
       "      <td>AMS</td>\n",
       "      <td>Google</td>\n",
       "      <td>Legacy</td>\n",
       "      <td>0.0</td>\n",
       "      <td>0</td>\n",
       "      <td>2009</td>\n",
       "      <td>6</td>\n",
       "    </tr>\n",
       "    <tr>\n",
       "      <th>2009-06-18</th>\n",
       "      <td>Display</td>\n",
       "      <td>Desktop</td>\n",
       "      <td>Reach</td>\n",
       "      <td>AMS</td>\n",
       "      <td>Google</td>\n",
       "      <td>Reach</td>\n",
       "      <td>0.0</td>\n",
       "      <td>0</td>\n",
       "      <td>2009</td>\n",
       "      <td>6</td>\n",
       "    </tr>\n",
       "    <tr>\n",
       "      <th>2009-06-20</th>\n",
       "      <td>Search</td>\n",
       "      <td>Desktop</td>\n",
       "      <td>NB</td>\n",
       "      <td>EMEA</td>\n",
       "      <td>Google</td>\n",
       "      <td>Legacy</td>\n",
       "      <td>0.0</td>\n",
       "      <td>0</td>\n",
       "      <td>2009</td>\n",
       "      <td>6</td>\n",
       "    </tr>\n",
       "    <tr>\n",
       "      <th>2009-06-27</th>\n",
       "      <td>Search</td>\n",
       "      <td>Desktop</td>\n",
       "      <td>NB</td>\n",
       "      <td>AMS</td>\n",
       "      <td>Google</td>\n",
       "      <td>Legacy</td>\n",
       "      <td>0.0</td>\n",
       "      <td>0</td>\n",
       "      <td>2009</td>\n",
       "      <td>6</td>\n",
       "    </tr>\n",
       "    <tr>\n",
       "      <th>2009-06-28</th>\n",
       "      <td>Search</td>\n",
       "      <td>Desktop</td>\n",
       "      <td>NB</td>\n",
       "      <td>AMS</td>\n",
       "      <td>Google</td>\n",
       "      <td>Legacy</td>\n",
       "      <td>0.0</td>\n",
       "      <td>0</td>\n",
       "      <td>2009</td>\n",
       "      <td>6</td>\n",
       "    </tr>\n",
       "  </tbody>\n",
       "</table>\n",
       "</div>"
      ],
      "text/plain": [
       "           Media Type   Device Targeting Region  Vendor Campaign Type  Cost  \\\n",
       "Date                                                                          \n",
       "2009-06-09     Search  Desktop        NB    AMS  Google        Legacy   0.0   \n",
       "2009-06-18    Display  Desktop     Reach    AMS  Google         Reach   0.0   \n",
       "2009-06-20     Search  Desktop        NB   EMEA  Google        Legacy   0.0   \n",
       "2009-06-27     Search  Desktop        NB    AMS  Google        Legacy   0.0   \n",
       "2009-06-28     Search  Desktop        NB    AMS  Google        Legacy   0.0   \n",
       "\n",
       "            Clicks  Year  Month  \n",
       "Date                             \n",
       "2009-06-09       0  2009      6  \n",
       "2009-06-18       0  2009      6  \n",
       "2009-06-20       0  2009      6  \n",
       "2009-06-27       0  2009      6  \n",
       "2009-06-28       0  2009      6  "
      ]
     },
     "execution_count": 19,
     "metadata": {},
     "output_type": "execute_result"
    }
   ],
   "source": [
    "data.head()"
   ]
  },
  {
   "cell_type": "code",
   "execution_count": 47,
   "metadata": {
    "collapsed": false
   },
   "outputs": [],
   "source": [
    "def showValidation(data):\n",
    "    print \"SUMMARY BY YEAR: \\n\" + str(pd.pivot_table(data, index = 'Year', aggfunc = np.sum)) + \"\\n\\n\"\n",
    "    print \"SUMMARY BY MONTH IN 2016: \\n\" + str(pd.pivot_table(data[data['Year'] == 2016], index = 'Month', aggfunc = np.sum)) + \"\\n\\n\"\n",
    "    print \"SUMMARY BY MONTH IN 2015: \\n\" + str(pd.pivot_table(data[data['Year'] == 2015], index = 'Month', aggfunc = np.sum)) + \"\\n\\n\"\n",
    "    print \"by Month: \" +str(data[['Cost']].resample('M').sum().sort_values(by='Cost').tail(10))"
   ]
  },
  {
   "cell_type": "code",
   "execution_count": 55,
   "metadata": {
    "collapsed": true
   },
   "outputs": [],
   "source": [
    "def compare2DataSets(data1,data2):\n",
    "    print \"Sum of cost in 2016 in dataset 1: \" + str(data1[data1.Year == 2016].Cost.sum())\n",
    "    print \"Sum of cost in 2016 in dataset 2: \" + str(data2[data2.Year == 2016].Cost.sum())\n",
    "    if data1[data1.Year == 2016].Cost.sum() == data2[data2.Year == 2016].Cost.sum():\n",
    "        print \"Validation: TRUE\"\n",
    "    else:\n",
    "        print \"Validation: FALSE\"\n",
    "    \n",
    "    print \"\\n\\n\"\n",
    "    \n",
    "    \n",
    "            "
   ]
  },
  {
   "cell_type": "code",
   "execution_count": 56,
   "metadata": {
    "collapsed": false
   },
   "outputs": [
    {
     "name": "stdout",
     "output_type": "stream",
     "text": [
      "Sum of cost in 2016 in dataset 1: 15045083.72\n",
      "Sum of cost in 2016 in dataset 2: 15045083.72\n",
      "Validation: TRUE\n"
     ]
    }
   ],
   "source": [
    "compare2DataSets(data,data)"
   ]
  },
  {
   "cell_type": "code",
   "execution_count": 48,
   "metadata": {
    "collapsed": false
   },
   "outputs": [
    {
     "name": "stdout",
     "output_type": "stream",
     "text": [
      "SUMMARY BY YEAR: \n",
      "        Clicks          Cost    Month\n",
      "Year                                 \n",
      "2009         0  0.000000e+00     3772\n",
      "2010         0  0.000000e+00     8470\n",
      "2011         0  0.000000e+00    16274\n",
      "2012         0  0.000000e+00    24503\n",
      "2013   7787496  7.898229e+06   710045\n",
      "2014   4531314  1.337718e+07  1167529\n",
      "2015  16441722  1.889339e+07  3381129\n",
      "2016  16652422  1.504508e+07  1960431\n",
      "\n",
      "\n",
      "SUMMARY BY MONTH IN 2016: \n",
      "         Clicks          Cost      Year\n",
      "Month                                  \n",
      "1      10012798  1.122217e+06  31735872\n",
      "2        815488  7.048080e+05  25028640\n",
      "3        596994  1.394640e+06  32167296\n",
      "4        570186  1.116195e+06  37797984\n",
      "5        312284  9.168135e+05  32566464\n",
      "6       1071808  1.857848e+06  59361120\n",
      "7        476246  1.112798e+06  57984192\n",
      "8        531572  1.290761e+06  70064064\n",
      "9       1215470  2.744317e+06  90123264\n",
      "10       815392  2.015591e+06  95294304\n",
      "11       234184  7.690952e+05  33935328\n",
      "\n",
      "\n",
      "SUMMARY BY MONTH IN 2015: \n",
      "        Clicks         Cost       Year\n",
      "Month                                 \n",
      "1       550346  1658692.474   37777220\n",
      "2       513420  1554236.354   35048910\n",
      "3       473500  1711640.748   34085740\n",
      "4       488614  1724882.110   33674680\n",
      "5       642282  1912626.506   29781700\n",
      "6       369466  1506804.540   31264740\n",
      "7       334092  1070514.600   34115965\n",
      "8      1632616  1452524.600  170017640\n",
      "9      1447972  1647836.160  202078305\n",
      "10      798612  1387380.820  172131375\n",
      "11      599266  1120207.320   28228135\n",
      "12     8591536  2146047.740   56847180\n",
      "\n",
      "\n",
      "by Month:                     Cost\n",
      "Date                    \n",
      "2015-09-30  1.647836e+06\n",
      "2015-01-31  1.658692e+06\n",
      "2015-03-31  1.711641e+06\n",
      "2015-04-30  1.724882e+06\n",
      "2014-11-30  1.743237e+06\n",
      "2016-06-30  1.857847e+06\n",
      "2015-05-31  1.912627e+06\n",
      "2016-10-31  2.015591e+06\n",
      "2015-12-31  2.146048e+06\n",
      "2016-09-30  2.744317e+06\n"
     ]
    }
   ],
   "source": [
    "showValidation(data)"
   ]
  },
  {
   "cell_type": "raw",
   "metadata": {},
   "source": []
  }
 ],
 "metadata": {
  "anaconda-cloud": {},
  "kernelspec": {
   "display_name": "Python [Root]",
   "language": "python",
   "name": "Python [Root]"
  },
  "language_info": {
   "codemirror_mode": {
    "name": "ipython",
    "version": 2
   },
   "file_extension": ".py",
   "mimetype": "text/x-python",
   "name": "python",
   "nbconvert_exporter": "python",
   "pygments_lexer": "ipython2",
   "version": "2.7.12"
  }
 },
 "nbformat": 4,
 "nbformat_minor": 0
}
